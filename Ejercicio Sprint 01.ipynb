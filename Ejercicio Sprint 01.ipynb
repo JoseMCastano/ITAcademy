{
 "cells": [
  {
   "cell_type": "markdown",
   "id": "ae2156a2",
   "metadata": {},
   "source": [
    "# Programa sprint 01\n",
    "## Creado por José Manuel"
   ]
  },
  {
   "cell_type": "markdown",
   "id": "03d4a027",
   "metadata": {},
   "source": [
    "Programa que realiza las siguientes **funciones**:\n",
    "1. Genera números hasta el 3\n",
    "2. Calcula el *doble* de cada número\n",
    "3. Imprime el número y su doble     "
   ]
  },
  {
   "cell_type": "code",
   "execution_count": 9,
   "id": "bcd9282d",
   "metadata": {
    "scrolled": true
   },
   "outputs": [
    {
     "name": "stdout",
     "output_type": "stream",
     "text": [
      "0 0\n",
      "1 2\n",
      "2 4\n",
      "3 6\n"
     ]
    }
   ],
   "source": [
    "for i in range(4):\n",
    "    print(i, i*2)\n"
   ]
  },
  {
   "cell_type": "markdown",
   "id": "f7890207",
   "metadata": {},
   "source": [
    "Puedes consultar la web: (https://www.w3schools.com)"
   ]
  },
  {
   "cell_type": "code",
   "execution_count": 7,
   "id": "ce067c0a",
   "metadata": {},
   "outputs": [
    {
     "data": {
      "image/png": "[encoded data removed]",
      "text/plain": [
       "<IPython.core.display.Image object>"
      ]
     },
     "execution_count": 7,
     "metadata": {},
     "output_type": "execute_result"
    }
   ],
   "source": [
    "from IPython.display import Image\n",
    "Image(\"C://Users/joseb/Documents/Data Science/Sprints/Img/logo.png\")"
   ]
  },
  {
   "cell_type": "code",
   "execution_count": null,
   "id": "5ef23e84",
   "metadata": {},
   "outputs": [],
   "source": []
  }
 ],
 "metadata": {
  "kernelspec": {
   "display_name": "Python 3 (ipykernel)",
   "language": "python",
   "name": "python3"
  },
  "language_info": {
   "codemirror_mode": {
    "name": "ipython",
    "version": 3
   },
   "file_extension": ".py",
   "mimetype": "text/x-python",
   "name": "python",
   "nbconvert_exporter": "python",
   "pygments_lexer": "ipython3",
   "version": "3.9.7"
  }
 },
 "nbformat": 4,
 "nbformat_minor": 5
}
