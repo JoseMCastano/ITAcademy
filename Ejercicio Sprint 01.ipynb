{
 "cells": [
  {
   "cell_type": "markdown",
   "id": "10771975",
   "metadata": {},
   "source": [
    "# Programa sprint 01\n",
    "## Creado por José Manuel"
   ]
  },
  {
   "cell_type": "markdown",
   "id": "d0ebc423",
   "metadata": {},
   "source": [
    "Bucle **sencillo** para probar el entorno"
   ]
  },
  {
   "cell_type": "markdown",
   "id": "03d4a027",
   "metadata": {},
   "source": [
    "Programa que realiza las siguientes **funciones**:\n",
    "- Genera números hasta el 2\n",
    "- Calcula n^2^    "
   ]
  },
  {
   "cell_type": "code",
   "execution_count": 8,
   "id": "bcd9282d",
   "metadata": {
    "scrolled": true
   },
   "outputs": [
    {
     "name": "stdout",
     "output_type": "stream",
     "text": [
      "0\n",
      "1\n",
      "2\n"
     ]
    }
   ],
   "source": [
    "for i in range(3):\n",
    "    print(i)\n"
   ]
  },
  {
   "cell_type": "markdown",
   "id": "f7890207",
   "metadata": {},
   "source": [
    "Puedes consultar la web: (https://www.w3schools.com)"
   ]
  },
  {
   "cell_type": "markdown",
   "id": "eaf3f558",
   "metadata": {},
   "source": [
    "![foto](Documents/Data Science/IMG_1877.JPG)"
   ]
  },
  {
   "cell_type": "code",
   "execution_count": null,
   "id": "ce067c0a",
   "metadata": {},
   "outputs": [],
   "source": []
  }
 ],
 "metadata": {
  "kernelspec": {
   "display_name": "Python 3 (ipykernel)",
   "language": "python",
   "name": "python3"
  },
  "language_info": {
   "codemirror_mode": {
    "name": "ipython",
    "version": 3
   },
   "file_extension": ".py",
   "mimetype": "text/x-python",
   "name": "python",
   "nbconvert_exporter": "python",
   "pygments_lexer": "ipython3",
   "version": "3.9.7"
  }
 },
 "nbformat": 4,
 "nbformat_minor": 5
}
