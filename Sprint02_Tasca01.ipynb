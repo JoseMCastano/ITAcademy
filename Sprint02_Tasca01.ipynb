{
 "cells": [
  {
   "cell_type": "markdown",
   "id": "473909b4",
   "metadata": {},
   "source": [
    "# S02 T01: Estructura de dades\n",
    "## By José Manuel Castaño"
   ]
  },
  {
   "cell_type": "markdown",
   "id": "0ccc5034",
   "metadata": {},
   "source": [
    "## - Exercici 1\n",
    "\n",
    "Crea una llista que agrupi els mesos de l’any en trimestres (1T: Gener, Febrer i Març, 2T: Abril, Maig, Juny...), és a dir, una llista amb 4 llistes dins."
   ]
  },
  {
   "cell_type": "code",
   "execution_count": 2,
   "id": "baaa8e02",
   "metadata": {},
   "outputs": [],
   "source": [
    "mesos = [['gener', 'febrer', 'març'], ['abril', 'maig', 'juny'], ['juliol', 'agost', 'setembre'], ['octubre', 'novembre', 'decembre']]"
   ]
  },
  {
   "cell_type": "markdown",
   "id": "dbe22ab2",
   "metadata": {},
   "source": [
    "## - Exercici 2\n",
    "\n",
    "Crea un codi que et permeti accedir a:\n",
    "\n",
    "    - El segon mes del primer trimestre\n",
    "    - Els mesos del primer trimestre\n",
    "    - Setembre i octubre"
   ]
  },
  {
   "cell_type": "code",
   "execution_count": 5,
   "id": "3bbde6b7",
   "metadata": {},
   "outputs": [
    {
     "name": "stdout",
     "output_type": "stream",
     "text": [
      "El segon mes del primer trimestre es: febrer\n",
      "Els mesos del primer trimestre son: ['gener', 'febrer', 'març']\n",
      "setembre\n",
      "octubre\n"
     ]
    }
   ],
   "source": [
    "print(\"El segon mes del primer trimestre es: {0}\".format(mesos[0][1]))\n",
    "print(\"Els mesos del primer trimestre son: {0}\".format(mesos[0]))\n",
    "print(mesos[2][2])\n",
    "print(mesos[3][0])"
   ]
  },
  {
   "cell_type": "markdown",
   "id": "5597e49e",
   "metadata": {},
   "source": [
    "## Exercici 3\n",
    "\n",
    "Crea una llista amb nombres desordenats i respon a les següents preguntes:\n",
    "\n",
    "    Quants números hi ha?\n",
    "    Quantes vegades apareix el número 3\n",
    "    Quantes vegades apareixen els nombres 3 i 4?\n",
    "    Quin és el número més gran?\n",
    "    Quins són els 3 números més petits?\n",
    "    Quin és el rang d’aquesta llista?\n"
   ]
  },
  {
   "cell_type": "code",
   "execution_count": 6,
   "id": "be9b0582",
   "metadata": {},
   "outputs": [
    {
     "name": "stdout",
     "output_type": "stream",
     "text": [
      "[17, 8, 14, 0, 19, 13, 2, 7, 17, 16, 15, 11, 13, 8, 8, 2, 13, 17, 1]\n",
      "La llista conté 19 números\n",
      "El número 3 apareix 0 vegades\n",
      "Els nombres 3 i 4 apareixen 0 vegades\n",
      "El número més gran és el 19\n",
      "Els 3 números más petits són: [0, 1, 2]\n",
      "El rang és: 19\n"
     ]
    }
   ],
   "source": [
    "from numpy import random\n",
    "total_num = random.randint(10,30)\n",
    "llista=[random.randint(20)for i in range(total_num)]\n",
    "print(llista)\n",
    "print(\"La llista conté {0} números\".format(len(llista)))\n",
    "print(\"El número 3 apareix {0} vegades\".format(llista.count(3)))\n",
    "print(\"Els nombres 3 i 4 apareixen {0} vegades\".format(llista.count(3) + llista.count(4)))\n",
    "print(\"El número més gran és el {0}\".format(max(llista)))\n",
    "\n",
    "#Busquem els 3 números més petits\n",
    "llista.sort()\n",
    "petits =[llista[0]]\n",
    "i=1\n",
    "n=1\n",
    "while n<3 and i< len(llista):\n",
    "    if llista[i] != llista[i-1]:\n",
    "        petits.append(llista[i])\n",
    "        n+=1\n",
    "    i+=1\n",
    "print(\"Els 3 números más petits són: {0}\".format(petits))\n",
    "print(\"El rang és: {0}\".format(max(llista) - min(llista)))"
   ]
  },
  {
   "cell_type": "markdown",
   "id": "646936c1",
   "metadata": {},
   "source": [
    "## - Exercici 4\n",
    "\n",
    "Crea un diccionari de la següent forma i respon a les preguntes:\n",
    "\n",
    "compra = { \"Pomes\" : {\"Qty\": 5, \"€\": 0.42}, \"Peres\" : {\"Qty\": 3, \"€\": 0.66} }\n",
    "\n",
    "    Afegeix alguna fruita més\n",
    "    Quant han costat les peres en total?\n",
    "    Quantes fruites hem comprat en total?\n",
    "    Quina és la fruita més cara?"
   ]
  },
  {
   "cell_type": "code",
   "execution_count": 71,
   "id": "8b37aaad",
   "metadata": {},
   "outputs": [
    {
     "name": "stdout",
     "output_type": "stream",
     "text": [
      "Les peres han costat: 1.98 €\n",
      "El total de fruites comprades és: 15\n",
      "La fruita més cara es: Taronges\n"
     ]
    }
   ],
   "source": [
    "compra = { \"Pomes\" : {\"Qty\": 5, \"€\": 0.42}, \"Peres\" : {\"Qty\": 3, \"€\": 0.66} }\n",
    "\n",
    "compra[\"Taronges\"]={\"Qty\":7, \"€\":0.79}   #Afegeixo Taronges\n",
    "\n",
    "print(\"Les peres han costat: {0} €\".format(compra[\"Peres\"][\"Qty\"] * compra[\"Peres\"][\"€\"]))\n",
    "\n",
    "#Calcul del total del peces de fruita comprades\n",
    "cant=0\n",
    "for key in compra:\n",
    "    cant+= compra[key][\"Qty\"]\n",
    "print(\"El total de fruites comprades és: {0}\".format(cant))\n",
    "\n",
    "#Càlcul fruita més cara\n",
    "preu_max = 0\n",
    "for key in compra:\n",
    "    if compra[key][\"€\"]> preu_max:\n",
    "        preu_max = compra[key][\"€\"]\n",
    "        fruita_mes_cara = key\n",
    "print(\"La fruita més cara es: {0}\".format(fruita_mes_cara))"
   ]
  },
  {
   "cell_type": "code",
   "execution_count": null,
   "id": "ff5c4465",
   "metadata": {},
   "outputs": [],
   "source": []
  }
 ],
 "metadata": {
  "kernelspec": {
   "display_name": "Python 3 (ipykernel)",
   "language": "python",
   "name": "python3"
  },
  "language_info": {
   "codemirror_mode": {
    "name": "ipython",
    "version": 3
   },
   "file_extension": ".py",
   "mimetype": "text/x-python",
   "name": "python",
   "nbconvert_exporter": "python",
   "pygments_lexer": "ipython3",
   "version": "3.9.7"
  }
 },
 "nbformat": 4,
 "nbformat_minor": 5
}
