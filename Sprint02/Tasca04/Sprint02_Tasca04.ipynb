{
 "cells": [
  {
   "cell_type": "markdown",
   "id": "215e08dd",
   "metadata": {},
   "source": [
    "# Sprint 02. Tasca 04\n",
    "## By José Manuel Castaño"
   ]
  },
  {
   "cell_type": "markdown",
   "id": "9b1d2157",
   "metadata": {},
   "source": [
    "## Exercici 1\n",
    "\n",
    "Crea una funció que donat un Array d’una dimensió, et faci un resum estadístic bàsic de les dades. Si detecta que l’array té més d’una dimensió, ha de mostrar un missatge d’error."
   ]
  },
  {
   "cell_type": "code",
   "execution_count": 6,
   "id": "ba9e50ad",
   "metadata": {},
   "outputs": [
    {
     "name": "stdout",
     "output_type": "stream",
     "text": [
      "[18 10  0 17  4 19 13 10 14  0 10  3 10  7  4 15 14 15 15  6]\n",
      "El tamany de la mostra es de 20\n",
      "El valor màxim és: 19\n",
      "El valor mínim és: 0\n",
      "La mitjana és: 10.2\n",
      "La mediana és: 10.0\n",
      "La desviació estàndard és: 5.7236352085016735\n",
      "La variancia és: 32.76\n",
      "El percentil 75 és: 15.0\n"
     ]
    }
   ],
   "source": [
    "import numpy as np\n",
    "from numpy import random\n",
    "\n",
    "def resum_estadistic(arr):\n",
    "    if arr.ndim != 1:\n",
    "        print(\"Error. La array suministrada té més d'una dimensió\")\n",
    "        return\n",
    "    print(\"El tamany de la mostra es de {0}\".format(len(arr)))\n",
    "    print(\"El valor màxim és: {0}\".format(np.max(arr)))\n",
    "    print(\"El valor mínim és: {0}\".format(np.min(arr)))\n",
    "    print(\"La mitjana és: {0}\".format(np.mean(arr)))\n",
    "    print(\"La mediana és: {0}\".format(np.median(arr)))\n",
    "    print(\"La desviació estàndard és: {0}\".format(np.std(arr)))\n",
    "    print(\"La variancia és: {0}\".format(np.var(arr)))\n",
    "    print(\"El percentil 75 és: {0}\".format(np.percentile(arr,75)))\n",
    "    return\n",
    "\n",
    "#Crea array de 20 enters aleatoris entre 0 i 20\n",
    "arr = np.array([random.randint(20)for i in range(20)], dtype ='int64')\n",
    "print(arr)\n",
    "\n",
    "resum_estadistic(arr)    #Crida a la funció resum_estadistic\n"
   ]
  },
  {
   "cell_type": "markdown",
   "id": "17466dc9",
   "metadata": {},
   "source": [
    "## Exercici 2\n",
    "\n",
    "Crea una funció que et generi un quadrat NxN de nombres aleatoris entre el 0 i el 100."
   ]
  },
  {
   "cell_type": "code",
   "execution_count": 9,
   "id": "a40ca37a",
   "metadata": {},
   "outputs": [
    {
     "data": {
      "text/plain": [
       "array([[76, 61, 32, 16, 19],\n",
       "       [52, 89, 18, 57,  1],\n",
       "       [35, 71, 88, 72, 46],\n",
       "       [35, 56,  6, 13, 96],\n",
       "       [ 1, 33, 49, 70,  9]])"
      ]
     },
     "execution_count": 9,
     "metadata": {},
     "output_type": "execute_result"
    }
   ],
   "source": [
    "def matriu_nxn(n):\n",
    "    arr = np.random.randint(0, 100, (n,n))\n",
    "    matriu = arr.reshape(n,n)\n",
    "    return matriu\n",
    "\n",
    "matriu_nxn(5)   #Crida a la funció matriu_nxn\n",
    "    "
   ]
  },
  {
   "cell_type": "markdown",
   "id": "f9d1a0dd",
   "metadata": {},
   "source": [
    "## Exercici 3\n",
    "\n",
    "Crea una funció que donada una taula de dues dimensions, et calculi els totals per fila i els totals per columna. "
   ]
  },
  {
   "cell_type": "code",
   "execution_count": 37,
   "id": "f26f583d",
   "metadata": {},
   "outputs": [
    {
     "name": "stdout",
     "output_type": "stream",
     "text": [
      "[[65 88 28 36 68]\n",
      " [78 50 60 45 98]\n",
      " [86 90 32 66 97]\n",
      " [29 97 17 79 47]\n",
      " [12 30 10 99 62]]\n",
      "Totals per fila: [285 331 371 269 213]\n",
      "Totals per columna: [270 355 147 325 372]\n"
     ]
    }
   ],
   "source": [
    "def totals_matriu(matriu):\n",
    "    print(\"Totals per fila: {0}\".format(matriu.sum(axis=1)))\n",
    "    print(\"Totals per columna: {0}\".format(matriu.sum(axis=0)))\n",
    "\n",
    "matriu = matriu_nxn(5)   #Crida a la funció matriu_nxn de l'exercisi 2 per tal de generar la matriu\n",
    "print(matriu)\n",
    "totals_matriu(matriu)    #Crida a la funció totals_matriu\n"
   ]
  },
  {
   "cell_type": "markdown",
   "id": "7f9faefa",
   "metadata": {},
   "source": [
    "## - Exercici 4\n",
    "\n",
    "Implementa manualment una funció que calculi el coeficient de correlació. Informa’t-en sobre els seus usos i interpretació."
   ]
  },
  {
   "cell_type": "code",
   "execution_count": 16,
   "id": "0ec03fcc",
   "metadata": {},
   "outputs": [
    {
     "name": "stdout",
     "output_type": "stream",
     "text": [
      "-0.758591524376155\n",
      "Calculat amb la funció np.corrcoef\n",
      "[[ 1.         -0.75859152]\n",
      " [-0.75859152  1.        ]]\n"
     ]
    }
   ],
   "source": [
    "arr1 = np.array([5,7,8,7,2,17,2,9,4,11,12,9,6])\n",
    "arr2 = np.array([99,86,87,88,111,86,103,87,94,78,77,85,86])\n",
    "\n",
    "def coefcorrelacio(variable1, variable2):\n",
    "    mean1 = variable1.mean()        #Calcula mitja de la variable1\n",
    "    mean2 = variable2.mean()        #Calcula mitja de la variable2\n",
    "    \n",
    "    dif1 = variable1 - mean1        #Calcula la diferencia entre la variable1 i la seva mitja\n",
    "    dif2 = variable2 - mean2        #Calcula la diferencia entre la variable2 i la seva mitja\n",
    "    \n",
    "    covarianza = sum(dif1*dif2)/(len(dif1)-1)          #Calcula la covariança\n",
    "    varianza1 = (sum(dif1*dif1)/(len(dif1)-1))**0.5     #Calcula la variança 1\n",
    "    varianza2 = (sum(dif2*dif2)/(len(dif2)-1))**0.5     #Calcula la variança 2\n",
    "    \n",
    "    return covarianza/(varianza1*varianza2)\n",
    "    \n",
    "print(coefcorrelacio(arr1, arr2))\n",
    "print (\"Calculat amb la funció np.corrcoef\")\n",
    "print (np.corrcoef(x, y))"
   ]
  },
  {
   "cell_type": "code",
   "execution_count": null,
   "id": "6a6198c2",
   "metadata": {},
   "outputs": [],
   "source": []
  },
  {
   "cell_type": "code",
   "execution_count": null,
   "id": "c89af212",
   "metadata": {},
   "outputs": [],
   "source": []
  }
 ],
 "metadata": {
  "kernelspec": {
   "display_name": "Python 3 (ipykernel)",
   "language": "python",
   "name": "python3"
  },
  "language_info": {
   "codemirror_mode": {
    "name": "ipython",
    "version": 3
   },
   "file_extension": ".py",
   "mimetype": "text/x-python",
   "name": "python",
   "nbconvert_exporter": "python",
   "pygments_lexer": "ipython3",
   "version": "3.9.7"
  }
 },
 "nbformat": 4,
 "nbformat_minor": 5
}
