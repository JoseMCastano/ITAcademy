{
 "cells": [
  {
   "cell_type": "markdown",
   "id": "aea3eba4",
   "metadata": {},
   "source": [
    "# Sprint 02. Tasca 03\n",
    "## By José Manuel Castaño"
   ]
  },
  {
   "cell_type": "markdown",
   "id": "5c577af7",
   "metadata": {},
   "source": [
    "## - Exercici 1\n",
    "\n",
    "L'exercici consisteix a crear un programa que et classifiqui una variable numèrica en funció de l’escala Suspès/Aprovat/Notable/Excel·lent. "
   ]
  },
  {
   "cell_type": "code",
   "execution_count": 6,
   "id": "22cd002a",
   "metadata": {},
   "outputs": [
    {
     "name": "stdout",
     "output_type": "stream",
     "text": [
      "Excel.lent\n"
     ]
    }
   ],
   "source": [
    "x = 9.5\n",
    "\n",
    "if x <5:\n",
    "    resultat = \"Supès\"\n",
    "elif x <7:\n",
    "    resultat = \"Aprovat\"\n",
    "elif x < 9:\n",
    "    resultat = \"Notable\"\n",
    "else:\n",
    "    resultat = \"Excel.lent\"\n",
    "print(resultat)"
   ]
  },
  {
   "cell_type": "markdown",
   "id": "67acda69",
   "metadata": {},
   "source": [
    "## Exercici 2\n",
    "\n",
    "Utilitzant el següent tutorial Programiz: Python Input, Output and Import crea un programa que et pregunti dos números. T’ha de mostrar un missatge dient si el primer és més gran, el segon és més gran o són iguals."
   ]
  },
  {
   "cell_type": "code",
   "execution_count": 14,
   "id": "5704d0b7",
   "metadata": {},
   "outputs": [
    {
     "name": "stdout",
     "output_type": "stream",
     "text": [
      "Dona'm número 1: 4\n",
      "Dona'm número 2: 4\n",
      "El número 1 i el número 2 són iguals\n"
     ]
    }
   ],
   "source": [
    "num1 = int(input(\"Dona'm número 1: \"))\n",
    "num2 = int(input(\"Dona'm número 2: \"))\n",
    "if num1 > num2:\n",
    "    print (\"El número 1 és més gran que el número 2\")\n",
    "elif num2 > num1:\n",
    "    print (\"El número 2 és més gran que el número 1\")\n",
    "else:\n",
    "    print (\"El número 1 i el número 2 són iguals\")"
   ]
  },
  {
   "cell_type": "markdown",
   "id": "d3185037",
   "metadata": {},
   "source": [
    "## Exercici 3\n",
    "\n",
    "Crea un programa que et pregunti el teu nom, i et demani un número. Si el número és 0, hauria de mostrar un missatge d’error. En cas contrari, hauria de mostrar el nom repetit tants cops com indiqui el número. Per exemple, “Joan Joan Joan”."
   ]
  },
  {
   "cell_type": "code",
   "execution_count": 31,
   "id": "0d069a6f",
   "metadata": {},
   "outputs": [
    {
     "name": "stdout",
     "output_type": "stream",
     "text": [
      "Digues el teu nom: Joan\n",
      "Digues un número: 4\n",
      "Joan Joan Joan Joan \n"
     ]
    }
   ],
   "source": [
    "nom = input(\"Digues el teu nom: \")\n",
    "num = int(input(\"Digues un número: \"))\n",
    "if num <= 0:\n",
    "    print(\"Error, el número ha de ser més gran que 0\")\n",
    "else:\n",
    "    print((nom + \" \") * num)"
   ]
  },
  {
   "cell_type": "markdown",
   "id": "38c776ef",
   "metadata": {},
   "source": [
    "## Exercici 4\n",
    "\n",
    "Crea un programa que donada una llista qualsevol, et digui si es simètrica o no. Si ho és, que et digui quants elements té."
   ]
  },
  {
   "cell_type": "code",
   "execution_count": 46,
   "id": "3841c582",
   "metadata": {},
   "outputs": [
    {
     "name": "stdout",
     "output_type": "stream",
     "text": [
      "La llista és simètrica\n",
      "La llista té 6 elements\n"
     ]
    }
   ],
   "source": [
    "llista = [1, 2, 3, 3, 2, 1]\n",
    "llista_inversa = llista.copy()\n",
    "llista_inversa.reverse()             #Mètode per invertir la llista\n",
    "if llista == llista_inversa:         #La llista es simètrica si coincideix amb la seva inversa\n",
    "    print (\"La llista és simètrica\")\n",
    "    print (\"La llista té {0} elements\".format(len(llista)))\n",
    "else:\n",
    "    print(\"La llista no és simètrica\")\n"
   ]
  },
  {
   "cell_type": "markdown",
   "id": "c64de73e",
   "metadata": {},
   "source": [
    "## - Exercici 5\n",
    "\n",
    "Crea un programa que donada una llista, et digui quants números coincideixen amb la seva posició. Per exemple [3,4,2,0,2,3,6] el 2 i el 6 coincideixen."
   ]
  },
  {
   "cell_type": "code",
   "execution_count": 51,
   "id": "505efff4",
   "metadata": {},
   "outputs": [
    {
     "name": "stdout",
     "output_type": "stream",
     "text": [
      "Els números que coincideixen amb la seva posició són: [2, 6, 7]\n"
     ]
    }
   ],
   "source": [
    "llista = [3,4,2,0,2,3,6, 7]\n",
    "coincidents = []\n",
    "for i,v in enumerate(llista):\n",
    "    if i == v:\n",
    "        coincidents.append(v)\n",
    "print (\"Els números que coincideixen amb la seva posició són: {0}\".format(coincidents))"
   ]
  },
  {
   "cell_type": "code",
   "execution_count": null,
   "id": "79cbb887",
   "metadata": {},
   "outputs": [],
   "source": []
  }
 ],
 "metadata": {
  "kernelspec": {
   "display_name": "Python 3 (ipykernel)",
   "language": "python",
   "name": "python3"
  },
  "language_info": {
   "codemirror_mode": {
    "name": "ipython",
    "version": 3
   },
   "file_extension": ".py",
   "mimetype": "text/x-python",
   "name": "python",
   "nbconvert_exporter": "python",
   "pygments_lexer": "ipython3",
   "version": "3.9.7"
  }
 },
 "nbformat": 4,
 "nbformat_minor": 5
}
