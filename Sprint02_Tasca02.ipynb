{
 "cells": [
  {
   "cell_type": "markdown",
   "id": "4916f9b7",
   "metadata": {},
   "source": [
    "# Sprint 02. Tasca 01\n",
    "## By José Manuel Castaño"
   ]
  },
  {
   "cell_type": "markdown",
   "id": "54603f0b",
   "metadata": {},
   "source": [
    "## Exercici 1\n",
    "\n",
    "Crea un np.array d'una dimensió, que inclogui l'almenys 8 nombres sencers, data type int64. Mostra la dimensió i la forma de la matriu."
   ]
  },
  {
   "cell_type": "code",
   "execution_count": 2,
   "id": "ce52d26c",
   "metadata": {},
   "outputs": [
    {
     "name": "stdout",
     "output_type": "stream",
     "text": [
      "[ 4  7 13 11 16 12 18  6]\n",
      "La dimensió de la array és: 1\n",
      "la forma de la array és: (8,)\n"
     ]
    }
   ],
   "source": [
    "import numpy as np\n",
    "from numpy import random\n",
    "arr = np.array([random.randint(20)for i in range(8)], dtype ='int64')\n",
    "print(arr)\n",
    "print(\"La dimensió de la array és: {0}\".format(arr.ndim))\n",
    "print(\"la forma de la array és: {0}\".format(arr.shape))"
   ]
  },
  {
   "cell_type": "markdown",
   "id": "c88b766f",
   "metadata": {},
   "source": [
    "## Exercici 2\n",
    "\n",
    "De la matriu de l'exercici 1, calcula el valor mitjà dels valors introduïts i resta la mitjana resultant de cada un dels valors de la matriu."
   ]
  },
  {
   "cell_type": "code",
   "execution_count": 10,
   "id": "73e9c3e4",
   "metadata": {},
   "outputs": [
    {
     "data": {
      "text/plain": [
       "array([-1.125, -1.125,  2.875,  2.875,  0.875,  2.875, -6.125, -1.125])"
      ]
     },
     "execution_count": 10,
     "metadata": {},
     "output_type": "execute_result"
    }
   ],
   "source": [
    "mitjana = arr.mean()\n",
    "arr - mitjana\n"
   ]
  },
  {
   "cell_type": "markdown",
   "id": "b46358f0",
   "metadata": {},
   "source": [
    "## Exercici 3\n",
    "\n",
    "Crea una matriu bidimensional amb una forma de 5 x 5. Extreu el valor màxim de la matriu, i els valors màxims de cadascun dels seus eixos."
   ]
  },
  {
   "cell_type": "code",
   "execution_count": 5,
   "id": "31eeab3f",
   "metadata": {},
   "outputs": [
    {
     "name": "stdout",
     "output_type": "stream",
     "text": [
      "[[27 12 42 25 37]\n",
      " [38 38 43 32 30]\n",
      " [30 28 26  2 40]\n",
      " [46  5 44 18 30]\n",
      " [32 18 24 15 29]]\n",
      "El valor màxim de la matriu és: 46\n",
      "Els valors màxims de l'eix 0 és: [46 38 44 32 40]\n",
      "Els valors màxims de l'eix 1 és: [42 43 40 46 32]\n"
     ]
    }
   ],
   "source": [
    "matriu = random.randint(0, 50, (5,5))\n",
    "print(matriu)\n",
    "\n",
    "print(\"El valor màxim de la matriu és: {0}\".format(matriu.max()))\n",
    "\n",
    "print(\"Els valors màxims de l'eix 0 és: {0}\".format(matriu.max(axis=0)))\n",
    "\n",
    "print(\"Els valors màxims de l'eix 1 és: {0}\".format(matriu.max(axis=1)))\n",
    "\n"
   ]
  },
  {
   "cell_type": "code",
   "execution_count": null,
   "id": "88582c68",
   "metadata": {},
   "outputs": [],
   "source": []
  }
 ],
 "metadata": {
  "kernelspec": {
   "display_name": "Python 3 (ipykernel)",
   "language": "python",
   "name": "python3"
  },
  "language_info": {
   "codemirror_mode": {
    "name": "ipython",
    "version": 3
   },
   "file_extension": ".py",
   "mimetype": "text/x-python",
   "name": "python",
   "nbconvert_exporter": "python",
   "pygments_lexer": "ipython3",
   "version": "3.9.7"
  }
 },
 "nbformat": 4,
 "nbformat_minor": 5
}
