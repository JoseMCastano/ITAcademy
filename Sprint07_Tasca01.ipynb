{
 "cells": [
  {
   "cell_type": "markdown",
   "id": "eebba483",
   "metadata": {},
   "source": [
    "# Sprint 06. Tasca 01. Test d'hipòtesi\n",
    "## By José Manuel Castaño"
   ]
  },
  {
   "cell_type": "markdown",
   "id": "8eb7bff8",
   "metadata": {},
   "source": [
    "## - Exercici 1\n",
    "\n",
    "Agafa un conjunt de dades de tema esportiu que t'agradi i selecciona un atribut del conjunt de dades. Calcula el p-valor i digues si rebutja la hipòtesi nul·la agafant un alfa de 5%. "
   ]
  },
  {
   "cell_type": "markdown",
   "id": "f31f7cad",
   "metadata": {},
   "source": [
    " Agafo el dataset **credit cards customers** amb informació d'usuaris de credit cards, utilitzat a el sprint 05 i 06"
   ]
  },
  {
   "cell_type": "code",
   "execution_count": 1,
   "id": "66e0a9f7",
   "metadata": {},
   "outputs": [],
   "source": [
    "import numpy as np\n",
    "import pandas as pd\n",
    "import matplotlib.pyplot as plt\n",
    "import seaborn as sns\n",
    "from scipy import stats\n",
    "from statsmodels.stats.multicomp import pairwise_tukeyhsd"
   ]
  },
  {
   "cell_type": "code",
   "execution_count": 2,
   "id": "d9f5e108",
   "metadata": {},
   "outputs": [],
   "source": [
    "creditcard = pd.read_csv('BankChurners.csv')"
   ]
  },
  {
   "cell_type": "markdown",
   "id": "2822ae5f",
   "metadata": {},
   "source": [
    "Eliminem algunes columnes per recomanació del creador de l'arxiu.   \n",
    "Cambiem alguns noms de les columnes per fer-los més inteligibles i operatius"
   ]
  },
  {
   "cell_type": "code",
   "execution_count": 3,
   "id": "4a4f9e4b",
   "metadata": {},
   "outputs": [],
   "source": [
    "creditcard.drop(creditcard.columns[[16,19,21,22]], axis='columns', inplace=True)"
   ]
  },
  {
   "cell_type": "code",
   "execution_count": 4,
   "id": "c17c87fb",
   "metadata": {},
   "outputs": [
    {
     "data": {
      "text/html": [
       "<div>\n",
       "<style scoped>\n",
       "    .dataframe tbody tr th:only-of-type {\n",
       "        vertical-align: middle;\n",
       "    }\n",
       "\n",
       "    .dataframe tbody tr th {\n",
       "        vertical-align: top;\n",
       "    }\n",
       "\n",
       "    .dataframe thead th {\n",
       "        text-align: right;\n",
       "    }\n",
       "</style>\n",
       "<table border=\"1\" class=\"dataframe\">\n",
       "  <thead>\n",
       "    <tr style=\"text-align: right;\">\n",
       "      <th></th>\n",
       "      <th>CLIENTNUM</th>\n",
       "      <th>Attrition_Flag</th>\n",
       "      <th>Customer_Age</th>\n",
       "      <th>Gender</th>\n",
       "      <th>Dependent_count</th>\n",
       "      <th>Education_Level</th>\n",
       "      <th>Marital_Status</th>\n",
       "      <th>Income_Category</th>\n",
       "      <th>Card_Category</th>\n",
       "      <th>Months_on_book</th>\n",
       "      <th>Total_Products</th>\n",
       "      <th>Months_Inactive</th>\n",
       "      <th>Contacts_Count</th>\n",
       "      <th>Credit_Limit</th>\n",
       "      <th>Revolving</th>\n",
       "      <th>Open_To_Buy</th>\n",
       "      <th>Transaction_Amount</th>\n",
       "      <th>Transaction_Count</th>\n",
       "      <th>Utilization_Ratio</th>\n",
       "    </tr>\n",
       "  </thead>\n",
       "  <tbody>\n",
       "    <tr>\n",
       "      <th>0</th>\n",
       "      <td>768805383</td>\n",
       "      <td>Existing Customer</td>\n",
       "      <td>45</td>\n",
       "      <td>M</td>\n",
       "      <td>3</td>\n",
       "      <td>High School</td>\n",
       "      <td>Married</td>\n",
       "      <td>$60K - $80K</td>\n",
       "      <td>Blue</td>\n",
       "      <td>39</td>\n",
       "      <td>5</td>\n",
       "      <td>1</td>\n",
       "      <td>3</td>\n",
       "      <td>12691.0</td>\n",
       "      <td>777</td>\n",
       "      <td>11914.0</td>\n",
       "      <td>1144</td>\n",
       "      <td>42</td>\n",
       "      <td>0.061</td>\n",
       "    </tr>\n",
       "    <tr>\n",
       "      <th>1</th>\n",
       "      <td>818770008</td>\n",
       "      <td>Existing Customer</td>\n",
       "      <td>49</td>\n",
       "      <td>F</td>\n",
       "      <td>5</td>\n",
       "      <td>Graduate</td>\n",
       "      <td>Single</td>\n",
       "      <td>Less than $40K</td>\n",
       "      <td>Blue</td>\n",
       "      <td>44</td>\n",
       "      <td>6</td>\n",
       "      <td>1</td>\n",
       "      <td>2</td>\n",
       "      <td>8256.0</td>\n",
       "      <td>864</td>\n",
       "      <td>7392.0</td>\n",
       "      <td>1291</td>\n",
       "      <td>33</td>\n",
       "      <td>0.105</td>\n",
       "    </tr>\n",
       "    <tr>\n",
       "      <th>2</th>\n",
       "      <td>713982108</td>\n",
       "      <td>Existing Customer</td>\n",
       "      <td>51</td>\n",
       "      <td>M</td>\n",
       "      <td>3</td>\n",
       "      <td>Graduate</td>\n",
       "      <td>Married</td>\n",
       "      <td>$80K - $120K</td>\n",
       "      <td>Blue</td>\n",
       "      <td>36</td>\n",
       "      <td>4</td>\n",
       "      <td>1</td>\n",
       "      <td>0</td>\n",
       "      <td>3418.0</td>\n",
       "      <td>0</td>\n",
       "      <td>3418.0</td>\n",
       "      <td>1887</td>\n",
       "      <td>20</td>\n",
       "      <td>0.000</td>\n",
       "    </tr>\n",
       "    <tr>\n",
       "      <th>3</th>\n",
       "      <td>769911858</td>\n",
       "      <td>Existing Customer</td>\n",
       "      <td>40</td>\n",
       "      <td>F</td>\n",
       "      <td>4</td>\n",
       "      <td>High School</td>\n",
       "      <td>Unknown</td>\n",
       "      <td>Less than $40K</td>\n",
       "      <td>Blue</td>\n",
       "      <td>34</td>\n",
       "      <td>3</td>\n",
       "      <td>4</td>\n",
       "      <td>1</td>\n",
       "      <td>3313.0</td>\n",
       "      <td>2517</td>\n",
       "      <td>796.0</td>\n",
       "      <td>1171</td>\n",
       "      <td>20</td>\n",
       "      <td>0.760</td>\n",
       "    </tr>\n",
       "    <tr>\n",
       "      <th>4</th>\n",
       "      <td>709106358</td>\n",
       "      <td>Existing Customer</td>\n",
       "      <td>40</td>\n",
       "      <td>M</td>\n",
       "      <td>3</td>\n",
       "      <td>Uneducated</td>\n",
       "      <td>Married</td>\n",
       "      <td>$60K - $80K</td>\n",
       "      <td>Blue</td>\n",
       "      <td>21</td>\n",
       "      <td>5</td>\n",
       "      <td>1</td>\n",
       "      <td>0</td>\n",
       "      <td>4716.0</td>\n",
       "      <td>0</td>\n",
       "      <td>4716.0</td>\n",
       "      <td>816</td>\n",
       "      <td>28</td>\n",
       "      <td>0.000</td>\n",
       "    </tr>\n",
       "  </tbody>\n",
       "</table>\n",
       "</div>"
      ],
      "text/plain": [
       "   CLIENTNUM     Attrition_Flag  Customer_Age Gender  Dependent_count  \\\n",
       "0  768805383  Existing Customer            45      M                3   \n",
       "1  818770008  Existing Customer            49      F                5   \n",
       "2  713982108  Existing Customer            51      M                3   \n",
       "3  769911858  Existing Customer            40      F                4   \n",
       "4  709106358  Existing Customer            40      M                3   \n",
       "\n",
       "  Education_Level Marital_Status Income_Category Card_Category  \\\n",
       "0     High School        Married     $60K - $80K          Blue   \n",
       "1        Graduate         Single  Less than $40K          Blue   \n",
       "2        Graduate        Married    $80K - $120K          Blue   \n",
       "3     High School        Unknown  Less than $40K          Blue   \n",
       "4      Uneducated        Married     $60K - $80K          Blue   \n",
       "\n",
       "   Months_on_book  Total_Products  Months_Inactive  Contacts_Count  \\\n",
       "0              39               5                1               3   \n",
       "1              44               6                1               2   \n",
       "2              36               4                1               0   \n",
       "3              34               3                4               1   \n",
       "4              21               5                1               0   \n",
       "\n",
       "   Credit_Limit  Revolving  Open_To_Buy  Transaction_Amount  \\\n",
       "0       12691.0        777      11914.0                1144   \n",
       "1        8256.0        864       7392.0                1291   \n",
       "2        3418.0          0       3418.0                1887   \n",
       "3        3313.0       2517        796.0                1171   \n",
       "4        4716.0          0       4716.0                 816   \n",
       "\n",
       "   Transaction_Count  Utilization_Ratio  \n",
       "0                 42              0.061  \n",
       "1                 33              0.105  \n",
       "2                 20              0.000  \n",
       "3                 20              0.760  \n",
       "4                 28              0.000  "
      ]
     },
     "execution_count": 4,
     "metadata": {},
     "output_type": "execute_result"
    }
   ],
   "source": [
    "creditcard.rename(columns={'Total_Relationship_Count':'Total_Products', 'Months_Inactive_12_mon':'Months_Inactive','Contacts_Count_12_mon':'Contacts_Count',\n",
    "                           'Total_Revolving_Bal':'Revolving', 'Avg_Open_To_Buy':'Open_To_Buy','Total_Trans_Ct':'Transaction_Count','Total_Trans_Amt':'Transaction_Amount',\n",
    "                           'Avg_Utilization_Ratio':'Utilization_Ratio'}, inplace=True)\n",
    "creditcard.head()"
   ]
  },
  {
   "cell_type": "markdown",
   "id": "a18a9f80",
   "metadata": {},
   "source": [
    "La base de dades té 10.000 clients usuaris de credit cards categoritzats per edad, sexe, salari, estat civil i d'altres.   \n",
    "L'explicació dels camps així com els gràfics de distribucions dels diferents atributs estan detallats a l'exercici 05 i 06"
   ]
  },
  {
   "cell_type": "markdown",
   "id": "76bd5e4e",
   "metadata": {},
   "source": [
    "Per fer el test d'hipotesi agafo l'atribut **Customer_Age** que representa l'edat de tots els clients. \n",
    "Com es pot veure en el gràfic, es tracta d'una variable amb distribució unimodal, bastant simètrica i que te un aspecte semblant a normal, però obviament truncat pels extrems."
   ]
  },
  {
   "cell_type": "code",
   "execution_count": 5,
   "id": "75579c24",
   "metadata": {
    "scrolled": false
   },
   "outputs": [
    {
     "data": {
      "image/png": "[encoded data removed]",
      "text/plain": [
       "<Figure size 864x432 with 1 Axes>"
      ]
     },
     "metadata": {
      "needs_background": "light"
     },
     "output_type": "display_data"
    }
   ],
   "source": [
    "sns.displot(x='Customer_Age', data=creditcard, height= 6, aspect=2).set(title='Customer Age');"
   ]
  },
  {
   "cell_type": "code",
   "execution_count": 6,
   "id": "e1c6dd2f",
   "metadata": {},
   "outputs": [
    {
     "data": {
      "text/plain": [
       "count    10127.000000\n",
       "mean        46.325960\n",
       "std          8.016814\n",
       "min         26.000000\n",
       "25%         41.000000\n",
       "50%         46.000000\n",
       "75%         52.000000\n",
       "max         73.000000\n",
       "Name: Customer_Age, dtype: float64"
      ]
     },
     "execution_count": 6,
     "metadata": {},
     "output_type": "execute_result"
    }
   ],
   "source": [
    "creditcard['Customer_Age'].describe()"
   ]
  },
  {
   "cell_type": "markdown",
   "id": "e5b015e1",
   "metadata": {},
   "source": [
    "Volem comprobar l'edat mitjana de la població a partir d'una mostra del 5%. Plantegem la següent hipòtesi:\n",
    "###### Hipòtesis:\n",
    "- $H_0:$ La mitjana de Customer_Age és de **45 anys**\n",
    "- $H_1:$ La mitjana de Customer_Age no és de 46 anys    \n",
    "El significant level (**alpha**) seria de **0.05**"
   ]
  },
  {
   "cell_type": "markdown",
   "id": "ec5d2834",
   "metadata": {},
   "source": [
    "Simulem que no podem treballar amb tota la població i agafem una mostra aleatoria simple del 5% de la població. Com la mostra és inferior al 10% es raonable pensar que els valors són independents.  \n",
    "La mostra té un tamany de 506 (superior a 30), per tant la seva mitjana tindrà un comportament normal (central limit theorem).   \n",
    "Com la mostra és suficientment gran, és raonable pensar que tindrà la mateixa variança que la població.   \n",
    "Per tant, es donen les condicions per aplicar els Student's t-test"
   ]
  },
  {
   "cell_type": "code",
   "execution_count": 27,
   "id": "8064a25d",
   "metadata": {},
   "outputs": [
    {
     "name": "stdout",
     "output_type": "stream",
     "text": [
      "Mitjana de la mostra= 46.58\n"
     ]
    }
   ],
   "source": [
    "n=506\n",
    "sample1 = creditcard['Customer_Age'].sample(n)\n",
    "print('Mitjana de la mostra= {0:.2f}'.format(sample1.mean()))"
   ]
  },
  {
   "cell_type": "markdown",
   "id": "087387ea",
   "metadata": {},
   "source": [
    "Comparem la distribució del total de la població amb la distribució de la mostra de 506 observacions"
   ]
  },
  {
   "cell_type": "code",
   "execution_count": 28,
   "id": "134ad7dc",
   "metadata": {
    "scrolled": true
   },
   "outputs": [
    {
     "data": {
      "image/png": "[encoded data removed]",
      "text/plain": [
       "<Figure size 720x288 with 2 Axes>"
      ]
     },
     "metadata": {
      "needs_background": "light"
     },
     "output_type": "display_data"
    }
   ],
   "source": [
    "f, axs = plt.subplots(1, 2, figsize=(10, 4), gridspec_kw=dict(width_ratios=[4, 4]))\n",
    "sns.histplot(x='Customer_Age', data=creditcard, ax=axs[0]).set(title='Customer Age Total');\n",
    "sns.histplot(x=sample1, ax=axs[1]).set(title='Customer Age sample=506');\n",
    "f.tight_layout()"
   ]
  },
  {
   "cell_type": "markdown",
   "id": "502679da",
   "metadata": {},
   "source": [
    "Podem apreciar similituts entre la distribució de la població i la distribució de la mostra de 506 observacions"
   ]
  },
  {
   "cell_type": "markdown",
   "id": "62a17d62",
   "metadata": {},
   "source": [
    "Plantegem el **ttest_1samp** amb la hipòtesi nula que la mitja de la població és de **46** anys"
   ]
  },
  {
   "cell_type": "code",
   "execution_count": 29,
   "id": "5c59a060",
   "metadata": {},
   "outputs": [
    {
     "name": "stdout",
     "output_type": "stream",
     "text": [
      "stat = 4.336\n",
      "p-value = 0.000\n",
      "H0 pot ser rebutjada, probablement la mitjana de Customer_Age no sigui de 45 anys\n"
     ]
    }
   ],
   "source": [
    "alpha=0.05\n",
    "stat, p = stats.ttest_1samp(sample1, popmean=45)\n",
    "print('stat = {0:.3f}\\np-value = {1:.3f}'.format(stat,p))\n",
    "if p> alpha:\n",
    "    print('H0 no pot ser rebutjada, probablement la mitjana de Customer_Age sigui de 45 anys')\n",
    "else:\n",
    "    print('H0 pot ser rebutjada, probablement la mitjana de Customer_Age no sigui de 45 anys')"
   ]
  },
  {
   "cell_type": "markdown",
   "id": "9b862eed",
   "metadata": {},
   "source": [
    "##### **Resultats:**  \n",
    "Rebutgem la hipòtesi nula. Per tant, probablement la mitjana de la població no sigui de 45 anys, amb un significant level del 5%"
   ]
  },
  {
   "cell_type": "markdown",
   "id": "63978cd4",
   "metadata": {},
   "source": [
    "## - Exercici 2\n",
    "\n",
    "Continua amb el conjunt de dades de tema esportiu que t'agradi i selecciona dos altres atributs del conjunt de dades. Calcula els p-valors i digues si rebutgen la hipòtesi nul·la agafant un alfa de 5%."
   ]
  },
  {
   "cell_type": "markdown",
   "id": "c5a6bff9",
   "metadata": {},
   "source": [
    "Comprobarem si la edat dels clients homes és diferent de l'edat dels clients dones. Plantegem la següent hipòtesi:\n",
    "###### Hipòtesis:\n",
    "- $H_0:$ La Customer_Age mitjana dels homes és igual que la Customer_Age mitjana de les dones\n",
    "- $H_1:$ La Customer_Age mitjana dels homes no és igual que la Customer_Age mitjana de les dones    \n",
    "El significant level (**alpha**) seria de **0.05**"
   ]
  },
  {
   "cell_type": "markdown",
   "id": "c88e632a",
   "metadata": {},
   "source": [
    "Veiem la distribució, mitjana i variança dels 2 subsets (homes i dones)"
   ]
  },
  {
   "cell_type": "code",
   "execution_count": 5,
   "id": "b25ce9d1",
   "metadata": {},
   "outputs": [
    {
     "data": {
      "image/png": "[encoded data removed]",
      "text/plain": [
       "<Figure size 720x360 with 2 Axes>"
      ]
     },
     "metadata": {
      "needs_background": "light"
     },
     "output_type": "display_data"
    }
   ],
   "source": [
    "sns.displot(x='Customer_Age', col='Gender',data=creditcard);"
   ]
  },
  {
   "cell_type": "code",
   "execution_count": 31,
   "id": "51f71971",
   "metadata": {},
   "outputs": [
    {
     "data": {
      "text/html": [
       "<div>\n",
       "<style scoped>\n",
       "    .dataframe tbody tr th:only-of-type {\n",
       "        vertical-align: middle;\n",
       "    }\n",
       "\n",
       "    .dataframe tbody tr th {\n",
       "        vertical-align: top;\n",
       "    }\n",
       "\n",
       "    .dataframe thead th {\n",
       "        text-align: right;\n",
       "    }\n",
       "</style>\n",
       "<table border=\"1\" class=\"dataframe\">\n",
       "  <thead>\n",
       "    <tr style=\"text-align: right;\">\n",
       "      <th></th>\n",
       "      <th>Male</th>\n",
       "      <th>Female</th>\n",
       "    </tr>\n",
       "  </thead>\n",
       "  <tbody>\n",
       "    <tr>\n",
       "      <th>count</th>\n",
       "      <td>4769.000</td>\n",
       "      <td>5358.000</td>\n",
       "    </tr>\n",
       "    <tr>\n",
       "      <th>mean</th>\n",
       "      <td>46.179</td>\n",
       "      <td>46.457</td>\n",
       "    </tr>\n",
       "    <tr>\n",
       "      <th>std</th>\n",
       "      <td>8.093</td>\n",
       "      <td>7.947</td>\n",
       "    </tr>\n",
       "    <tr>\n",
       "      <th>min</th>\n",
       "      <td>26.000</td>\n",
       "      <td>26.000</td>\n",
       "    </tr>\n",
       "    <tr>\n",
       "      <th>25%</th>\n",
       "      <td>41.000</td>\n",
       "      <td>41.000</td>\n",
       "    </tr>\n",
       "    <tr>\n",
       "      <th>50%</th>\n",
       "      <td>46.000</td>\n",
       "      <td>46.000</td>\n",
       "    </tr>\n",
       "    <tr>\n",
       "      <th>75%</th>\n",
       "      <td>52.000</td>\n",
       "      <td>52.000</td>\n",
       "    </tr>\n",
       "    <tr>\n",
       "      <th>max</th>\n",
       "      <td>73.000</td>\n",
       "      <td>67.000</td>\n",
       "    </tr>\n",
       "  </tbody>\n",
       "</table>\n",
       "</div>"
      ],
      "text/plain": [
       "           Male    Female\n",
       "count  4769.000  5358.000\n",
       "mean     46.179    46.457\n",
       "std       8.093     7.947\n",
       "min      26.000    26.000\n",
       "25%      41.000    41.000\n",
       "50%      46.000    46.000\n",
       "75%      52.000    52.000\n",
       "max      73.000    67.000"
      ]
     },
     "execution_count": 31,
     "metadata": {},
     "output_type": "execute_result"
    }
   ],
   "source": [
    "male = creditcard[creditcard['Gender']=='M']['Customer_Age']\n",
    "female = creditcard[creditcard['Gender']=='F']['Customer_Age']\n",
    "pd.concat([male.describe().round(3),female.describe().round(3)], keys=['Male','Female'], axis=1)"
   ]
  },
  {
   "cell_type": "markdown",
   "id": "49517d8b",
   "metadata": {},
   "source": [
    "Veiem que la població d'homes i dones tenen un tamany, distribució d'edats i variança que s'assemblen.    \n",
    "La mitja d'homes és de 46.179 anys i la de dones de 46.457 anys.   \n",
    "Pensem que es donen les condicions per aplicar els Student's t-test."
   ]
  },
  {
   "cell_type": "markdown",
   "id": "0c1bedb5",
   "metadata": {},
   "source": [
    "Apliquem el ttest_ind per aceptar o rebutjar que homes i dones tenen la mateixa edat mitjana, amb un significant level de **0.05**"
   ]
  },
  {
   "cell_type": "code",
   "execution_count": 32,
   "id": "ec716859",
   "metadata": {},
   "outputs": [
    {
     "name": "stdout",
     "output_type": "stream",
     "text": [
      "stat = -1.742\n",
      "p-value = 0.082\n",
      "H0 no pot ser rebutjada, probablement la mitjana de Customer_Age dels homes sigui igual a la de dones\n"
     ]
    }
   ],
   "source": [
    "alpha=0.05\n",
    "stat, p = stats.ttest_ind(male, female)\n",
    "print('stat = %.3f\\np-value = %.3f' % (stat,p))\n",
    "if p> alpha:\n",
    "    print('H0 no pot ser rebutjada, probablement la mitjana de Customer_Age dels homes sigui igual a la de dones')\n",
    "else:\n",
    "    print('H0 pot ser rebutjada, probablement la mitjana de Customer_Age dels homes no sigui igual a la de dones')"
   ]
  },
  {
   "cell_type": "markdown",
   "id": "2f9eb80e",
   "metadata": {},
   "source": [
    "**Resultats:**  \n",
    "No podem rebutjar la hipòtesi nula. Per tant, probablement la mitjana de edats d'homes i dones sigui la mateixa, amb un significant level del 5%"
   ]
  },
  {
   "cell_type": "markdown",
   "id": "5672d7ec",
   "metadata": {},
   "source": [
    "### - Exercici 3\n",
    "\n",
    "Continua amb el conjunt de dades de tema esportiu que t'agradi i selecciona tres atributs del conjunt de dades. Calcula el p-valor i digues si rebutja la hipòtesi nul·la agafant un alfa de 5%."
   ]
  },
  {
   "cell_type": "markdown",
   "id": "8098dac7",
   "metadata": {},
   "source": [
    "Ara volem veure si l'edat mitjana dels clients depen del nivell d'ingressos.   \n",
    "Farem 3 subsets:  \n",
    "- ingres_baix: menys de $40k\n",
    "- ingres_mitjà: entre 40-60k\n",
    "- ingres_alt: més de 120K"
   ]
  },
  {
   "cell_type": "markdown",
   "id": "5bb52f81",
   "metadata": {},
   "source": [
    "Comprobarem si la edat mitjana dels clients d'ingrés baix, mitjà i alt són iguals. Plantegem la següent hipòtesi:\n",
    "##### Hipòtesis:\n",
    "- $H_0:$ La mitjana de Customer_Age dels clients d'ingés baix, mitjà i alt és la mateixa\n",
    "- $H_1:$ L'edat mitjana dels clients d'ingés baix, mitjà i alt no és la mateixa  \n",
    "El significant level (**alpha**) seria de **0.05**"
   ]
  },
  {
   "cell_type": "markdown",
   "id": "d14e189c",
   "metadata": {},
   "source": [
    "Fem els 3 subsets segons els ingressos"
   ]
  },
  {
   "cell_type": "code",
   "execution_count": 33,
   "id": "17740b00",
   "metadata": {},
   "outputs": [],
   "source": [
    "ingres_baix = creditcard[creditcard['Income_Category']=='Less than $40K']['Customer_Age']\n",
    "ingres_mitja = creditcard[creditcard['Income_Category']=='$40K - $60K']['Customer_Age']\n",
    "ingres_alt = creditcard[creditcard['Income_Category']=='$120K +']['Customer_Age']"
   ]
  },
  {
   "cell_type": "markdown",
   "id": "7cb5d17c",
   "metadata": {},
   "source": [
    "Veiem la distribució, mitjana i variança dels 3 subsets "
   ]
  },
  {
   "cell_type": "code",
   "execution_count": 34,
   "id": "a38f0188",
   "metadata": {},
   "outputs": [
    {
     "data": {
      "image/png": "[encoded data removed]",
      "text/plain": [
       "<Figure size 864x288 with 3 Axes>"
      ]
     },
     "metadata": {
      "needs_background": "light"
     },
     "output_type": "display_data"
    }
   ],
   "source": [
    "f, axs = plt.subplots(1,3, figsize=(12, 4), gridspec_kw=dict(width_ratios=[3.5, 3.5, 3.5]))\n",
    "sns.histplot(x=ingres_baix, ax=axs[0]).set(title='Ingres baix');\n",
    "sns.histplot(x=ingres_mitja, ax=axs[1]).set(title='Ingres mitjà');\n",
    "sns.histplot(x=ingres_alt, ax=axs[2]).set(title='Ingres alt');\n",
    "f.tight_layout()"
   ]
  },
  {
   "cell_type": "code",
   "execution_count": 35,
   "id": "8935f785",
   "metadata": {},
   "outputs": [
    {
     "data": {
      "text/html": [
       "<div>\n",
       "<style scoped>\n",
       "    .dataframe tbody tr th:only-of-type {\n",
       "        vertical-align: middle;\n",
       "    }\n",
       "\n",
       "    .dataframe tbody tr th {\n",
       "        vertical-align: top;\n",
       "    }\n",
       "\n",
       "    .dataframe thead th {\n",
       "        text-align: right;\n",
       "    }\n",
       "</style>\n",
       "<table border=\"1\" class=\"dataframe\">\n",
       "  <thead>\n",
       "    <tr style=\"text-align: right;\">\n",
       "      <th></th>\n",
       "      <th>ingres_baix</th>\n",
       "      <th>ingres_mitjà</th>\n",
       "      <th>ingres_alt</th>\n",
       "    </tr>\n",
       "  </thead>\n",
       "  <tbody>\n",
       "    <tr>\n",
       "      <th>count</th>\n",
       "      <td>3561.000000</td>\n",
       "      <td>1790.000000</td>\n",
       "      <td>727.000000</td>\n",
       "    </tr>\n",
       "    <tr>\n",
       "      <th>mean</th>\n",
       "      <td>46.297950</td>\n",
       "      <td>46.087151</td>\n",
       "      <td>47.603851</td>\n",
       "    </tr>\n",
       "    <tr>\n",
       "      <th>std</th>\n",
       "      <td>8.446741</td>\n",
       "      <td>8.434617</td>\n",
       "      <td>6.769921</td>\n",
       "    </tr>\n",
       "    <tr>\n",
       "      <th>min</th>\n",
       "      <td>26.000000</td>\n",
       "      <td>26.000000</td>\n",
       "      <td>26.000000</td>\n",
       "    </tr>\n",
       "    <tr>\n",
       "      <th>25%</th>\n",
       "      <td>41.000000</td>\n",
       "      <td>40.000000</td>\n",
       "      <td>43.000000</td>\n",
       "    </tr>\n",
       "    <tr>\n",
       "      <th>50%</th>\n",
       "      <td>46.000000</td>\n",
       "      <td>46.000000</td>\n",
       "      <td>49.000000</td>\n",
       "    </tr>\n",
       "    <tr>\n",
       "      <th>75%</th>\n",
       "      <td>52.000000</td>\n",
       "      <td>52.000000</td>\n",
       "      <td>53.000000</td>\n",
       "    </tr>\n",
       "    <tr>\n",
       "      <th>max</th>\n",
       "      <td>70.000000</td>\n",
       "      <td>73.000000</td>\n",
       "      <td>62.000000</td>\n",
       "    </tr>\n",
       "  </tbody>\n",
       "</table>\n",
       "</div>"
      ],
      "text/plain": [
       "       ingres_baix  ingres_mitjà  ingres_alt\n",
       "count  3561.000000   1790.000000  727.000000\n",
       "mean     46.297950     46.087151   47.603851\n",
       "std       8.446741      8.434617    6.769921\n",
       "min      26.000000     26.000000   26.000000\n",
       "25%      41.000000     40.000000   43.000000\n",
       "50%      46.000000     46.000000   49.000000\n",
       "75%      52.000000     52.000000   53.000000\n",
       "max      70.000000     73.000000   62.000000"
      ]
     },
     "execution_count": 35,
     "metadata": {},
     "output_type": "execute_result"
    }
   ],
   "source": [
    "pd.concat([ingres_baix.describe(), ingres_mitja.describe(), ingres_alt.describe()], keys=['ingres_baix', 'ingres_mitjà', 'ingres_alt'], axis=1)"
   ]
  },
  {
   "cell_type": "markdown",
   "id": "9aa14ccd",
   "metadata": {},
   "source": [
    "Veiem que: \n",
    "- El tamany d'ingrés_alt és més petit que els altres, pero suficienment alt com per donar validessa als resultats estadístics\n",
    "- Ingres_baix i ingrés_mitja tenen una mitjana similar, ingres_alt sembla que té una mitjana més alta\n",
    "- Ingres_baix i ingrés_mitja tenen una variaça similar, ingres_alt sembla diferent\n",
    "- Les distribucions de ingrés_baix i ingres_mitja podem pensar que són semblants. La de ingrés alt es veu desplaçada a la dreta i te cua cap l'esquerra"
   ]
  },
  {
   "cell_type": "markdown",
   "id": "2b304f99",
   "metadata": {},
   "source": [
    "Farem el test ANOVA per rebutjar o no la $H_0$"
   ]
  },
  {
   "cell_type": "code",
   "execution_count": 36,
   "id": "a57343ea",
   "metadata": {},
   "outputs": [
    {
     "name": "stdout",
     "output_type": "stream",
     "text": [
      "stat = 9.273\n",
      "p-value = 0.000\n",
      "H0 pot ser rebutjada, probablement la mitjana de Customer_Age pels 3 nivells d ingressos no siguin iguals\n"
     ]
    }
   ],
   "source": [
    "alpha=0.05\n",
    "stat, p = stats.f_oneway(ingres_baix, ingres_mitja, ingres_alt)\n",
    "print('stat = %.3f\\np-value = %.3f' % (stat,p))\n",
    "if p> alpha:\n",
    "    print('H0 no pot ser rebutjada, probablement la mitjana de Customer_Age pels 3 nivells d ingressos siguin iguals')\n",
    "else:\n",
    "    print('H0 pot ser rebutjada, probablement la mitjana de Customer_Age pels 3 nivells d ingressos no siguin iguals')"
   ]
  },
  {
   "cell_type": "markdown",
   "id": "33f01b18",
   "metadata": {},
   "source": [
    "**Resultats:**  \n",
    "Podem rebutjar la hipòtesi nula. Per tant, probablement la mitjana de edats pels 3 nivells d'ingressos no sigui la mateixa, amb un significant level del 5%"
   ]
  },
  {
   "cell_type": "markdown",
   "id": "0da835b0",
   "metadata": {},
   "source": [
    "Sabem que la mitjana no és la mateixa pels 3 grups. Per determinar quin grup te la mitjana diferent apliquem el **test de Tukeys**"
   ]
  },
  {
   "cell_type": "code",
   "execution_count": 50,
   "id": "8c0ff500",
   "metadata": {},
   "outputs": [
    {
     "name": "stdout",
     "output_type": "stream",
     "text": [
      "       Multiple Comparison of Means - Tukey HSD, FWER=0.05       \n",
      "=================================================================\n",
      "   group1       group2     meandiff p-adj   lower   upper  reject\n",
      "-----------------------------------------------------------------\n",
      "    $120K +    $40K - $60K  -1.5167  0.001 -2.3684  -0.665   True\n",
      "    $120K + Less than $40K  -1.3059  0.001  -2.094 -0.5178   True\n",
      "$40K - $60K Less than $40K   0.2108 0.6397 -0.3503  0.7719  False\n",
      "-----------------------------------------------------------------\n"
     ]
    }
   ],
   "source": [
    "df_tukey=creditcard.loc[creditcard.Income_Category.str.match('Less than \\$40K|\\$40K - \\$60K|\\$120K +'), ['Customer_Age', 'Income_Category']]\n",
    "tukey = pairwise_tukeyhsd(endog=df_tukey['Customer_Age'], groups=df_tukey['Income_Category'], alpha=0.05)\n",
    "print(tukey)"
   ]
  },
  {
   "cell_type": "markdown",
   "id": "57a47a24",
   "metadata": {},
   "source": [
    "**Resultats:**   \n",
    "Amb un significant level del 5%, \n",
    "- Rebutgem que el grup ingres_alt tingui la mateixa mitjana que el grup ingres_mitja (p=0.001)\n",
    "- Rebutgem que el grup ingres_alt tingui la mateixa mitjana que el grup ingres_baix (p=0.001)\n",
    "- No podem rebutjar que el grup ingres_mitja tingui la mateixa mitjana que el grup ingres_mitja (p=0.639)   \n",
    "Es a dir, que **el grup de ingres_alt te mitjana diferent respecte als altres 2 grups**"
   ]
  }
 ],
 "metadata": {
  "kernelspec": {
   "display_name": "Python 3 (ipykernel)",
   "language": "python",
   "name": "python3"
  },
  "language_info": {
   "codemirror_mode": {
    "name": "ipython",
    "version": 3
   },
   "file_extension": ".py",
   "mimetype": "text/x-python",
   "name": "python",
   "nbconvert_exporter": "python",
   "pygments_lexer": "ipython3",
   "version": "3.9.7"
  }
 },
 "nbformat": 4,
 "nbformat_minor": 5
}
