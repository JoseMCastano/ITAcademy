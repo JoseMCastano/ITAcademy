{
 "cells": [
  {
   "cell_type": "markdown",
   "id": "7b6d8336",
   "metadata": {},
   "source": [
    "# Sprint 10. Tasca 01. Aprendizaje supervisado. Clasificación\n",
    "## By José Manuel Castaño"
   ]
  },
  {
   "cell_type": "code",
   "execution_count": 1,
   "id": "cf751e30",
   "metadata": {},
   "outputs": [],
   "source": [
    "import numpy as np\n",
    "import pandas as pd\n",
    "import matplotlib.pyplot as plt\n",
    "import seaborn as sns\n",
    "from scipy import stats\n",
    "from sklearn.preprocessing import MinMaxScaler, StandardScaler, RobustScaler\n",
    "from sklearn.decomposition import PCA\n",
    "from sklearn.model_selection import train_test_split, GridSearchCV, cross_val_score\n",
    "from sklearn.linear_model import LogisticRegression\n",
    "from sklearn.tree import DecisionTreeClassifier\n",
    "from sklearn.ensemble import AdaBoostClassifier\n",
    "from sklearn.metrics import accuracy_score, precision_score, f1_score, confusion_matrix, recall_score, roc_auc_score\n",
    "from imblearn.metrics import specificity_score\n",
    "from imblearn.under_sampling import RandomUnderSampler\n",
    "from imblearn.over_sampling import SMOTE\n",
    "from imblearn.ensemble import BalancedBaggingClassifier\n",
    "from sklearn.neural_network import MLPClassifier\n",
    "\n",
    "pd.set_option('display.max_rows', 100)\n",
    "pd.set_option('display.max_columns', 100)"
   ]
  },
  {
   "cell_type": "code",
   "execution_count": 2,
   "id": "07c383fa",
   "metadata": {},
   "outputs": [],
   "source": [
    "airlines = pd.read_csv('DelayedFlights.csv', index_col=0, engine='python')"
   ]
  },
  {
   "cell_type": "code",
   "execution_count": 4,
   "id": "5615b67a",
   "metadata": {},
   "outputs": [
    {
     "data": {
      "text/html": [
       "<div>\n",
       "<style scoped>\n",
       "    .dataframe tbody tr th:only-of-type {\n",
       "        vertical-align: middle;\n",
       "    }\n",
       "\n",
       "    .dataframe tbody tr th {\n",
       "        vertical-align: top;\n",
       "    }\n",
       "\n",
       "    .dataframe thead th {\n",
       "        text-align: right;\n",
       "    }\n",
       "</style>\n",
       "<table border=\"1\" class=\"dataframe\">\n",
       "  <thead>\n",
       "    <tr style=\"text-align: right;\">\n",
       "      <th></th>\n",
       "      <th>Year</th>\n",
       "      <th>Month</th>\n",
       "      <th>DayofMonth</th>\n",
       "      <th>DayOfWeek</th>\n",
       "      <th>DepTime</th>\n",
       "      <th>CRSDepTime</th>\n",
       "      <th>ArrTime</th>\n",
       "      <th>CRSArrTime</th>\n",
       "      <th>UniqueCarrier</th>\n",
       "      <th>FlightNum</th>\n",
       "      <th>TailNum</th>\n",
       "      <th>ActualElapsedTime</th>\n",
       "      <th>CRSElapsedTime</th>\n",
       "      <th>AirTime</th>\n",
       "      <th>ArrDelay</th>\n",
       "      <th>DepDelay</th>\n",
       "      <th>Origin</th>\n",
       "      <th>Dest</th>\n",
       "      <th>Distance</th>\n",
       "      <th>TaxiIn</th>\n",
       "      <th>TaxiOut</th>\n",
       "      <th>Cancelled</th>\n",
       "      <th>CancellationCode</th>\n",
       "      <th>Diverted</th>\n",
       "      <th>CarrierDelay</th>\n",
       "      <th>WeatherDelay</th>\n",
       "      <th>NASDelay</th>\n",
       "      <th>SecurityDelay</th>\n",
       "      <th>LateAircraftDelay</th>\n",
       "    </tr>\n",
       "  </thead>\n",
       "  <tbody>\n",
       "    <tr>\n",
       "      <th>0</th>\n",
       "      <td>2008</td>\n",
       "      <td>1</td>\n",
       "      <td>3</td>\n",
       "      <td>4</td>\n",
       "      <td>2003.0</td>\n",
       "      <td>1955</td>\n",
       "      <td>2211.0</td>\n",
       "      <td>2225</td>\n",
       "      <td>WN</td>\n",
       "      <td>335</td>\n",
       "      <td>N712SW</td>\n",
       "      <td>128.0</td>\n",
       "      <td>150.0</td>\n",
       "      <td>116.0</td>\n",
       "      <td>-14.0</td>\n",
       "      <td>8.0</td>\n",
       "      <td>IAD</td>\n",
       "      <td>TPA</td>\n",
       "      <td>810</td>\n",
       "      <td>4.0</td>\n",
       "      <td>8.0</td>\n",
       "      <td>0</td>\n",
       "      <td>N</td>\n",
       "      <td>0</td>\n",
       "      <td>NaN</td>\n",
       "      <td>NaN</td>\n",
       "      <td>NaN</td>\n",
       "      <td>NaN</td>\n",
       "      <td>NaN</td>\n",
       "    </tr>\n",
       "    <tr>\n",
       "      <th>1</th>\n",
       "      <td>2008</td>\n",
       "      <td>1</td>\n",
       "      <td>3</td>\n",
       "      <td>4</td>\n",
       "      <td>754.0</td>\n",
       "      <td>735</td>\n",
       "      <td>1002.0</td>\n",
       "      <td>1000</td>\n",
       "      <td>WN</td>\n",
       "      <td>3231</td>\n",
       "      <td>N772SW</td>\n",
       "      <td>128.0</td>\n",
       "      <td>145.0</td>\n",
       "      <td>113.0</td>\n",
       "      <td>2.0</td>\n",
       "      <td>19.0</td>\n",
       "      <td>IAD</td>\n",
       "      <td>TPA</td>\n",
       "      <td>810</td>\n",
       "      <td>5.0</td>\n",
       "      <td>10.0</td>\n",
       "      <td>0</td>\n",
       "      <td>N</td>\n",
       "      <td>0</td>\n",
       "      <td>NaN</td>\n",
       "      <td>NaN</td>\n",
       "      <td>NaN</td>\n",
       "      <td>NaN</td>\n",
       "      <td>NaN</td>\n",
       "    </tr>\n",
       "    <tr>\n",
       "      <th>2</th>\n",
       "      <td>2008</td>\n",
       "      <td>1</td>\n",
       "      <td>3</td>\n",
       "      <td>4</td>\n",
       "      <td>628.0</td>\n",
       "      <td>620</td>\n",
       "      <td>804.0</td>\n",
       "      <td>750</td>\n",
       "      <td>WN</td>\n",
       "      <td>448</td>\n",
       "      <td>N428WN</td>\n",
       "      <td>96.0</td>\n",
       "      <td>90.0</td>\n",
       "      <td>76.0</td>\n",
       "      <td>14.0</td>\n",
       "      <td>8.0</td>\n",
       "      <td>IND</td>\n",
       "      <td>BWI</td>\n",
       "      <td>515</td>\n",
       "      <td>3.0</td>\n",
       "      <td>17.0</td>\n",
       "      <td>0</td>\n",
       "      <td>N</td>\n",
       "      <td>0</td>\n",
       "      <td>NaN</td>\n",
       "      <td>NaN</td>\n",
       "      <td>NaN</td>\n",
       "      <td>NaN</td>\n",
       "      <td>NaN</td>\n",
       "    </tr>\n",
       "    <tr>\n",
       "      <th>4</th>\n",
       "      <td>2008</td>\n",
       "      <td>1</td>\n",
       "      <td>3</td>\n",
       "      <td>4</td>\n",
       "      <td>1829.0</td>\n",
       "      <td>1755</td>\n",
       "      <td>1959.0</td>\n",
       "      <td>1925</td>\n",
       "      <td>WN</td>\n",
       "      <td>3920</td>\n",
       "      <td>N464WN</td>\n",
       "      <td>90.0</td>\n",
       "      <td>90.0</td>\n",
       "      <td>77.0</td>\n",
       "      <td>34.0</td>\n",
       "      <td>34.0</td>\n",
       "      <td>IND</td>\n",
       "      <td>BWI</td>\n",
       "      <td>515</td>\n",
       "      <td>3.0</td>\n",
       "      <td>10.0</td>\n",
       "      <td>0</td>\n",
       "      <td>N</td>\n",
       "      <td>0</td>\n",
       "      <td>2.0</td>\n",
       "      <td>0.0</td>\n",
       "      <td>0.0</td>\n",
       "      <td>0.0</td>\n",
       "      <td>32.0</td>\n",
       "    </tr>\n",
       "    <tr>\n",
       "      <th>5</th>\n",
       "      <td>2008</td>\n",
       "      <td>1</td>\n",
       "      <td>3</td>\n",
       "      <td>4</td>\n",
       "      <td>1940.0</td>\n",
       "      <td>1915</td>\n",
       "      <td>2121.0</td>\n",
       "      <td>2110</td>\n",
       "      <td>WN</td>\n",
       "      <td>378</td>\n",
       "      <td>N726SW</td>\n",
       "      <td>101.0</td>\n",
       "      <td>115.0</td>\n",
       "      <td>87.0</td>\n",
       "      <td>11.0</td>\n",
       "      <td>25.0</td>\n",
       "      <td>IND</td>\n",
       "      <td>JAX</td>\n",
       "      <td>688</td>\n",
       "      <td>4.0</td>\n",
       "      <td>10.0</td>\n",
       "      <td>0</td>\n",
       "      <td>N</td>\n",
       "      <td>0</td>\n",
       "      <td>NaN</td>\n",
       "      <td>NaN</td>\n",
       "      <td>NaN</td>\n",
       "      <td>NaN</td>\n",
       "      <td>NaN</td>\n",
       "    </tr>\n",
       "    <tr>\n",
       "      <th>...</th>\n",
       "      <td>...</td>\n",
       "      <td>...</td>\n",
       "      <td>...</td>\n",
       "      <td>...</td>\n",
       "      <td>...</td>\n",
       "      <td>...</td>\n",
       "      <td>...</td>\n",
       "      <td>...</td>\n",
       "      <td>...</td>\n",
       "      <td>...</td>\n",
       "      <td>...</td>\n",
       "      <td>...</td>\n",
       "      <td>...</td>\n",
       "      <td>...</td>\n",
       "      <td>...</td>\n",
       "      <td>...</td>\n",
       "      <td>...</td>\n",
       "      <td>...</td>\n",
       "      <td>...</td>\n",
       "      <td>...</td>\n",
       "      <td>...</td>\n",
       "      <td>...</td>\n",
       "      <td>...</td>\n",
       "      <td>...</td>\n",
       "      <td>...</td>\n",
       "      <td>...</td>\n",
       "      <td>...</td>\n",
       "      <td>...</td>\n",
       "      <td>...</td>\n",
       "    </tr>\n",
       "    <tr>\n",
       "      <th>7009710</th>\n",
       "      <td>2008</td>\n",
       "      <td>12</td>\n",
       "      <td>13</td>\n",
       "      <td>6</td>\n",
       "      <td>1250.0</td>\n",
       "      <td>1220</td>\n",
       "      <td>1617.0</td>\n",
       "      <td>1552</td>\n",
       "      <td>DL</td>\n",
       "      <td>1621</td>\n",
       "      <td>N938DL</td>\n",
       "      <td>147.0</td>\n",
       "      <td>152.0</td>\n",
       "      <td>120.0</td>\n",
       "      <td>25.0</td>\n",
       "      <td>30.0</td>\n",
       "      <td>MSP</td>\n",
       "      <td>ATL</td>\n",
       "      <td>906</td>\n",
       "      <td>9.0</td>\n",
       "      <td>18.0</td>\n",
       "      <td>0</td>\n",
       "      <td>N</td>\n",
       "      <td>0</td>\n",
       "      <td>3.0</td>\n",
       "      <td>0.0</td>\n",
       "      <td>0.0</td>\n",
       "      <td>0.0</td>\n",
       "      <td>22.0</td>\n",
       "    </tr>\n",
       "    <tr>\n",
       "      <th>7009717</th>\n",
       "      <td>2008</td>\n",
       "      <td>12</td>\n",
       "      <td>13</td>\n",
       "      <td>6</td>\n",
       "      <td>657.0</td>\n",
       "      <td>600</td>\n",
       "      <td>904.0</td>\n",
       "      <td>749</td>\n",
       "      <td>DL</td>\n",
       "      <td>1631</td>\n",
       "      <td>N3743H</td>\n",
       "      <td>127.0</td>\n",
       "      <td>109.0</td>\n",
       "      <td>78.0</td>\n",
       "      <td>75.0</td>\n",
       "      <td>57.0</td>\n",
       "      <td>RIC</td>\n",
       "      <td>ATL</td>\n",
       "      <td>481</td>\n",
       "      <td>15.0</td>\n",
       "      <td>34.0</td>\n",
       "      <td>0</td>\n",
       "      <td>N</td>\n",
       "      <td>0</td>\n",
       "      <td>0.0</td>\n",
       "      <td>57.0</td>\n",
       "      <td>18.0</td>\n",
       "      <td>0.0</td>\n",
       "      <td>0.0</td>\n",
       "    </tr>\n",
       "    <tr>\n",
       "      <th>7009718</th>\n",
       "      <td>2008</td>\n",
       "      <td>12</td>\n",
       "      <td>13</td>\n",
       "      <td>6</td>\n",
       "      <td>1007.0</td>\n",
       "      <td>847</td>\n",
       "      <td>1149.0</td>\n",
       "      <td>1010</td>\n",
       "      <td>DL</td>\n",
       "      <td>1631</td>\n",
       "      <td>N909DA</td>\n",
       "      <td>162.0</td>\n",
       "      <td>143.0</td>\n",
       "      <td>122.0</td>\n",
       "      <td>99.0</td>\n",
       "      <td>80.0</td>\n",
       "      <td>ATL</td>\n",
       "      <td>IAH</td>\n",
       "      <td>689</td>\n",
       "      <td>8.0</td>\n",
       "      <td>32.0</td>\n",
       "      <td>0</td>\n",
       "      <td>N</td>\n",
       "      <td>0</td>\n",
       "      <td>1.0</td>\n",
       "      <td>0.0</td>\n",
       "      <td>19.0</td>\n",
       "      <td>0.0</td>\n",
       "      <td>79.0</td>\n",
       "    </tr>\n",
       "    <tr>\n",
       "      <th>7009726</th>\n",
       "      <td>2008</td>\n",
       "      <td>12</td>\n",
       "      <td>13</td>\n",
       "      <td>6</td>\n",
       "      <td>1251.0</td>\n",
       "      <td>1240</td>\n",
       "      <td>1446.0</td>\n",
       "      <td>1437</td>\n",
       "      <td>DL</td>\n",
       "      <td>1639</td>\n",
       "      <td>N646DL</td>\n",
       "      <td>115.0</td>\n",
       "      <td>117.0</td>\n",
       "      <td>89.0</td>\n",
       "      <td>9.0</td>\n",
       "      <td>11.0</td>\n",
       "      <td>IAD</td>\n",
       "      <td>ATL</td>\n",
       "      <td>533</td>\n",
       "      <td>13.0</td>\n",
       "      <td>13.0</td>\n",
       "      <td>0</td>\n",
       "      <td>N</td>\n",
       "      <td>0</td>\n",
       "      <td>NaN</td>\n",
       "      <td>NaN</td>\n",
       "      <td>NaN</td>\n",
       "      <td>NaN</td>\n",
       "      <td>NaN</td>\n",
       "    </tr>\n",
       "    <tr>\n",
       "      <th>7009727</th>\n",
       "      <td>2008</td>\n",
       "      <td>12</td>\n",
       "      <td>13</td>\n",
       "      <td>6</td>\n",
       "      <td>1110.0</td>\n",
       "      <td>1103</td>\n",
       "      <td>1413.0</td>\n",
       "      <td>1418</td>\n",
       "      <td>DL</td>\n",
       "      <td>1641</td>\n",
       "      <td>N908DL</td>\n",
       "      <td>123.0</td>\n",
       "      <td>135.0</td>\n",
       "      <td>104.0</td>\n",
       "      <td>-5.0</td>\n",
       "      <td>7.0</td>\n",
       "      <td>SAT</td>\n",
       "      <td>ATL</td>\n",
       "      <td>874</td>\n",
       "      <td>8.0</td>\n",
       "      <td>11.0</td>\n",
       "      <td>0</td>\n",
       "      <td>N</td>\n",
       "      <td>0</td>\n",
       "      <td>NaN</td>\n",
       "      <td>NaN</td>\n",
       "      <td>NaN</td>\n",
       "      <td>NaN</td>\n",
       "      <td>NaN</td>\n",
       "    </tr>\n",
       "  </tbody>\n",
       "</table>\n",
       "<p>1936758 rows × 29 columns</p>\n",
       "</div>"
      ],
      "text/plain": [
       "         Year  Month  DayofMonth  DayOfWeek  DepTime  CRSDepTime  ArrTime  \\\n",
       "0        2008      1           3          4   2003.0        1955   2211.0   \n",
       "1        2008      1           3          4    754.0         735   1002.0   \n",
       "2        2008      1           3          4    628.0         620    804.0   \n",
       "4        2008      1           3          4   1829.0        1755   1959.0   \n",
       "5        2008      1           3          4   1940.0        1915   2121.0   \n",
       "...       ...    ...         ...        ...      ...         ...      ...   \n",
       "7009710  2008     12          13          6   1250.0        1220   1617.0   \n",
       "7009717  2008     12          13          6    657.0         600    904.0   \n",
       "7009718  2008     12          13          6   1007.0         847   1149.0   \n",
       "7009726  2008     12          13          6   1251.0        1240   1446.0   \n",
       "7009727  2008     12          13          6   1110.0        1103   1413.0   \n",
       "\n",
       "         CRSArrTime UniqueCarrier  FlightNum TailNum  ActualElapsedTime  \\\n",
       "0              2225            WN        335  N712SW              128.0   \n",
       "1              1000            WN       3231  N772SW              128.0   \n",
       "2               750            WN        448  N428WN               96.0   \n",
       "4              1925            WN       3920  N464WN               90.0   \n",
       "5              2110            WN        378  N726SW              101.0   \n",
       "...             ...           ...        ...     ...                ...   \n",
       "7009710        1552            DL       1621  N938DL              147.0   \n",
       "7009717         749            DL       1631  N3743H              127.0   \n",
       "7009718        1010            DL       1631  N909DA              162.0   \n",
       "7009726        1437            DL       1639  N646DL              115.0   \n",
       "7009727        1418            DL       1641  N908DL              123.0   \n",
       "\n",
       "         CRSElapsedTime  AirTime  ArrDelay  DepDelay Origin Dest  Distance  \\\n",
       "0                 150.0    116.0     -14.0       8.0    IAD  TPA       810   \n",
       "1                 145.0    113.0       2.0      19.0    IAD  TPA       810   \n",
       "2                  90.0     76.0      14.0       8.0    IND  BWI       515   \n",
       "4                  90.0     77.0      34.0      34.0    IND  BWI       515   \n",
       "5                 115.0     87.0      11.0      25.0    IND  JAX       688   \n",
       "...                 ...      ...       ...       ...    ...  ...       ...   \n",
       "7009710           152.0    120.0      25.0      30.0    MSP  ATL       906   \n",
       "7009717           109.0     78.0      75.0      57.0    RIC  ATL       481   \n",
       "7009718           143.0    122.0      99.0      80.0    ATL  IAH       689   \n",
       "7009726           117.0     89.0       9.0      11.0    IAD  ATL       533   \n",
       "7009727           135.0    104.0      -5.0       7.0    SAT  ATL       874   \n",
       "\n",
       "         TaxiIn  TaxiOut  Cancelled CancellationCode  Diverted  CarrierDelay  \\\n",
       "0           4.0      8.0          0                N         0           NaN   \n",
       "1           5.0     10.0          0                N         0           NaN   \n",
       "2           3.0     17.0          0                N         0           NaN   \n",
       "4           3.0     10.0          0                N         0           2.0   \n",
       "5           4.0     10.0          0                N         0           NaN   \n",
       "...         ...      ...        ...              ...       ...           ...   \n",
       "7009710     9.0     18.0          0                N         0           3.0   \n",
       "7009717    15.0     34.0          0                N         0           0.0   \n",
       "7009718     8.0     32.0          0                N         0           1.0   \n",
       "7009726    13.0     13.0          0                N         0           NaN   \n",
       "7009727     8.0     11.0          0                N         0           NaN   \n",
       "\n",
       "         WeatherDelay  NASDelay  SecurityDelay  LateAircraftDelay  \n",
       "0                 NaN       NaN            NaN                NaN  \n",
       "1                 NaN       NaN            NaN                NaN  \n",
       "2                 NaN       NaN            NaN                NaN  \n",
       "4                 0.0       0.0            0.0               32.0  \n",
       "5                 NaN       NaN            NaN                NaN  \n",
       "...               ...       ...            ...                ...  \n",
       "7009710           0.0       0.0            0.0               22.0  \n",
       "7009717          57.0      18.0            0.0                0.0  \n",
       "7009718           0.0      19.0            0.0               79.0  \n",
       "7009726           NaN       NaN            NaN                NaN  \n",
       "7009727           NaN       NaN            NaN                NaN  \n",
       "\n",
       "[1936758 rows x 29 columns]"
      ]
     },
     "execution_count": 4,
     "metadata": {},
     "output_type": "execute_result"
    }
   ],
   "source": [
    "airlines"
   ]
  },
  {
   "cell_type": "markdown",
   "id": "6908b2a5",
   "metadata": {},
   "source": [
    "La descripción de los diferentes campos, el estudio de la distribución de las variables, los Nans, etc, ya lo hemos realizado en exercicios anteriores. "
   ]
  },
  {
   "cell_type": "markdown",
   "id": "f2d16143",
   "metadata": {},
   "source": [
    "Elimimamos del data set los vuelo cancelados y los desviados ya que no nos sirven para estudiar los retrasos. A continuación, eliminamos los campos **Cancelled, CancellationCode, Diverted**"
   ]
  },
  {
   "cell_type": "code",
   "execution_count": 3,
   "id": "ac7c6135",
   "metadata": {},
   "outputs": [],
   "source": [
    "airlines=airlines[airlines['Cancelled']==0]\n",
    "airlines=airlines[airlines['Diverted'] ==0]"
   ]
  },
  {
   "cell_type": "markdown",
   "id": "3ba057c5",
   "metadata": {},
   "source": [
    "### Eliminación de variables\n",
    "\n",
    "En este primer modelo, eliminamos algunas variables por diferentes motivos:\n",
    "    \n",
    "- **Cancelled, CancellationCode, Diverted** porque no sirven para estudiar los retrasos\n",
    "- **CarrierDelay, WeatherDelay, NASDelay, SecurityDelay, SecurityDelay, LateAircraftDelay** ya que explican la causa del retraso para los vuelos con retraso >15' de forma exacta. Quizás se han registrado cuando ya se conoce el retraso y se han cuadrado exactamente con el retraso.\n",
    "- **ActualElapsedTime** ya que ActualElapsedTime = AirTime + TaxiIn + TaxiOut\n",
    "- **FlightNum, TailNum** perque entendemos que no afectan al target.\n",
    "- **Year** perque siempre es 2008\n",
    "- **DepTime, ArrTime, CRSArrTime, AirTime, CRSElapsedTime**. Nos quedemos CRSDepTime como variable de horario\n",
    "\n",
    "En función de los resultados de los modelos, quizás volveríamos a recuperar algunas de las variables inicialmente rechazadas.\n"
   ]
  },
  {
   "cell_type": "code",
   "execution_count": 4,
   "id": "3acd7341",
   "metadata": {},
   "outputs": [
    {
     "data": {
      "text/html": [
       "<div>\n",
       "<style scoped>\n",
       "    .dataframe tbody tr th:only-of-type {\n",
       "        vertical-align: middle;\n",
       "    }\n",
       "\n",
       "    .dataframe tbody tr th {\n",
       "        vertical-align: top;\n",
       "    }\n",
       "\n",
       "    .dataframe thead th {\n",
       "        text-align: right;\n",
       "    }\n",
       "</style>\n",
       "<table border=\"1\" class=\"dataframe\">\n",
       "  <thead>\n",
       "    <tr style=\"text-align: right;\">\n",
       "      <th></th>\n",
       "      <th>Month</th>\n",
       "      <th>DayofMonth</th>\n",
       "      <th>DayOfWeek</th>\n",
       "      <th>CRSDepTime</th>\n",
       "      <th>UniqueCarrier</th>\n",
       "      <th>ArrDelay</th>\n",
       "      <th>DepDelay</th>\n",
       "      <th>Origin</th>\n",
       "      <th>Dest</th>\n",
       "      <th>Distance</th>\n",
       "      <th>TaxiIn</th>\n",
       "      <th>TaxiOut</th>\n",
       "    </tr>\n",
       "  </thead>\n",
       "  <tbody>\n",
       "    <tr>\n",
       "      <th>0</th>\n",
       "      <td>1</td>\n",
       "      <td>3</td>\n",
       "      <td>4</td>\n",
       "      <td>1955</td>\n",
       "      <td>WN</td>\n",
       "      <td>-14.0</td>\n",
       "      <td>8.0</td>\n",
       "      <td>IAD</td>\n",
       "      <td>TPA</td>\n",
       "      <td>810</td>\n",
       "      <td>4.0</td>\n",
       "      <td>8.0</td>\n",
       "    </tr>\n",
       "    <tr>\n",
       "      <th>1</th>\n",
       "      <td>1</td>\n",
       "      <td>3</td>\n",
       "      <td>4</td>\n",
       "      <td>735</td>\n",
       "      <td>WN</td>\n",
       "      <td>2.0</td>\n",
       "      <td>19.0</td>\n",
       "      <td>IAD</td>\n",
       "      <td>TPA</td>\n",
       "      <td>810</td>\n",
       "      <td>5.0</td>\n",
       "      <td>10.0</td>\n",
       "    </tr>\n",
       "    <tr>\n",
       "      <th>2</th>\n",
       "      <td>1</td>\n",
       "      <td>3</td>\n",
       "      <td>4</td>\n",
       "      <td>620</td>\n",
       "      <td>WN</td>\n",
       "      <td>14.0</td>\n",
       "      <td>8.0</td>\n",
       "      <td>IND</td>\n",
       "      <td>BWI</td>\n",
       "      <td>515</td>\n",
       "      <td>3.0</td>\n",
       "      <td>17.0</td>\n",
       "    </tr>\n",
       "    <tr>\n",
       "      <th>4</th>\n",
       "      <td>1</td>\n",
       "      <td>3</td>\n",
       "      <td>4</td>\n",
       "      <td>1755</td>\n",
       "      <td>WN</td>\n",
       "      <td>34.0</td>\n",
       "      <td>34.0</td>\n",
       "      <td>IND</td>\n",
       "      <td>BWI</td>\n",
       "      <td>515</td>\n",
       "      <td>3.0</td>\n",
       "      <td>10.0</td>\n",
       "    </tr>\n",
       "    <tr>\n",
       "      <th>5</th>\n",
       "      <td>1</td>\n",
       "      <td>3</td>\n",
       "      <td>4</td>\n",
       "      <td>1915</td>\n",
       "      <td>WN</td>\n",
       "      <td>11.0</td>\n",
       "      <td>25.0</td>\n",
       "      <td>IND</td>\n",
       "      <td>JAX</td>\n",
       "      <td>688</td>\n",
       "      <td>4.0</td>\n",
       "      <td>10.0</td>\n",
       "    </tr>\n",
       "    <tr>\n",
       "      <th>...</th>\n",
       "      <td>...</td>\n",
       "      <td>...</td>\n",
       "      <td>...</td>\n",
       "      <td>...</td>\n",
       "      <td>...</td>\n",
       "      <td>...</td>\n",
       "      <td>...</td>\n",
       "      <td>...</td>\n",
       "      <td>...</td>\n",
       "      <td>...</td>\n",
       "      <td>...</td>\n",
       "      <td>...</td>\n",
       "    </tr>\n",
       "    <tr>\n",
       "      <th>7009710</th>\n",
       "      <td>12</td>\n",
       "      <td>13</td>\n",
       "      <td>6</td>\n",
       "      <td>1220</td>\n",
       "      <td>DL</td>\n",
       "      <td>25.0</td>\n",
       "      <td>30.0</td>\n",
       "      <td>MSP</td>\n",
       "      <td>ATL</td>\n",
       "      <td>906</td>\n",
       "      <td>9.0</td>\n",
       "      <td>18.0</td>\n",
       "    </tr>\n",
       "    <tr>\n",
       "      <th>7009717</th>\n",
       "      <td>12</td>\n",
       "      <td>13</td>\n",
       "      <td>6</td>\n",
       "      <td>600</td>\n",
       "      <td>DL</td>\n",
       "      <td>75.0</td>\n",
       "      <td>57.0</td>\n",
       "      <td>RIC</td>\n",
       "      <td>ATL</td>\n",
       "      <td>481</td>\n",
       "      <td>15.0</td>\n",
       "      <td>34.0</td>\n",
       "    </tr>\n",
       "    <tr>\n",
       "      <th>7009718</th>\n",
       "      <td>12</td>\n",
       "      <td>13</td>\n",
       "      <td>6</td>\n",
       "      <td>847</td>\n",
       "      <td>DL</td>\n",
       "      <td>99.0</td>\n",
       "      <td>80.0</td>\n",
       "      <td>ATL</td>\n",
       "      <td>IAH</td>\n",
       "      <td>689</td>\n",
       "      <td>8.0</td>\n",
       "      <td>32.0</td>\n",
       "    </tr>\n",
       "    <tr>\n",
       "      <th>7009726</th>\n",
       "      <td>12</td>\n",
       "      <td>13</td>\n",
       "      <td>6</td>\n",
       "      <td>1240</td>\n",
       "      <td>DL</td>\n",
       "      <td>9.0</td>\n",
       "      <td>11.0</td>\n",
       "      <td>IAD</td>\n",
       "      <td>ATL</td>\n",
       "      <td>533</td>\n",
       "      <td>13.0</td>\n",
       "      <td>13.0</td>\n",
       "    </tr>\n",
       "    <tr>\n",
       "      <th>7009727</th>\n",
       "      <td>12</td>\n",
       "      <td>13</td>\n",
       "      <td>6</td>\n",
       "      <td>1103</td>\n",
       "      <td>DL</td>\n",
       "      <td>-5.0</td>\n",
       "      <td>7.0</td>\n",
       "      <td>SAT</td>\n",
       "      <td>ATL</td>\n",
       "      <td>874</td>\n",
       "      <td>8.0</td>\n",
       "      <td>11.0</td>\n",
       "    </tr>\n",
       "  </tbody>\n",
       "</table>\n",
       "<p>1928371 rows × 12 columns</p>\n",
       "</div>"
      ],
      "text/plain": [
       "         Month  DayofMonth  DayOfWeek  CRSDepTime UniqueCarrier  ArrDelay  \\\n",
       "0            1           3          4        1955            WN     -14.0   \n",
       "1            1           3          4         735            WN       2.0   \n",
       "2            1           3          4         620            WN      14.0   \n",
       "4            1           3          4        1755            WN      34.0   \n",
       "5            1           3          4        1915            WN      11.0   \n",
       "...        ...         ...        ...         ...           ...       ...   \n",
       "7009710     12          13          6        1220            DL      25.0   \n",
       "7009717     12          13          6         600            DL      75.0   \n",
       "7009718     12          13          6         847            DL      99.0   \n",
       "7009726     12          13          6        1240            DL       9.0   \n",
       "7009727     12          13          6        1103            DL      -5.0   \n",
       "\n",
       "         DepDelay Origin Dest  Distance  TaxiIn  TaxiOut  \n",
       "0             8.0    IAD  TPA       810     4.0      8.0  \n",
       "1            19.0    IAD  TPA       810     5.0     10.0  \n",
       "2             8.0    IND  BWI       515     3.0     17.0  \n",
       "4            34.0    IND  BWI       515     3.0     10.0  \n",
       "5            25.0    IND  JAX       688     4.0     10.0  \n",
       "...           ...    ...  ...       ...     ...      ...  \n",
       "7009710      30.0    MSP  ATL       906     9.0     18.0  \n",
       "7009717      57.0    RIC  ATL       481    15.0     34.0  \n",
       "7009718      80.0    ATL  IAH       689     8.0     32.0  \n",
       "7009726      11.0    IAD  ATL       533    13.0     13.0  \n",
       "7009727       7.0    SAT  ATL       874     8.0     11.0  \n",
       "\n",
       "[1928371 rows x 12 columns]"
      ]
     },
     "execution_count": 4,
     "metadata": {},
     "output_type": "execute_result"
    }
   ],
   "source": [
    "airlines1=airlines.drop(['Cancelled', 'CancellationCode', 'Diverted','CarrierDelay','WeatherDelay', 'NASDelay', 'SecurityDelay', 'SecurityDelay', 'LateAircraftDelay','ActualElapsedTime','FlightNum','TailNum', 'Year','DepTime', 'ArrTime', 'CRSArrTime', 'AirTime', 'CRSElapsedTime'], axis=1)\n",
    "airlines1"
   ]
  },
  {
   "cell_type": "markdown",
   "id": "c54506f4",
   "metadata": {},
   "source": [
    "## - Exercici 1\n",
    "\n",
    "Crea almenys tres models de classificació diferents per intentar predir el millor possible l’endarreriment dels vols (ArrDelay) de DelayedFlights.csv. Considera si el vol ha arribat tard o no (ArrDelay > 0)."
   ]
  },
  {
   "cell_type": "markdown",
   "id": "8809dcfd",
   "metadata": {},
   "source": [
    "Creamos un nuevo campo **Target** con los siguientes valores:   \n",
    "- 0   si ArrDelay<= 0\n",
    "- 1   si ArrDelay >0"
   ]
  },
  {
   "cell_type": "code",
   "execution_count": 5,
   "id": "b6084169",
   "metadata": {},
   "outputs": [
    {
     "data": {
      "text/html": [
       "<div>\n",
       "<style scoped>\n",
       "    .dataframe tbody tr th:only-of-type {\n",
       "        vertical-align: middle;\n",
       "    }\n",
       "\n",
       "    .dataframe tbody tr th {\n",
       "        vertical-align: top;\n",
       "    }\n",
       "\n",
       "    .dataframe thead th {\n",
       "        text-align: right;\n",
       "    }\n",
       "</style>\n",
       "<table border=\"1\" class=\"dataframe\">\n",
       "  <thead>\n",
       "    <tr style=\"text-align: right;\">\n",
       "      <th></th>\n",
       "      <th>Month</th>\n",
       "      <th>DayofMonth</th>\n",
       "      <th>DayOfWeek</th>\n",
       "      <th>CRSDepTime</th>\n",
       "      <th>UniqueCarrier</th>\n",
       "      <th>ArrDelay</th>\n",
       "      <th>DepDelay</th>\n",
       "      <th>Origin</th>\n",
       "      <th>Dest</th>\n",
       "      <th>Distance</th>\n",
       "      <th>TaxiIn</th>\n",
       "      <th>TaxiOut</th>\n",
       "      <th>Target</th>\n",
       "    </tr>\n",
       "  </thead>\n",
       "  <tbody>\n",
       "    <tr>\n",
       "      <th>0</th>\n",
       "      <td>1</td>\n",
       "      <td>3</td>\n",
       "      <td>4</td>\n",
       "      <td>1955</td>\n",
       "      <td>WN</td>\n",
       "      <td>-14.0</td>\n",
       "      <td>8.0</td>\n",
       "      <td>IAD</td>\n",
       "      <td>TPA</td>\n",
       "      <td>810</td>\n",
       "      <td>4.0</td>\n",
       "      <td>8.0</td>\n",
       "      <td>False</td>\n",
       "    </tr>\n",
       "    <tr>\n",
       "      <th>1</th>\n",
       "      <td>1</td>\n",
       "      <td>3</td>\n",
       "      <td>4</td>\n",
       "      <td>735</td>\n",
       "      <td>WN</td>\n",
       "      <td>2.0</td>\n",
       "      <td>19.0</td>\n",
       "      <td>IAD</td>\n",
       "      <td>TPA</td>\n",
       "      <td>810</td>\n",
       "      <td>5.0</td>\n",
       "      <td>10.0</td>\n",
       "      <td>True</td>\n",
       "    </tr>\n",
       "    <tr>\n",
       "      <th>2</th>\n",
       "      <td>1</td>\n",
       "      <td>3</td>\n",
       "      <td>4</td>\n",
       "      <td>620</td>\n",
       "      <td>WN</td>\n",
       "      <td>14.0</td>\n",
       "      <td>8.0</td>\n",
       "      <td>IND</td>\n",
       "      <td>BWI</td>\n",
       "      <td>515</td>\n",
       "      <td>3.0</td>\n",
       "      <td>17.0</td>\n",
       "      <td>True</td>\n",
       "    </tr>\n",
       "    <tr>\n",
       "      <th>4</th>\n",
       "      <td>1</td>\n",
       "      <td>3</td>\n",
       "      <td>4</td>\n",
       "      <td>1755</td>\n",
       "      <td>WN</td>\n",
       "      <td>34.0</td>\n",
       "      <td>34.0</td>\n",
       "      <td>IND</td>\n",
       "      <td>BWI</td>\n",
       "      <td>515</td>\n",
       "      <td>3.0</td>\n",
       "      <td>10.0</td>\n",
       "      <td>True</td>\n",
       "    </tr>\n",
       "    <tr>\n",
       "      <th>5</th>\n",
       "      <td>1</td>\n",
       "      <td>3</td>\n",
       "      <td>4</td>\n",
       "      <td>1915</td>\n",
       "      <td>WN</td>\n",
       "      <td>11.0</td>\n",
       "      <td>25.0</td>\n",
       "      <td>IND</td>\n",
       "      <td>JAX</td>\n",
       "      <td>688</td>\n",
       "      <td>4.0</td>\n",
       "      <td>10.0</td>\n",
       "      <td>True</td>\n",
       "    </tr>\n",
       "    <tr>\n",
       "      <th>...</th>\n",
       "      <td>...</td>\n",
       "      <td>...</td>\n",
       "      <td>...</td>\n",
       "      <td>...</td>\n",
       "      <td>...</td>\n",
       "      <td>...</td>\n",
       "      <td>...</td>\n",
       "      <td>...</td>\n",
       "      <td>...</td>\n",
       "      <td>...</td>\n",
       "      <td>...</td>\n",
       "      <td>...</td>\n",
       "      <td>...</td>\n",
       "    </tr>\n",
       "    <tr>\n",
       "      <th>7009710</th>\n",
       "      <td>12</td>\n",
       "      <td>13</td>\n",
       "      <td>6</td>\n",
       "      <td>1220</td>\n",
       "      <td>DL</td>\n",
       "      <td>25.0</td>\n",
       "      <td>30.0</td>\n",
       "      <td>MSP</td>\n",
       "      <td>ATL</td>\n",
       "      <td>906</td>\n",
       "      <td>9.0</td>\n",
       "      <td>18.0</td>\n",
       "      <td>True</td>\n",
       "    </tr>\n",
       "    <tr>\n",
       "      <th>7009717</th>\n",
       "      <td>12</td>\n",
       "      <td>13</td>\n",
       "      <td>6</td>\n",
       "      <td>600</td>\n",
       "      <td>DL</td>\n",
       "      <td>75.0</td>\n",
       "      <td>57.0</td>\n",
       "      <td>RIC</td>\n",
       "      <td>ATL</td>\n",
       "      <td>481</td>\n",
       "      <td>15.0</td>\n",
       "      <td>34.0</td>\n",
       "      <td>True</td>\n",
       "    </tr>\n",
       "    <tr>\n",
       "      <th>7009718</th>\n",
       "      <td>12</td>\n",
       "      <td>13</td>\n",
       "      <td>6</td>\n",
       "      <td>847</td>\n",
       "      <td>DL</td>\n",
       "      <td>99.0</td>\n",
       "      <td>80.0</td>\n",
       "      <td>ATL</td>\n",
       "      <td>IAH</td>\n",
       "      <td>689</td>\n",
       "      <td>8.0</td>\n",
       "      <td>32.0</td>\n",
       "      <td>True</td>\n",
       "    </tr>\n",
       "    <tr>\n",
       "      <th>7009726</th>\n",
       "      <td>12</td>\n",
       "      <td>13</td>\n",
       "      <td>6</td>\n",
       "      <td>1240</td>\n",
       "      <td>DL</td>\n",
       "      <td>9.0</td>\n",
       "      <td>11.0</td>\n",
       "      <td>IAD</td>\n",
       "      <td>ATL</td>\n",
       "      <td>533</td>\n",
       "      <td>13.0</td>\n",
       "      <td>13.0</td>\n",
       "      <td>True</td>\n",
       "    </tr>\n",
       "    <tr>\n",
       "      <th>7009727</th>\n",
       "      <td>12</td>\n",
       "      <td>13</td>\n",
       "      <td>6</td>\n",
       "      <td>1103</td>\n",
       "      <td>DL</td>\n",
       "      <td>-5.0</td>\n",
       "      <td>7.0</td>\n",
       "      <td>SAT</td>\n",
       "      <td>ATL</td>\n",
       "      <td>874</td>\n",
       "      <td>8.0</td>\n",
       "      <td>11.0</td>\n",
       "      <td>False</td>\n",
       "    </tr>\n",
       "  </tbody>\n",
       "</table>\n",
       "<p>1928371 rows × 13 columns</p>\n",
       "</div>"
      ],
      "text/plain": [
       "         Month  DayofMonth  DayOfWeek  CRSDepTime UniqueCarrier  ArrDelay  \\\n",
       "0            1           3          4        1955            WN     -14.0   \n",
       "1            1           3          4         735            WN       2.0   \n",
       "2            1           3          4         620            WN      14.0   \n",
       "4            1           3          4        1755            WN      34.0   \n",
       "5            1           3          4        1915            WN      11.0   \n",
       "...        ...         ...        ...         ...           ...       ...   \n",
       "7009710     12          13          6        1220            DL      25.0   \n",
       "7009717     12          13          6         600            DL      75.0   \n",
       "7009718     12          13          6         847            DL      99.0   \n",
       "7009726     12          13          6        1240            DL       9.0   \n",
       "7009727     12          13          6        1103            DL      -5.0   \n",
       "\n",
       "         DepDelay Origin Dest  Distance  TaxiIn  TaxiOut  Target  \n",
       "0             8.0    IAD  TPA       810     4.0      8.0   False  \n",
       "1            19.0    IAD  TPA       810     5.0     10.0    True  \n",
       "2             8.0    IND  BWI       515     3.0     17.0    True  \n",
       "4            34.0    IND  BWI       515     3.0     10.0    True  \n",
       "5            25.0    IND  JAX       688     4.0     10.0    True  \n",
       "...           ...    ...  ...       ...     ...      ...     ...  \n",
       "7009710      30.0    MSP  ATL       906     9.0     18.0    True  \n",
       "7009717      57.0    RIC  ATL       481    15.0     34.0    True  \n",
       "7009718      80.0    ATL  IAH       689     8.0     32.0    True  \n",
       "7009726      11.0    IAD  ATL       533    13.0     13.0    True  \n",
       "7009727       7.0    SAT  ATL       874     8.0     11.0   False  \n",
       "\n",
       "[1928371 rows x 13 columns]"
      ]
     },
     "execution_count": 5,
     "metadata": {},
     "output_type": "execute_result"
    }
   ],
   "source": [
    "airlines1['Target'] = airlines1['ArrDelay']>0\n",
    "airlines1"
   ]
  },
  {
   "cell_type": "code",
   "execution_count": 6,
   "id": "0ccbc3e5",
   "metadata": {},
   "outputs": [
    {
     "data": {
      "text/plain": [
       "True     0.893715\n",
       "False    0.106285\n",
       "Name: Target, dtype: float64"
      ]
     },
     "execution_count": 6,
     "metadata": {},
     "output_type": "execute_result"
    }
   ],
   "source": [
    "#Vemos la distribución del Target\n",
    "airlines1.Target.value_counts(normalize=True)"
   ]
  },
  {
   "cell_type": "markdown",
   "id": "c90f5a19",
   "metadata": {},
   "source": [
    "Observamos que se trata de un dataset **desbalanceado**, donde el **89,4% de los vuelos llegan retrasados** y el **10.6% llegan a tiempo**.\n",
    "Inicialmente entrenaremos los modelos con una muestra aleatoria y posteriormente veremos la influencia en el modelo cuando utilizamos datos más balanceados."
   ]
  },
  {
   "cell_type": "markdown",
   "id": "8a312563",
   "metadata": {},
   "source": [
    "Creamos la función **obtener_metricas(modelo, y_true, y_pred)** que a partir de un modelo entrenado retorna sus métricas"
   ]
  },
  {
   "cell_type": "code",
   "execution_count": 19,
   "id": "43dcfacf",
   "metadata": {},
   "outputs": [],
   "source": [
    "def obtener_metricas(modelo, y_true, y_pred):\n",
    "    accuracy = accuracy_score(y_true, y_pred)\n",
    "    sensitivity = recall_score(y_true, y_pred)\n",
    "    specificity = specificity_score(y_true, y_pred)\n",
    "    precision = precision_score(y_true, y_pred)\n",
    "    f1score = f1_score(y_true, y_pred)\n",
    "    rocaucscore= roc_auc_score(y_true, y_pred)\n",
    "    return {'Modelo': modelo, 'Accuracy':accuracy, 'Sensitivity':sensitivity, 'Specificity': specificity, 'Precision':precision, 'F1Score':f1score, 'ROC AUC Score':rocaucscore}\n"
   ]
  },
  {
   "cell_type": "markdown",
   "id": "0529bfc2",
   "metadata": {},
   "source": [
    "Sabemos que la variable **DepDelay** tiene una gran influencia en el target. Para determinarlo, simulamos un modelo el cual devuelve la propia variable transformada (1 si DepDelay tiene retraso, 0 si no lo tiene). Utilizamos todo el dataset"
   ]
  },
  {
   "cell_type": "code",
   "execution_count": 7,
   "id": "c750ceaf",
   "metadata": {},
   "outputs": [
    {
     "data": {
      "text/plain": [
       "{'Modelo': 'prueba',\n",
       " 'Accuracy': 0.8937154728006177,\n",
       " 'Sensitivity': 1.0,\n",
       " 'Specificity': 0.0,\n",
       " 'Precision': 0.8937154728006177,\n",
       " 'F1Score': 0.9438751339755397,\n",
       " 'ROC AUC Score': 0.5}"
      ]
     },
     "execution_count": 7,
     "metadata": {},
     "output_type": "execute_result"
    }
   ],
   "source": [
    "# Utilizando únicamente la variable DepDelay transformándola en 0/1\n",
    "y_pred = airlines1['DepDelay']>0\n",
    "obtener_metricas('prueba', airlines1.Target, y_pred)"
   ]
  },
  {
   "cell_type": "code",
   "execution_count": 9,
   "id": "7f903f59",
   "metadata": {},
   "outputs": [
    {
     "data": {
      "text/plain": [
       "array([[      0,  204956],\n",
       "       [      0, 1723415]], dtype=int64)"
      ]
     },
     "execution_count": 9,
     "metadata": {},
     "output_type": "execute_result"
    }
   ],
   "source": [
    "confusion_matrix(airlines1.Target, y_pred)"
   ]
  },
  {
   "cell_type": "markdown",
   "id": "f9665c8f",
   "metadata": {},
   "source": [
    "Observamos que con un modelo que simplemente retorne DepDelay obtenemos una Accuracy y precision de 0.89, una sensitivity de 1 y F1score de 0.94. Por contra vemos que no ha detectado ningún negativo y tiene 204956 false positive  "
   ]
  },
  {
   "cell_type": "markdown",
   "id": "5eb87288",
   "metadata": {},
   "source": [
    "Por motivos de capacidad de procesado tomamos una muestra aleatoria del 10% y será con la que realizaremos los modelos"
   ]
  },
  {
   "cell_type": "code",
   "execution_count": 7,
   "id": "4255e5ef",
   "metadata": {},
   "outputs": [],
   "source": [
    "airlines1 = airlines1.sample(frac=0.1, random_state=0)"
   ]
  },
  {
   "cell_type": "markdown",
   "id": "e40f4360",
   "metadata": {},
   "source": [
    "Hacemos una ingeniería de variables inicial:\n",
    "- Transformaremos **CRSDepTime** en intervalos horarios\n",
    "- Dummificaremos **UniqueCarrier**"
   ]
  },
  {
   "cell_type": "code",
   "execution_count": 8,
   "id": "34dee3cf",
   "metadata": {},
   "outputs": [],
   "source": [
    "airlines1['CRSDepTime'] = airlines1['CRSDepTime'] //100\n",
    "airlines1= pd.get_dummies(airlines1, columns=['UniqueCarrier'])"
   ]
  },
  {
   "cell_type": "code",
   "execution_count": 9,
   "id": "37513214",
   "metadata": {},
   "outputs": [
    {
     "data": {
      "text/html": [
       "<div>\n",
       "<style scoped>\n",
       "    .dataframe tbody tr th:only-of-type {\n",
       "        vertical-align: middle;\n",
       "    }\n",
       "\n",
       "    .dataframe tbody tr th {\n",
       "        vertical-align: top;\n",
       "    }\n",
       "\n",
       "    .dataframe thead th {\n",
       "        text-align: right;\n",
       "    }\n",
       "</style>\n",
       "<table border=\"1\" class=\"dataframe\">\n",
       "  <thead>\n",
       "    <tr style=\"text-align: right;\">\n",
       "      <th></th>\n",
       "      <th>Month</th>\n",
       "      <th>DayofMonth</th>\n",
       "      <th>DayOfWeek</th>\n",
       "      <th>CRSDepTime</th>\n",
       "      <th>ArrDelay</th>\n",
       "      <th>DepDelay</th>\n",
       "      <th>Origin</th>\n",
       "      <th>Dest</th>\n",
       "      <th>Distance</th>\n",
       "      <th>TaxiIn</th>\n",
       "      <th>TaxiOut</th>\n",
       "      <th>Target</th>\n",
       "      <th>UniqueCarrier_9E</th>\n",
       "      <th>UniqueCarrier_AA</th>\n",
       "      <th>UniqueCarrier_AQ</th>\n",
       "      <th>UniqueCarrier_AS</th>\n",
       "      <th>UniqueCarrier_B6</th>\n",
       "      <th>UniqueCarrier_CO</th>\n",
       "      <th>UniqueCarrier_DL</th>\n",
       "      <th>UniqueCarrier_EV</th>\n",
       "      <th>UniqueCarrier_F9</th>\n",
       "      <th>UniqueCarrier_FL</th>\n",
       "      <th>UniqueCarrier_HA</th>\n",
       "      <th>UniqueCarrier_MQ</th>\n",
       "      <th>UniqueCarrier_NW</th>\n",
       "      <th>UniqueCarrier_OH</th>\n",
       "      <th>UniqueCarrier_OO</th>\n",
       "      <th>UniqueCarrier_UA</th>\n",
       "      <th>UniqueCarrier_US</th>\n",
       "      <th>UniqueCarrier_WN</th>\n",
       "      <th>UniqueCarrier_XE</th>\n",
       "      <th>UniqueCarrier_YV</th>\n",
       "    </tr>\n",
       "  </thead>\n",
       "  <tbody>\n",
       "    <tr>\n",
       "      <th>6731208</th>\n",
       "      <td>12</td>\n",
       "      <td>1</td>\n",
       "      <td>1</td>\n",
       "      <td>15</td>\n",
       "      <td>84.0</td>\n",
       "      <td>94.0</td>\n",
       "      <td>HOU</td>\n",
       "      <td>HRL</td>\n",
       "      <td>276</td>\n",
       "      <td>2.0</td>\n",
       "      <td>8.0</td>\n",
       "      <td>True</td>\n",
       "      <td>0</td>\n",
       "      <td>0</td>\n",
       "      <td>0</td>\n",
       "      <td>0</td>\n",
       "      <td>0</td>\n",
       "      <td>0</td>\n",
       "      <td>0</td>\n",
       "      <td>0</td>\n",
       "      <td>0</td>\n",
       "      <td>0</td>\n",
       "      <td>0</td>\n",
       "      <td>0</td>\n",
       "      <td>0</td>\n",
       "      <td>0</td>\n",
       "      <td>0</td>\n",
       "      <td>0</td>\n",
       "      <td>0</td>\n",
       "      <td>1</td>\n",
       "      <td>0</td>\n",
       "      <td>0</td>\n",
       "    </tr>\n",
       "    <tr>\n",
       "      <th>609057</th>\n",
       "      <td>2</td>\n",
       "      <td>3</td>\n",
       "      <td>7</td>\n",
       "      <td>10</td>\n",
       "      <td>7.0</td>\n",
       "      <td>18.0</td>\n",
       "      <td>SJC</td>\n",
       "      <td>SEA</td>\n",
       "      <td>697</td>\n",
       "      <td>5.0</td>\n",
       "      <td>7.0</td>\n",
       "      <td>True</td>\n",
       "      <td>0</td>\n",
       "      <td>0</td>\n",
       "      <td>0</td>\n",
       "      <td>0</td>\n",
       "      <td>0</td>\n",
       "      <td>0</td>\n",
       "      <td>0</td>\n",
       "      <td>0</td>\n",
       "      <td>0</td>\n",
       "      <td>0</td>\n",
       "      <td>0</td>\n",
       "      <td>0</td>\n",
       "      <td>0</td>\n",
       "      <td>0</td>\n",
       "      <td>0</td>\n",
       "      <td>0</td>\n",
       "      <td>0</td>\n",
       "      <td>1</td>\n",
       "      <td>0</td>\n",
       "      <td>0</td>\n",
       "    </tr>\n",
       "    <tr>\n",
       "      <th>889032</th>\n",
       "      <td>2</td>\n",
       "      <td>2</td>\n",
       "      <td>6</td>\n",
       "      <td>19</td>\n",
       "      <td>1.0</td>\n",
       "      <td>8.0</td>\n",
       "      <td>LAS</td>\n",
       "      <td>ONT</td>\n",
       "      <td>197</td>\n",
       "      <td>4.0</td>\n",
       "      <td>10.0</td>\n",
       "      <td>True</td>\n",
       "      <td>0</td>\n",
       "      <td>0</td>\n",
       "      <td>0</td>\n",
       "      <td>0</td>\n",
       "      <td>0</td>\n",
       "      <td>0</td>\n",
       "      <td>0</td>\n",
       "      <td>0</td>\n",
       "      <td>0</td>\n",
       "      <td>0</td>\n",
       "      <td>0</td>\n",
       "      <td>0</td>\n",
       "      <td>0</td>\n",
       "      <td>0</td>\n",
       "      <td>0</td>\n",
       "      <td>0</td>\n",
       "      <td>0</td>\n",
       "      <td>1</td>\n",
       "      <td>0</td>\n",
       "      <td>0</td>\n",
       "    </tr>\n",
       "    <tr>\n",
       "      <th>5502092</th>\n",
       "      <td>10</td>\n",
       "      <td>2</td>\n",
       "      <td>4</td>\n",
       "      <td>18</td>\n",
       "      <td>31.0</td>\n",
       "      <td>35.0</td>\n",
       "      <td>IAH</td>\n",
       "      <td>JAX</td>\n",
       "      <td>817</td>\n",
       "      <td>5.0</td>\n",
       "      <td>18.0</td>\n",
       "      <td>True</td>\n",
       "      <td>0</td>\n",
       "      <td>0</td>\n",
       "      <td>0</td>\n",
       "      <td>0</td>\n",
       "      <td>0</td>\n",
       "      <td>0</td>\n",
       "      <td>0</td>\n",
       "      <td>0</td>\n",
       "      <td>0</td>\n",
       "      <td>0</td>\n",
       "      <td>0</td>\n",
       "      <td>0</td>\n",
       "      <td>0</td>\n",
       "      <td>0</td>\n",
       "      <td>0</td>\n",
       "      <td>0</td>\n",
       "      <td>0</td>\n",
       "      <td>0</td>\n",
       "      <td>1</td>\n",
       "      <td>0</td>\n",
       "    </tr>\n",
       "    <tr>\n",
       "      <th>1699584</th>\n",
       "      <td>3</td>\n",
       "      <td>25</td>\n",
       "      <td>2</td>\n",
       "      <td>18</td>\n",
       "      <td>62.0</td>\n",
       "      <td>66.0</td>\n",
       "      <td>DFW</td>\n",
       "      <td>PBI</td>\n",
       "      <td>1103</td>\n",
       "      <td>5.0</td>\n",
       "      <td>12.0</td>\n",
       "      <td>True</td>\n",
       "      <td>0</td>\n",
       "      <td>1</td>\n",
       "      <td>0</td>\n",
       "      <td>0</td>\n",
       "      <td>0</td>\n",
       "      <td>0</td>\n",
       "      <td>0</td>\n",
       "      <td>0</td>\n",
       "      <td>0</td>\n",
       "      <td>0</td>\n",
       "      <td>0</td>\n",
       "      <td>0</td>\n",
       "      <td>0</td>\n",
       "      <td>0</td>\n",
       "      <td>0</td>\n",
       "      <td>0</td>\n",
       "      <td>0</td>\n",
       "      <td>0</td>\n",
       "      <td>0</td>\n",
       "      <td>0</td>\n",
       "    </tr>\n",
       "    <tr>\n",
       "      <th>...</th>\n",
       "      <td>...</td>\n",
       "      <td>...</td>\n",
       "      <td>...</td>\n",
       "      <td>...</td>\n",
       "      <td>...</td>\n",
       "      <td>...</td>\n",
       "      <td>...</td>\n",
       "      <td>...</td>\n",
       "      <td>...</td>\n",
       "      <td>...</td>\n",
       "      <td>...</td>\n",
       "      <td>...</td>\n",
       "      <td>...</td>\n",
       "      <td>...</td>\n",
       "      <td>...</td>\n",
       "      <td>...</td>\n",
       "      <td>...</td>\n",
       "      <td>...</td>\n",
       "      <td>...</td>\n",
       "      <td>...</td>\n",
       "      <td>...</td>\n",
       "      <td>...</td>\n",
       "      <td>...</td>\n",
       "      <td>...</td>\n",
       "      <td>...</td>\n",
       "      <td>...</td>\n",
       "      <td>...</td>\n",
       "      <td>...</td>\n",
       "      <td>...</td>\n",
       "      <td>...</td>\n",
       "      <td>...</td>\n",
       "      <td>...</td>\n",
       "    </tr>\n",
       "    <tr>\n",
       "      <th>511846</th>\n",
       "      <td>1</td>\n",
       "      <td>13</td>\n",
       "      <td>7</td>\n",
       "      <td>19</td>\n",
       "      <td>46.0</td>\n",
       "      <td>35.0</td>\n",
       "      <td>AUS</td>\n",
       "      <td>DFW</td>\n",
       "      <td>190</td>\n",
       "      <td>15.0</td>\n",
       "      <td>17.0</td>\n",
       "      <td>True</td>\n",
       "      <td>0</td>\n",
       "      <td>1</td>\n",
       "      <td>0</td>\n",
       "      <td>0</td>\n",
       "      <td>0</td>\n",
       "      <td>0</td>\n",
       "      <td>0</td>\n",
       "      <td>0</td>\n",
       "      <td>0</td>\n",
       "      <td>0</td>\n",
       "      <td>0</td>\n",
       "      <td>0</td>\n",
       "      <td>0</td>\n",
       "      <td>0</td>\n",
       "      <td>0</td>\n",
       "      <td>0</td>\n",
       "      <td>0</td>\n",
       "      <td>0</td>\n",
       "      <td>0</td>\n",
       "      <td>0</td>\n",
       "    </tr>\n",
       "    <tr>\n",
       "      <th>636696</th>\n",
       "      <td>2</td>\n",
       "      <td>12</td>\n",
       "      <td>2</td>\n",
       "      <td>21</td>\n",
       "      <td>81.0</td>\n",
       "      <td>56.0</td>\n",
       "      <td>ISP</td>\n",
       "      <td>MCO</td>\n",
       "      <td>972</td>\n",
       "      <td>5.0</td>\n",
       "      <td>24.0</td>\n",
       "      <td>True</td>\n",
       "      <td>0</td>\n",
       "      <td>0</td>\n",
       "      <td>0</td>\n",
       "      <td>0</td>\n",
       "      <td>0</td>\n",
       "      <td>0</td>\n",
       "      <td>0</td>\n",
       "      <td>0</td>\n",
       "      <td>0</td>\n",
       "      <td>0</td>\n",
       "      <td>0</td>\n",
       "      <td>0</td>\n",
       "      <td>0</td>\n",
       "      <td>0</td>\n",
       "      <td>0</td>\n",
       "      <td>0</td>\n",
       "      <td>0</td>\n",
       "      <td>1</td>\n",
       "      <td>0</td>\n",
       "      <td>0</td>\n",
       "    </tr>\n",
       "    <tr>\n",
       "      <th>5079318</th>\n",
       "      <td>9</td>\n",
       "      <td>6</td>\n",
       "      <td>6</td>\n",
       "      <td>18</td>\n",
       "      <td>254.0</td>\n",
       "      <td>268.0</td>\n",
       "      <td>PHL</td>\n",
       "      <td>PHX</td>\n",
       "      <td>2075</td>\n",
       "      <td>6.0</td>\n",
       "      <td>15.0</td>\n",
       "      <td>True</td>\n",
       "      <td>0</td>\n",
       "      <td>0</td>\n",
       "      <td>0</td>\n",
       "      <td>0</td>\n",
       "      <td>0</td>\n",
       "      <td>0</td>\n",
       "      <td>0</td>\n",
       "      <td>0</td>\n",
       "      <td>0</td>\n",
       "      <td>0</td>\n",
       "      <td>0</td>\n",
       "      <td>0</td>\n",
       "      <td>0</td>\n",
       "      <td>0</td>\n",
       "      <td>0</td>\n",
       "      <td>0</td>\n",
       "      <td>1</td>\n",
       "      <td>0</td>\n",
       "      <td>0</td>\n",
       "      <td>0</td>\n",
       "    </tr>\n",
       "    <tr>\n",
       "      <th>51952</th>\n",
       "      <td>1</td>\n",
       "      <td>18</td>\n",
       "      <td>5</td>\n",
       "      <td>13</td>\n",
       "      <td>92.0</td>\n",
       "      <td>106.0</td>\n",
       "      <td>TPA</td>\n",
       "      <td>MDW</td>\n",
       "      <td>997</td>\n",
       "      <td>6.0</td>\n",
       "      <td>8.0</td>\n",
       "      <td>True</td>\n",
       "      <td>0</td>\n",
       "      <td>0</td>\n",
       "      <td>0</td>\n",
       "      <td>0</td>\n",
       "      <td>0</td>\n",
       "      <td>0</td>\n",
       "      <td>0</td>\n",
       "      <td>0</td>\n",
       "      <td>0</td>\n",
       "      <td>0</td>\n",
       "      <td>0</td>\n",
       "      <td>0</td>\n",
       "      <td>0</td>\n",
       "      <td>0</td>\n",
       "      <td>0</td>\n",
       "      <td>0</td>\n",
       "      <td>0</td>\n",
       "      <td>1</td>\n",
       "      <td>0</td>\n",
       "      <td>0</td>\n",
       "    </tr>\n",
       "    <tr>\n",
       "      <th>6423315</th>\n",
       "      <td>11</td>\n",
       "      <td>24</td>\n",
       "      <td>1</td>\n",
       "      <td>13</td>\n",
       "      <td>23.0</td>\n",
       "      <td>30.0</td>\n",
       "      <td>PBI</td>\n",
       "      <td>BOS</td>\n",
       "      <td>1197</td>\n",
       "      <td>4.0</td>\n",
       "      <td>9.0</td>\n",
       "      <td>True</td>\n",
       "      <td>0</td>\n",
       "      <td>0</td>\n",
       "      <td>0</td>\n",
       "      <td>0</td>\n",
       "      <td>1</td>\n",
       "      <td>0</td>\n",
       "      <td>0</td>\n",
       "      <td>0</td>\n",
       "      <td>0</td>\n",
       "      <td>0</td>\n",
       "      <td>0</td>\n",
       "      <td>0</td>\n",
       "      <td>0</td>\n",
       "      <td>0</td>\n",
       "      <td>0</td>\n",
       "      <td>0</td>\n",
       "      <td>0</td>\n",
       "      <td>0</td>\n",
       "      <td>0</td>\n",
       "      <td>0</td>\n",
       "    </tr>\n",
       "  </tbody>\n",
       "</table>\n",
       "<p>192837 rows × 32 columns</p>\n",
       "</div>"
      ],
      "text/plain": [
       "         Month  DayofMonth  DayOfWeek  CRSDepTime  ArrDelay  DepDelay Origin  \\\n",
       "6731208     12           1          1          15      84.0      94.0    HOU   \n",
       "609057       2           3          7          10       7.0      18.0    SJC   \n",
       "889032       2           2          6          19       1.0       8.0    LAS   \n",
       "5502092     10           2          4          18      31.0      35.0    IAH   \n",
       "1699584      3          25          2          18      62.0      66.0    DFW   \n",
       "...        ...         ...        ...         ...       ...       ...    ...   \n",
       "511846       1          13          7          19      46.0      35.0    AUS   \n",
       "636696       2          12          2          21      81.0      56.0    ISP   \n",
       "5079318      9           6          6          18     254.0     268.0    PHL   \n",
       "51952        1          18          5          13      92.0     106.0    TPA   \n",
       "6423315     11          24          1          13      23.0      30.0    PBI   \n",
       "\n",
       "        Dest  Distance  TaxiIn  TaxiOut  Target  UniqueCarrier_9E  \\\n",
       "6731208  HRL       276     2.0      8.0    True                 0   \n",
       "609057   SEA       697     5.0      7.0    True                 0   \n",
       "889032   ONT       197     4.0     10.0    True                 0   \n",
       "5502092  JAX       817     5.0     18.0    True                 0   \n",
       "1699584  PBI      1103     5.0     12.0    True                 0   \n",
       "...      ...       ...     ...      ...     ...               ...   \n",
       "511846   DFW       190    15.0     17.0    True                 0   \n",
       "636696   MCO       972     5.0     24.0    True                 0   \n",
       "5079318  PHX      2075     6.0     15.0    True                 0   \n",
       "51952    MDW       997     6.0      8.0    True                 0   \n",
       "6423315  BOS      1197     4.0      9.0    True                 0   \n",
       "\n",
       "         UniqueCarrier_AA  UniqueCarrier_AQ  UniqueCarrier_AS  \\\n",
       "6731208                 0                 0                 0   \n",
       "609057                  0                 0                 0   \n",
       "889032                  0                 0                 0   \n",
       "5502092                 0                 0                 0   \n",
       "1699584                 1                 0                 0   \n",
       "...                   ...               ...               ...   \n",
       "511846                  1                 0                 0   \n",
       "636696                  0                 0                 0   \n",
       "5079318                 0                 0                 0   \n",
       "51952                   0                 0                 0   \n",
       "6423315                 0                 0                 0   \n",
       "\n",
       "         UniqueCarrier_B6  UniqueCarrier_CO  UniqueCarrier_DL  \\\n",
       "6731208                 0                 0                 0   \n",
       "609057                  0                 0                 0   \n",
       "889032                  0                 0                 0   \n",
       "5502092                 0                 0                 0   \n",
       "1699584                 0                 0                 0   \n",
       "...                   ...               ...               ...   \n",
       "511846                  0                 0                 0   \n",
       "636696                  0                 0                 0   \n",
       "5079318                 0                 0                 0   \n",
       "51952                   0                 0                 0   \n",
       "6423315                 1                 0                 0   \n",
       "\n",
       "         UniqueCarrier_EV  UniqueCarrier_F9  UniqueCarrier_FL  \\\n",
       "6731208                 0                 0                 0   \n",
       "609057                  0                 0                 0   \n",
       "889032                  0                 0                 0   \n",
       "5502092                 0                 0                 0   \n",
       "1699584                 0                 0                 0   \n",
       "...                   ...               ...               ...   \n",
       "511846                  0                 0                 0   \n",
       "636696                  0                 0                 0   \n",
       "5079318                 0                 0                 0   \n",
       "51952                   0                 0                 0   \n",
       "6423315                 0                 0                 0   \n",
       "\n",
       "         UniqueCarrier_HA  UniqueCarrier_MQ  UniqueCarrier_NW  \\\n",
       "6731208                 0                 0                 0   \n",
       "609057                  0                 0                 0   \n",
       "889032                  0                 0                 0   \n",
       "5502092                 0                 0                 0   \n",
       "1699584                 0                 0                 0   \n",
       "...                   ...               ...               ...   \n",
       "511846                  0                 0                 0   \n",
       "636696                  0                 0                 0   \n",
       "5079318                 0                 0                 0   \n",
       "51952                   0                 0                 0   \n",
       "6423315                 0                 0                 0   \n",
       "\n",
       "         UniqueCarrier_OH  UniqueCarrier_OO  UniqueCarrier_UA  \\\n",
       "6731208                 0                 0                 0   \n",
       "609057                  0                 0                 0   \n",
       "889032                  0                 0                 0   \n",
       "5502092                 0                 0                 0   \n",
       "1699584                 0                 0                 0   \n",
       "...                   ...               ...               ...   \n",
       "511846                  0                 0                 0   \n",
       "636696                  0                 0                 0   \n",
       "5079318                 0                 0                 0   \n",
       "51952                   0                 0                 0   \n",
       "6423315                 0                 0                 0   \n",
       "\n",
       "         UniqueCarrier_US  UniqueCarrier_WN  UniqueCarrier_XE  \\\n",
       "6731208                 0                 1                 0   \n",
       "609057                  0                 1                 0   \n",
       "889032                  0                 1                 0   \n",
       "5502092                 0                 0                 1   \n",
       "1699584                 0                 0                 0   \n",
       "...                   ...               ...               ...   \n",
       "511846                  0                 0                 0   \n",
       "636696                  0                 1                 0   \n",
       "5079318                 1                 0                 0   \n",
       "51952                   0                 1                 0   \n",
       "6423315                 0                 0                 0   \n",
       "\n",
       "         UniqueCarrier_YV  \n",
       "6731208                 0  \n",
       "609057                  0  \n",
       "889032                  0  \n",
       "5502092                 0  \n",
       "1699584                 0  \n",
       "...                   ...  \n",
       "511846                  0  \n",
       "636696                  0  \n",
       "5079318                 0  \n",
       "51952                   0  \n",
       "6423315                 0  \n",
       "\n",
       "[192837 rows x 32 columns]"
      ]
     },
     "execution_count": 9,
     "metadata": {},
     "output_type": "execute_result"
    }
   ],
   "source": [
    "airlines1"
   ]
  },
  {
   "cell_type": "markdown",
   "id": "766699e8",
   "metadata": {},
   "source": [
    "Seleccionaremos las variables: **Month, DayofMonth, DayOfWeek, CRSDepTime,'DepDelay', 'Distance', 'TaxiIn', 'TaxiOut' y UniqueCarrier** dummificada"
   ]
  },
  {
   "cell_type": "markdown",
   "id": "8c73e677",
   "metadata": {},
   "source": [
    "Para entrenar y testear los diferentes modelos generamos 2 datasets:\n",
    "- Train/Test aleatorio de la muestra (**no balanceado**)\n",
    "- Train/Test **balanceado** (al 30%) de la muestra"
   ]
  },
  {
   "cell_type": "code",
   "execution_count": 10,
   "id": "03b63d18",
   "metadata": {},
   "outputs": [],
   "source": [
    "#Datos no balanceados\n",
    "y= airlines1['Target'].to_numpy()\n",
    "x= airlines1.drop(['ArrDelay', 'Target', 'Origin', 'Dest'], axis=1).to_numpy()\n",
    "X_train, X_test, y_train, y_test = train_test_split(x, y, test_size=0.30, random_state=0)"
   ]
  },
  {
   "cell_type": "markdown",
   "id": "59b56c1a",
   "metadata": {},
   "source": [
    "Para obtener otro dataset de train más balanceado realizamos:   \n",
    "- Smote para aumentar la clase minoritaria y pase de representar el 10% al representar aprox. un 17% del total    \n",
    "- Undersampling para disminuir la clase mayoritaria y dejar aproximadamente un **30% en la clase minoritaria**"
   ]
  },
  {
   "cell_type": "code",
   "execution_count": 11,
   "id": "2bd7879d",
   "metadata": {},
   "outputs": [],
   "source": [
    "#Aplicamos smote \n",
    "X_train_smote, y_train_smote = SMOTE(sampling_strategy= 0.20, random_state=0).fit_resample(X_train,y_train)"
   ]
  },
  {
   "cell_type": "code",
   "execution_count": 12,
   "id": "e202b22c",
   "metadata": {},
   "outputs": [
    {
     "data": {
      "text/plain": [
       "0.833335634691595"
      ]
     },
     "execution_count": 12,
     "metadata": {},
     "output_type": "execute_result"
    }
   ],
   "source": [
    "y_train_smote.mean()"
   ]
  },
  {
   "cell_type": "code",
   "execution_count": 13,
   "id": "a3729d89",
   "metadata": {},
   "outputs": [],
   "source": [
    "#Hacemos un undersampling\n",
    "X_train_b ,y_train_b = RandomUnderSampler(sampling_strategy= 0.41, random_state=0).fit_resample(X_train_smote, y_train_smote)"
   ]
  },
  {
   "cell_type": "code",
   "execution_count": 14,
   "id": "ab12f25f",
   "metadata": {},
   "outputs": [
    {
     "data": {
      "text/plain": [
       "0.7092196872967308"
      ]
     },
     "execution_count": 14,
     "metadata": {},
     "output_type": "execute_result"
    }
   ],
   "source": [
    "y_train_b.mean()"
   ]
  },
  {
   "cell_type": "code",
   "execution_count": 15,
   "id": "5b82432f",
   "metadata": {},
   "outputs": [
    {
     "data": {
      "text/plain": [
       "(83018,)"
      ]
     },
     "execution_count": 15,
     "metadata": {},
     "output_type": "execute_result"
    }
   ],
   "source": [
    "y_train_b.shape"
   ]
  },
  {
   "cell_type": "code",
   "execution_count": 16,
   "id": "7f8d813e",
   "metadata": {},
   "outputs": [
    {
     "data": {
      "text/plain": [
       "(134985,)"
      ]
     },
     "execution_count": 16,
     "metadata": {},
     "output_type": "execute_result"
    }
   ],
   "source": [
    "y_train.shape"
   ]
  },
  {
   "cell_type": "markdown",
   "id": "5a215907",
   "metadata": {},
   "source": [
    "Tenemos un dataset de train más balanceado (al 30%) pero con menos datos. Hemos pasado de 134985 a 83018 registros"
   ]
  },
  {
   "cell_type": "markdown",
   "id": "e38ded1a",
   "metadata": {},
   "source": [
    " ### Model 1: Logistic Regression"
   ]
  },
  {
   "cell_type": "code",
   "execution_count": 17,
   "id": "9adbc2ed",
   "metadata": {},
   "outputs": [
    {
     "data": {
      "text/plain": [
       "LogisticRegression(max_iter=1000, random_state=0)"
      ]
     },
     "execution_count": 17,
     "metadata": {},
     "output_type": "execute_result"
    }
   ],
   "source": [
    "#Logistic Regression datos no balanceados\n",
    "lr = LogisticRegression(max_iter=1000,random_state=0)\n",
    "lr.fit(X_train, y_train)"
   ]
  },
  {
   "cell_type": "code",
   "execution_count": 20,
   "id": "cfcb0d20",
   "metadata": {},
   "outputs": [
    {
     "data": {
      "text/plain": [
       "{'Modelo': 'LogisticRegression',\n",
       " 'Accuracy': 0.9026308511373851,\n",
       " 'Sensitivity': 0.9808335750894498,\n",
       " 'Specificity': 0.24483487880266797,\n",
       " 'Precision': 0.9161427848833008,\n",
       " 'F1Score': 0.9473851355769141,\n",
       " 'ROC AUC Score': 0.6128342269460589}"
      ]
     },
     "execution_count": 20,
     "metadata": {},
     "output_type": "execute_result"
    }
   ],
   "source": [
    "metricas= obtener_metricas('LogisticRegression', y_test, lr.predict(X_test))\n",
    "metricas"
   ]
  },
  {
   "cell_type": "code",
   "execution_count": 21,
   "id": "60600e3c",
   "metadata": {},
   "outputs": [
    {
     "data": {
      "text/html": [
       "<div>\n",
       "<style scoped>\n",
       "    .dataframe tbody tr th:only-of-type {\n",
       "        vertical-align: middle;\n",
       "    }\n",
       "\n",
       "    .dataframe tbody tr th {\n",
       "        vertical-align: top;\n",
       "    }\n",
       "\n",
       "    .dataframe thead th {\n",
       "        text-align: right;\n",
       "    }\n",
       "</style>\n",
       "<table border=\"1\" class=\"dataframe\">\n",
       "  <thead>\n",
       "    <tr style=\"text-align: right;\">\n",
       "      <th></th>\n",
       "      <th>Modelo</th>\n",
       "      <th>Accuracy</th>\n",
       "      <th>Sensitivity</th>\n",
       "      <th>Specificity</th>\n",
       "      <th>Precision</th>\n",
       "      <th>F1Score</th>\n",
       "      <th>ROC AUC Score</th>\n",
       "    </tr>\n",
       "  </thead>\n",
       "  <tbody>\n",
       "    <tr>\n",
       "      <th>0</th>\n",
       "      <td>LogisticRegression</td>\n",
       "      <td>0.902631</td>\n",
       "      <td>0.980834</td>\n",
       "      <td>0.244835</td>\n",
       "      <td>0.916143</td>\n",
       "      <td>0.947385</td>\n",
       "      <td>0.612834</td>\n",
       "    </tr>\n",
       "  </tbody>\n",
       "</table>\n",
       "</div>"
      ],
      "text/plain": [
       "               Modelo  Accuracy  Sensitivity  Specificity  Precision  \\\n",
       "0  LogisticRegression  0.902631     0.980834     0.244835   0.916143   \n",
       "\n",
       "    F1Score  ROC AUC Score  \n",
       "0  0.947385       0.612834  "
      ]
     },
     "execution_count": 21,
     "metadata": {},
     "output_type": "execute_result"
    }
   ],
   "source": [
    "#Generamos un DF con las métricas para poder hacer una comparativa\n",
    "metricas1 = pd.DataFrame(metricas, index=[0])\n",
    "metricas1"
   ]
  },
  {
   "cell_type": "markdown",
   "id": "443efd67",
   "metadata": {},
   "source": [
    "### Model 1.b: Logistic Regression (datos balanceados)"
   ]
  },
  {
   "cell_type": "code",
   "execution_count": 22,
   "id": "7fdfe374",
   "metadata": {},
   "outputs": [
    {
     "data": {
      "text/plain": [
       "LogisticRegression(max_iter=1100, random_state=0)"
      ]
     },
     "execution_count": 22,
     "metadata": {},
     "output_type": "execute_result"
    }
   ],
   "source": [
    "#Logistic Regression datos balanceados al 30%\n",
    "lr_b = LogisticRegression(max_iter=1100, random_state=0)\n",
    "lr_b.fit(X_train_b, y_train_b)"
   ]
  },
  {
   "cell_type": "code",
   "execution_count": 23,
   "id": "a3ac48e7",
   "metadata": {},
   "outputs": [
    {
     "data": {
      "text/plain": [
       "{'Modelo': 'LogisticRegression_balanced',\n",
       " 'Accuracy': 0.8654670538615779,\n",
       " 'Sensitivity': 0.8804757760371338,\n",
       " 'Specificity': 0.7392223849032048,\n",
       " 'Precision': 0.9659862502121881,\n",
       " 'F1Score': 0.9212509991601996,\n",
       " 'ROC AUC Score': 0.8098490804701692}"
      ]
     },
     "execution_count": 23,
     "metadata": {},
     "output_type": "execute_result"
    }
   ],
   "source": [
    "metricas= obtener_metricas('LogisticRegression_balanced', y_test, lr_b.predict(X_test))\n",
    "metricas"
   ]
  },
  {
   "cell_type": "code",
   "execution_count": 24,
   "id": "2c953e07",
   "metadata": {},
   "outputs": [],
   "source": [
    "#Añadimos las métricas al DF metricas1 para la comparativa posterior\n",
    "metricas1 = metricas1.append(metricas, ignore_index=True)"
   ]
  },
  {
   "cell_type": "markdown",
   "id": "b15a18bd",
   "metadata": {},
   "source": [
    "### 2.- Ada Boost Classifier"
   ]
  },
  {
   "cell_type": "code",
   "execution_count": 25,
   "id": "5b31908f",
   "metadata": {},
   "outputs": [
    {
     "data": {
      "text/plain": [
       "AdaBoostClassifier(random_state=0)"
      ]
     },
     "execution_count": 25,
     "metadata": {},
     "output_type": "execute_result"
    }
   ],
   "source": [
    "#Ada Bost Classifier con datos no balanceados\n",
    "adab = AdaBoostClassifier(random_state=0)\n",
    "adab.fit(X_train, y_train)"
   ]
  },
  {
   "cell_type": "code",
   "execution_count": 26,
   "id": "07f6d91f",
   "metadata": {},
   "outputs": [
    {
     "data": {
      "text/plain": [
       "{'Modelo': 'AdaBoostClassifier',\n",
       " 'Accuracy': 0.9017665767821337,\n",
       " 'Sensitivity': 0.9741997872546175,\n",
       " 'Specificity': 0.2925004067024565,\n",
       " 'Precision': 0.9205226608187135,\n",
       " 'F1Score': 0.9466008926474042,\n",
       " 'ROC AUC Score': 0.6333500969785371}"
      ]
     },
     "execution_count": 26,
     "metadata": {},
     "output_type": "execute_result"
    }
   ],
   "source": [
    "metricas= obtener_metricas('AdaBoostClassifier', y_test, adab.predict(X_test))\n",
    "metricas"
   ]
  },
  {
   "cell_type": "code",
   "execution_count": 27,
   "id": "c7e6a9cb",
   "metadata": {},
   "outputs": [],
   "source": [
    "#Añadimos las métricas al DF metricas1 para la comparativa posterior\n",
    "metricas1 = metricas1.append(metricas, ignore_index=True)"
   ]
  },
  {
   "cell_type": "markdown",
   "id": "fe89c65d",
   "metadata": {},
   "source": [
    "### 2.b- Ada Boost Classifier (datos balanceados) "
   ]
  },
  {
   "cell_type": "code",
   "execution_count": 28,
   "id": "fe112122",
   "metadata": {},
   "outputs": [
    {
     "data": {
      "text/plain": [
       "AdaBoostClassifier(random_state=0)"
      ]
     },
     "execution_count": 28,
     "metadata": {},
     "output_type": "execute_result"
    }
   ],
   "source": [
    "#Ada Bost Classifier con datos balanceados al 30%\n",
    "adab_b = AdaBoostClassifier(random_state=0)\n",
    "adab_b.fit(X_train_b, y_train_b)"
   ]
  },
  {
   "cell_type": "code",
   "execution_count": 29,
   "id": "f00a304f",
   "metadata": {},
   "outputs": [
    {
     "data": {
      "text/plain": [
       "{'Modelo': 'AdaBoostClassifier_balanced',\n",
       " 'Accuracy': 0.8739887990043559,\n",
       " 'Sensitivity': 0.8986945169712793,\n",
       " 'Specificity': 0.6661786237188873,\n",
       " 'Precision': 0.9577072899276572,\n",
       " 'F1Score': 0.9272629310344828,\n",
       " 'ROC AUC Score': 0.7824365703450833}"
      ]
     },
     "execution_count": 29,
     "metadata": {},
     "output_type": "execute_result"
    }
   ],
   "source": [
    "metricas= obtener_metricas('AdaBoostClassifier_balanced', y_test, adab_b.predict(X_test))\n",
    "metricas"
   ]
  },
  {
   "cell_type": "code",
   "execution_count": 30,
   "id": "1c451404",
   "metadata": {},
   "outputs": [],
   "source": [
    "#Añadimos las métricas al DF metricas1 para la comparativa posterior\n",
    "metricas1 = metricas1.append(metricas, ignore_index=True)"
   ]
  },
  {
   "cell_type": "markdown",
   "id": "19944428",
   "metadata": {},
   "source": [
    "### 3.- BalancedBaggingClassifier"
   ]
  },
  {
   "cell_type": "markdown",
   "id": "0019f181",
   "metadata": {},
   "source": [
    "Utilizamos un modelo preparado para datasets no balanceados, ya que incorpora un balanceo previo de los datos"
   ]
  },
  {
   "cell_type": "code",
   "execution_count": 31,
   "id": "0abb3d11",
   "metadata": {},
   "outputs": [
    {
     "data": {
      "text/plain": [
       "BalancedBaggingClassifier(random_state=0)"
      ]
     },
     "execution_count": 31,
     "metadata": {},
     "output_type": "execute_result"
    }
   ],
   "source": [
    "#BalancedBaggingClassifier con datos no balanceados\n",
    "bbc = BalancedBaggingClassifier(random_state=0)\n",
    "bbc.fit(X_train, y_train)"
   ]
  },
  {
   "cell_type": "code",
   "execution_count": 32,
   "id": "756b9eb3",
   "metadata": {},
   "outputs": [
    {
     "data": {
      "text/plain": [
       "{'Modelo': 'BalancedBaggingClassifier',\n",
       " 'Accuracy': 0.811743759939155,\n",
       " 'Sensitivity': 0.8075621313219224,\n",
       " 'Specificity': 0.8469171953798601,\n",
       " 'Precision': 0.9779604646805321,\n",
       " 'F1Score': 0.8846304594230994,\n",
       " 'ROC AUC Score': 0.8272396633508914}"
      ]
     },
     "execution_count": 32,
     "metadata": {},
     "output_type": "execute_result"
    }
   ],
   "source": [
    "metricas= obtener_metricas('BalancedBaggingClassifier', y_test, bbc.predict(X_test))\n",
    "metricas"
   ]
  },
  {
   "cell_type": "code",
   "execution_count": 33,
   "id": "b5cc161a",
   "metadata": {},
   "outputs": [],
   "source": [
    "#Añadimos las métricas al DF metricas1 para la comparativa posterior\n",
    "metricas1 = metricas1.append(metricas, ignore_index=True)"
   ]
  },
  {
   "cell_type": "markdown",
   "id": "79f3d409",
   "metadata": {},
   "source": [
    "## - Exercici 2\n",
    "\n",
    "Compara els models de classificació utilitzant la precisió (accuracy), una matriu de confiança i d’altres mètriques més avançades."
   ]
  },
  {
   "cell_type": "markdown",
   "id": "24395ac4",
   "metadata": {},
   "source": [
    "Realizamos la comparativa de los 3 modelos y sus variantes con datos balanceados y marcamos el valor máximo en cada una de las métricas"
   ]
  },
  {
   "cell_type": "code",
   "execution_count": 34,
   "id": "b0de10e7",
   "metadata": {},
   "outputs": [
    {
     "data": {
      "text/html": [
       "<style type=\"text/css\">\n",
       "#T_5c8e2_row0_col1, #T_5c8e2_row0_col2, #T_5c8e2_row0_col5, #T_5c8e2_row4_col3, #T_5c8e2_row4_col4, #T_5c8e2_row4_col6 {\n",
       "  background-color: yellow;\n",
       "}\n",
       "</style>\n",
       "<table id=\"T_5c8e2_\">\n",
       "  <thead>\n",
       "    <tr>\n",
       "      <th class=\"blank level0\" >&nbsp;</th>\n",
       "      <th class=\"col_heading level0 col0\" >Modelo</th>\n",
       "      <th class=\"col_heading level0 col1\" >Accuracy</th>\n",
       "      <th class=\"col_heading level0 col2\" >Sensitivity</th>\n",
       "      <th class=\"col_heading level0 col3\" >Specificity</th>\n",
       "      <th class=\"col_heading level0 col4\" >Precision</th>\n",
       "      <th class=\"col_heading level0 col5\" >F1Score</th>\n",
       "      <th class=\"col_heading level0 col6\" >ROC AUC Score</th>\n",
       "    </tr>\n",
       "  </thead>\n",
       "  <tbody>\n",
       "    <tr>\n",
       "      <th id=\"T_5c8e2_level0_row0\" class=\"row_heading level0 row0\" >0</th>\n",
       "      <td id=\"T_5c8e2_row0_col0\" class=\"data row0 col0\" >LogisticRegression</td>\n",
       "      <td id=\"T_5c8e2_row0_col1\" class=\"data row0 col1\" >0.902631</td>\n",
       "      <td id=\"T_5c8e2_row0_col2\" class=\"data row0 col2\" >0.980834</td>\n",
       "      <td id=\"T_5c8e2_row0_col3\" class=\"data row0 col3\" >0.244835</td>\n",
       "      <td id=\"T_5c8e2_row0_col4\" class=\"data row0 col4\" >0.916143</td>\n",
       "      <td id=\"T_5c8e2_row0_col5\" class=\"data row0 col5\" >0.947385</td>\n",
       "      <td id=\"T_5c8e2_row0_col6\" class=\"data row0 col6\" >0.612834</td>\n",
       "    </tr>\n",
       "    <tr>\n",
       "      <th id=\"T_5c8e2_level0_row1\" class=\"row_heading level0 row1\" >1</th>\n",
       "      <td id=\"T_5c8e2_row1_col0\" class=\"data row1 col0\" >LogisticRegression_balanced</td>\n",
       "      <td id=\"T_5c8e2_row1_col1\" class=\"data row1 col1\" >0.865467</td>\n",
       "      <td id=\"T_5c8e2_row1_col2\" class=\"data row1 col2\" >0.880476</td>\n",
       "      <td id=\"T_5c8e2_row1_col3\" class=\"data row1 col3\" >0.739222</td>\n",
       "      <td id=\"T_5c8e2_row1_col4\" class=\"data row1 col4\" >0.965986</td>\n",
       "      <td id=\"T_5c8e2_row1_col5\" class=\"data row1 col5\" >0.921251</td>\n",
       "      <td id=\"T_5c8e2_row1_col6\" class=\"data row1 col6\" >0.809849</td>\n",
       "    </tr>\n",
       "    <tr>\n",
       "      <th id=\"T_5c8e2_level0_row2\" class=\"row_heading level0 row2\" >2</th>\n",
       "      <td id=\"T_5c8e2_row2_col0\" class=\"data row2 col0\" >AdaBoostClassifier</td>\n",
       "      <td id=\"T_5c8e2_row2_col1\" class=\"data row2 col1\" >0.901767</td>\n",
       "      <td id=\"T_5c8e2_row2_col2\" class=\"data row2 col2\" >0.974200</td>\n",
       "      <td id=\"T_5c8e2_row2_col3\" class=\"data row2 col3\" >0.292500</td>\n",
       "      <td id=\"T_5c8e2_row2_col4\" class=\"data row2 col4\" >0.920523</td>\n",
       "      <td id=\"T_5c8e2_row2_col5\" class=\"data row2 col5\" >0.946601</td>\n",
       "      <td id=\"T_5c8e2_row2_col6\" class=\"data row2 col6\" >0.633350</td>\n",
       "    </tr>\n",
       "    <tr>\n",
       "      <th id=\"T_5c8e2_level0_row3\" class=\"row_heading level0 row3\" >3</th>\n",
       "      <td id=\"T_5c8e2_row3_col0\" class=\"data row3 col0\" >AdaBoostClassifier_balanced</td>\n",
       "      <td id=\"T_5c8e2_row3_col1\" class=\"data row3 col1\" >0.873989</td>\n",
       "      <td id=\"T_5c8e2_row3_col2\" class=\"data row3 col2\" >0.898695</td>\n",
       "      <td id=\"T_5c8e2_row3_col3\" class=\"data row3 col3\" >0.666179</td>\n",
       "      <td id=\"T_5c8e2_row3_col4\" class=\"data row3 col4\" >0.957707</td>\n",
       "      <td id=\"T_5c8e2_row3_col5\" class=\"data row3 col5\" >0.927263</td>\n",
       "      <td id=\"T_5c8e2_row3_col6\" class=\"data row3 col6\" >0.782437</td>\n",
       "    </tr>\n",
       "    <tr>\n",
       "      <th id=\"T_5c8e2_level0_row4\" class=\"row_heading level0 row4\" >4</th>\n",
       "      <td id=\"T_5c8e2_row4_col0\" class=\"data row4 col0\" >BalancedBaggingClassifier</td>\n",
       "      <td id=\"T_5c8e2_row4_col1\" class=\"data row4 col1\" >0.811744</td>\n",
       "      <td id=\"T_5c8e2_row4_col2\" class=\"data row4 col2\" >0.807562</td>\n",
       "      <td id=\"T_5c8e2_row4_col3\" class=\"data row4 col3\" >0.846917</td>\n",
       "      <td id=\"T_5c8e2_row4_col4\" class=\"data row4 col4\" >0.977960</td>\n",
       "      <td id=\"T_5c8e2_row4_col5\" class=\"data row4 col5\" >0.884630</td>\n",
       "      <td id=\"T_5c8e2_row4_col6\" class=\"data row4 col6\" >0.827240</td>\n",
       "    </tr>\n",
       "  </tbody>\n",
       "</table>\n"
      ],
      "text/plain": [
       "<pandas.io.formats.style.Styler at 0x258fe17cbb0>"
      ]
     },
     "execution_count": 34,
     "metadata": {},
     "output_type": "execute_result"
    }
   ],
   "source": [
    "metricas1.style.highlight_max(['Accuracy', 'Sensitivity', 'Specificity', 'Precision', 'F1Score', 'ROC AUC Score'])"
   ]
  },
  {
   "cell_type": "markdown",
   "id": "df7506cd",
   "metadata": {},
   "source": [
    "De la comparación de los modelos con datos sin balancear y datos más balanceados, tenemos:\n",
    "- Los modelos no balanceados, aunque presentan una accuracy, sensitivity y precision altas, tienen en realidad un pobre desempeño ya que la specificity es muy baja (menor de 0.3)\n",
    "- Al balancear más los datos, los modelos bajan ligeramente en accuracy (4%) i en sensitivity (9%), Por contra aumentan sustancialmente en specificity (más del doble), en ROC AUC Score (25%) y en precision (4%)\n",
    "- El modelo **BalancedBaggingClassifier** que previamente balancea los datos presenta las mejores metricas de Specificity, Precision y Roc AUC Score por contra presenta una Accuracy y una Specificity que son las más bajas de todos los modelos.  \n",
    "\n",
    "En cuanto a las mejores métricas presentadas por cada uno de los modelos, tenemos:    \n",
    "  \n",
    "- Accuracy: El modelo **Logistic Regression** presenta el mejor dato con 0.903\n",
    "- Sensitivity: El modelo **Logistic Regression** presenta el mejor dato con 0.981\n",
    "- Specificity: El modelo **BalancedBaggingClassifier** presenta el mejor dato con 0.847\n",
    "- Precision: El modelo **BalancedBaggingClassifier** presenta el mejor dato con 0.978\n",
    "- F1Score: El modelo **Logistic Regression** presenta el mejor dato con 0.947\n",
    "- ROC AUC Score: El modelo **BalancedBaggingClassifier** presenta el mejor dato con 0.827"
   ]
  },
  {
   "cell_type": "markdown",
   "id": "cb0d4d38",
   "metadata": {},
   "source": [
    "Analizamos las matrices de confusión"
   ]
  },
  {
   "cell_type": "code",
   "execution_count": 35,
   "id": "9de26af1",
   "metadata": {},
   "outputs": [
    {
     "name": "stdout",
     "output_type": "stream",
     "text": [
      "Logistic Regression no balanced\n",
      "[[ 1505  4642]\n",
      " [  991 50714]]\n",
      "\n",
      "Logistic Regression balanced\n",
      "[[ 4544  1603]\n",
      " [ 6180 45525]]\n",
      "\n",
      "Ada Boost Classifier no balanced\n",
      "[[ 1798  4349]\n",
      " [ 1334 50371]]\n",
      "\n",
      "Ada Boost Classifier balanced\n",
      "[[ 4095  2052]\n",
      " [ 5238 46467]]\n",
      "\n",
      "BalancedBaggingClassifier\n",
      "[[ 5206   941]\n",
      " [ 9950 41755]]\n",
      "\n"
     ]
    }
   ],
   "source": [
    "print('Logistic Regression no balanced')\n",
    "print(confusion_matrix(y_test, lr.predict(X_test)))\n",
    "print()\n",
    "print('Logistic Regression balanced')\n",
    "print(confusion_matrix(y_test, lr_b.predict(X_test)))\n",
    "print()\n",
    "print('Ada Boost Classifier no balanced')\n",
    "print(confusion_matrix(y_test, adab.predict(X_test)))\n",
    "print()\n",
    "print('Ada Boost Classifier balanced')\n",
    "print(confusion_matrix(y_test, adab_b.predict(X_test)))\n",
    "print()\n",
    "print('BalancedBaggingClassifier')\n",
    "print(confusion_matrix(y_test, bbc.predict(X_test)))\n",
    "print()"
   ]
  },
  {
   "cell_type": "markdown",
   "id": "763784f3",
   "metadata": {},
   "source": [
    "Observamos:\n",
    "- Cuando utilizamos datos balanceados en Logistic Regression y en Ada Boost Classifier, aumentamos casi el triple la detección de negativos y disminuimos los falsos positivos a menos de la mitad. Por contra aumentamos más del triple los falsos negativos.\n",
    "- Balanced Bagging detecta el mayor número de negativos pero también presenta un número muy elvado de falsos negativos y no es tan bueno detectando los positivos.\n",
    "- Ada Boost Classifier no balanced detecta el mayor número de aciertos y un número de falsos negativos bajo, por contra presenta un número elevado de falsos positivos\n",
    "- Logistic Regression no balanced detecta el mayor número de positivos\n",
    "\n",
    "Depende de las métricas que queramos optimizar o de las implicaciones que puedan tener las detecciones o las falsas detecciones, eligiríamos el algoritmo."
   ]
  },
  {
   "cell_type": "markdown",
   "id": "9e1c378a",
   "metadata": {},
   "source": [
    "## - Exercici 3\n",
    "\n",
    "Entrena’ls utilitzant els diferents paràmetres que admeten."
   ]
  },
  {
   "cell_type": "markdown",
   "id": "cf7938cf",
   "metadata": {},
   "source": [
    "Para determinar los mejores parámetros utilizaremos GridSearch. Buscamos mejorar el **ROC AUC Score**"
   ]
  },
  {
   "cell_type": "markdown",
   "id": "79fcf920",
   "metadata": {},
   "source": [
    " ### Model 1: Logistic Regression"
   ]
  },
  {
   "cell_type": "code",
   "execution_count": 76,
   "id": "e8ffa743",
   "metadata": {},
   "outputs": [
    {
     "data": {
      "text/plain": [
       "{'C': 1.0,\n",
       " 'class_weight': None,\n",
       " 'dual': False,\n",
       " 'fit_intercept': True,\n",
       " 'intercept_scaling': 1,\n",
       " 'l1_ratio': None,\n",
       " 'max_iter': 1000,\n",
       " 'multi_class': 'auto',\n",
       " 'n_jobs': None,\n",
       " 'penalty': 'l2',\n",
       " 'random_state': 0,\n",
       " 'solver': 'lbfgs',\n",
       " 'tol': 0.0001,\n",
       " 'verbose': 0,\n",
       " 'warm_start': False}"
      ]
     },
     "execution_count": 76,
     "metadata": {},
     "output_type": "execute_result"
    }
   ],
   "source": [
    "#Vemos los parámetros por defecto\n",
    "lr.get_params()"
   ]
  },
  {
   "cell_type": "code",
   "execution_count": 34,
   "id": "ad9bc3be",
   "metadata": {},
   "outputs": [
    {
     "name": "stdout",
     "output_type": "stream",
     "text": [
      "Best parameters: {'class_weight': 'Balanced', 'max_iter': 1000, 'solver': 'newton-cg'}\n"
     ]
    }
   ],
   "source": [
    "# GridSearch\n",
    "parameters ={'class_weight': ['Balanced', 'auto', None], 'solver': ['newton-cg', 'lbfgs'], 'max_iter': [1000]}\n",
    "gs = GridSearchCV(estimator = LogisticRegression(), param_grid = parameters, scoring = 'roc_auc')\n",
    "gs.fit(X_train, y_train)\n",
    "\n",
    "print(\"Best parameters:\", gs.best_params_)"
   ]
  },
  {
   "cell_type": "markdown",
   "id": "693c06e8",
   "metadata": {},
   "source": [
    "Entrenamos la Logistic Regression con los parámetros propuestos"
   ]
  },
  {
   "cell_type": "code",
   "execution_count": 36,
   "id": "833423d8",
   "metadata": {},
   "outputs": [
    {
     "data": {
      "text/plain": [
       "LogisticRegression(class_weight='Balanced', max_iter=1000, random_state=0,\n",
       "                   solver='newton-cg')"
      ]
     },
     "execution_count": 36,
     "metadata": {},
     "output_type": "execute_result"
    }
   ],
   "source": [
    "lr_gs = LogisticRegression(class_weight= 'Balanced', max_iter= 1000, solver= 'newton-cg', random_state=0)\n",
    "lr_gs.fit(X_train, y_train)"
   ]
  },
  {
   "cell_type": "code",
   "execution_count": 37,
   "id": "1911e472",
   "metadata": {},
   "outputs": [
    {
     "data": {
      "text/plain": [
       "{'Modelo': 'LogisticRegression_optim',\n",
       " 'Accuracy': 0.9028037060084353,\n",
       " 'Sensitivity': 0.9807562131321922,\n",
       " 'Specificity': 0.24711241255897184,\n",
       " 'Precision': 0.9163684990422495,\n",
       " 'F1Score': 0.947469708434928,\n",
       " 'ROC AUC Score': 0.6139343128455821}"
      ]
     },
     "execution_count": 37,
     "metadata": {},
     "output_type": "execute_result"
    }
   ],
   "source": [
    "metricas= obtener_metricas('LogisticRegression_optim', y_test, lr_gs.predict(X_test))\n",
    "metricas"
   ]
  },
  {
   "cell_type": "code",
   "execution_count": 38,
   "id": "5ae44836",
   "metadata": {},
   "outputs": [
    {
     "data": {
      "text/html": [
       "<div>\n",
       "<style scoped>\n",
       "    .dataframe tbody tr th:only-of-type {\n",
       "        vertical-align: middle;\n",
       "    }\n",
       "\n",
       "    .dataframe tbody tr th {\n",
       "        vertical-align: top;\n",
       "    }\n",
       "\n",
       "    .dataframe thead th {\n",
       "        text-align: right;\n",
       "    }\n",
       "</style>\n",
       "<table border=\"1\" class=\"dataframe\">\n",
       "  <thead>\n",
       "    <tr style=\"text-align: right;\">\n",
       "      <th></th>\n",
       "      <th>Modelo</th>\n",
       "      <th>Accuracy</th>\n",
       "      <th>Sensitivity</th>\n",
       "      <th>Specificity</th>\n",
       "      <th>Precision</th>\n",
       "      <th>F1Score</th>\n",
       "      <th>ROC AUC Score</th>\n",
       "    </tr>\n",
       "  </thead>\n",
       "  <tbody>\n",
       "    <tr>\n",
       "      <th>0</th>\n",
       "      <td>LogisticRegression_optim</td>\n",
       "      <td>0.902804</td>\n",
       "      <td>0.980756</td>\n",
       "      <td>0.247112</td>\n",
       "      <td>0.916368</td>\n",
       "      <td>0.94747</td>\n",
       "      <td>0.613934</td>\n",
       "    </tr>\n",
       "  </tbody>\n",
       "</table>\n",
       "</div>"
      ],
      "text/plain": [
       "                     Modelo  Accuracy  Sensitivity  Specificity  Precision  \\\n",
       "0  LogisticRegression_optim  0.902804     0.980756     0.247112   0.916368   \n",
       "\n",
       "   F1Score  ROC AUC Score  \n",
       "0  0.94747       0.613934  "
      ]
     },
     "execution_count": 38,
     "metadata": {},
     "output_type": "execute_result"
    }
   ],
   "source": [
    "#Generamos un DF con las métricas para poder hacer una comparativa\n",
    "metricas2 = pd.DataFrame(metricas, index=[0])\n",
    "metricas2"
   ]
  },
  {
   "cell_type": "markdown",
   "id": "f9167d56",
   "metadata": {},
   "source": [
    "### 2.- Ada Boost Classifier"
   ]
  },
  {
   "cell_type": "code",
   "execution_count": 38,
   "id": "dc51a9dd",
   "metadata": {},
   "outputs": [
    {
     "data": {
      "text/plain": [
       "{'algorithm': 'SAMME.R',\n",
       " 'base_estimator': None,\n",
       " 'learning_rate': 1.0,\n",
       " 'n_estimators': 50,\n",
       " 'random_state': 0}"
      ]
     },
     "execution_count": 38,
     "metadata": {},
     "output_type": "execute_result"
    }
   ],
   "source": [
    "#Vemos los parámetros por defecto\n",
    "adab.get_params()"
   ]
  },
  {
   "cell_type": "code",
   "execution_count": 39,
   "id": "9eab5552",
   "metadata": {},
   "outputs": [
    {
     "name": "stdout",
     "output_type": "stream",
     "text": [
      "Best parameters: {'n_estimators': 90}\n"
     ]
    }
   ],
   "source": [
    "# GridSearch\n",
    "parameters ={'n_estimators': [30, 50, 70, 90]}\n",
    "gs = GridSearchCV(estimator = AdaBoostClassifier(), param_grid=parameters, scoring = 'roc_auc')\n",
    "gs.fit(X_train, y_train)\n",
    "\n",
    "print(\"Best parameters:\", gs.best_params_)"
   ]
  },
  {
   "cell_type": "markdown",
   "id": "2cfa48b7",
   "metadata": {},
   "source": [
    "Entrenamos Ada Bost Classifier con los parámetros propuestos"
   ]
  },
  {
   "cell_type": "code",
   "execution_count": 39,
   "id": "3564c54c",
   "metadata": {},
   "outputs": [
    {
     "data": {
      "text/plain": [
       "AdaBoostClassifier(n_estimators=90, random_state=0)"
      ]
     },
     "execution_count": 39,
     "metadata": {},
     "output_type": "execute_result"
    }
   ],
   "source": [
    "adab_gs = AdaBoostClassifier(n_estimators= 90, random_state=0)\n",
    "adab_gs.fit(X_train, y_train)"
   ]
  },
  {
   "cell_type": "code",
   "execution_count": 40,
   "id": "b2b4803c",
   "metadata": {},
   "outputs": [
    {
     "data": {
      "text/plain": [
       "{'Modelo': 'AdaBoostClassifier_optim',\n",
       " 'Accuracy': 0.9028728479568554,\n",
       " 'Sensitivity': 0.9747413209554202,\n",
       " 'Specificity': 0.2983569220758093,\n",
       " 'Precision': 0.9211690305600234,\n",
       " 'F1Score': 0.947198285988141,\n",
       " 'ROC AUC Score': 0.6365491215156148}"
      ]
     },
     "execution_count": 40,
     "metadata": {},
     "output_type": "execute_result"
    }
   ],
   "source": [
    "metricas= obtener_metricas('AdaBoostClassifier_optim', y_test, adab_gs.predict(X_test))\n",
    "metricas"
   ]
  },
  {
   "cell_type": "code",
   "execution_count": 41,
   "id": "4c4a6618",
   "metadata": {},
   "outputs": [],
   "source": [
    "#Añadimos las métricas al DF metricas2 para la comparativa posterior\n",
    "metricas2 = metricas2.append(metricas, ignore_index=True)"
   ]
  },
  {
   "cell_type": "markdown",
   "id": "fe364564",
   "metadata": {},
   "source": [
    "### 3.- BalancedBaggingClassifier"
   ]
  },
  {
   "cell_type": "code",
   "execution_count": 43,
   "id": "30babea5",
   "metadata": {},
   "outputs": [
    {
     "data": {
      "text/plain": [
       "{'base_estimator': None,\n",
       " 'bootstrap': True,\n",
       " 'bootstrap_features': False,\n",
       " 'max_features': 1.0,\n",
       " 'max_samples': 1.0,\n",
       " 'n_estimators': 10,\n",
       " 'n_jobs': None,\n",
       " 'oob_score': False,\n",
       " 'random_state': 0,\n",
       " 'replacement': False,\n",
       " 'sampler': None,\n",
       " 'sampling_strategy': 'auto',\n",
       " 'verbose': 0,\n",
       " 'warm_start': False}"
      ]
     },
     "execution_count": 43,
     "metadata": {},
     "output_type": "execute_result"
    }
   ],
   "source": [
    "#Vemos los parámetros por defecto\n",
    "bbc.get_params()"
   ]
  },
  {
   "cell_type": "code",
   "execution_count": 44,
   "id": "12f116c6",
   "metadata": {},
   "outputs": [
    {
     "name": "stdout",
     "output_type": "stream",
     "text": [
      "Best parameters: {'n_estimators': 30}\n"
     ]
    }
   ],
   "source": [
    "# GridSearch\n",
    "parameters ={'n_estimators': [10, 20, 30]}\n",
    "gs = GridSearchCV(estimator = BalancedBaggingClassifier(), param_grid=parameters, scoring = 'roc_auc')\n",
    "gs.fit(X_train, y_train)\n",
    "\n",
    "print(\"Best parameters:\", gs.best_params_)"
   ]
  },
  {
   "cell_type": "markdown",
   "id": "67009980",
   "metadata": {},
   "source": [
    "Entrenamos BalancedBaggingClassifier con los parámetros propuestos"
   ]
  },
  {
   "cell_type": "code",
   "execution_count": 42,
   "id": "e1a9253b",
   "metadata": {},
   "outputs": [
    {
     "data": {
      "text/plain": [
       "BalancedBaggingClassifier(n_estimators=30, random_state=0)"
      ]
     },
     "execution_count": 42,
     "metadata": {},
     "output_type": "execute_result"
    }
   ],
   "source": [
    "bbc_gs = BalancedBaggingClassifier(n_estimators= 30, random_state=0)\n",
    "bbc_gs.fit(X_train, y_train)"
   ]
  },
  {
   "cell_type": "code",
   "execution_count": 43,
   "id": "4db4653d",
   "metadata": {},
   "outputs": [
    {
     "data": {
      "text/plain": [
       "{'Modelo': 'BalancedBaggingClassifier_optim',\n",
       " 'Accuracy': 0.8251745834197608,\n",
       " 'Sensitivity': 0.8226477129871386,\n",
       " 'Specificity': 0.8464291524320807,\n",
       " 'Precision': 0.9782883690977253,\n",
       " 'F1Score': 0.8937426458228274,\n",
       " 'ROC AUC Score': 0.8345384327096097}"
      ]
     },
     "execution_count": 43,
     "metadata": {},
     "output_type": "execute_result"
    }
   ],
   "source": [
    "metricas= obtener_metricas('BalancedBaggingClassifier_optim', y_test, bbc_gs.predict(X_test))\n",
    "metricas"
   ]
  },
  {
   "cell_type": "code",
   "execution_count": 44,
   "id": "97cd6220",
   "metadata": {},
   "outputs": [],
   "source": [
    "#Añadimos las métricas al DF metricas2 para la comparativa posterior\n",
    "metricas2 = metricas2.append(metricas, ignore_index=True)"
   ]
  },
  {
   "cell_type": "markdown",
   "id": "4d02b4c9",
   "metadata": {},
   "source": [
    "Comparamos las métricas de los modelos iniciales con las métricas de los modelos optimizados"
   ]
  },
  {
   "cell_type": "code",
   "execution_count": 81,
   "id": "0ba0e971",
   "metadata": {},
   "outputs": [
    {
     "data": {
      "text/html": [
       "<div>\n",
       "<style scoped>\n",
       "    .dataframe tbody tr th:only-of-type {\n",
       "        vertical-align: middle;\n",
       "    }\n",
       "\n",
       "    .dataframe tbody tr th {\n",
       "        vertical-align: top;\n",
       "    }\n",
       "\n",
       "    .dataframe thead th {\n",
       "        text-align: right;\n",
       "    }\n",
       "</style>\n",
       "<table border=\"1\" class=\"dataframe\">\n",
       "  <thead>\n",
       "    <tr style=\"text-align: right;\">\n",
       "      <th></th>\n",
       "      <th>Modelo</th>\n",
       "      <th>Accuracy</th>\n",
       "      <th>Sensitivity</th>\n",
       "      <th>Specificity</th>\n",
       "      <th>Precision</th>\n",
       "      <th>F1Score</th>\n",
       "      <th>ROC AUC Score</th>\n",
       "    </tr>\n",
       "  </thead>\n",
       "  <tbody>\n",
       "    <tr>\n",
       "      <th>0</th>\n",
       "      <td>LogisticRegression</td>\n",
       "      <td>0.902631</td>\n",
       "      <td>0.980834</td>\n",
       "      <td>0.244835</td>\n",
       "      <td>0.916143</td>\n",
       "      <td>0.947385</td>\n",
       "      <td>0.612834</td>\n",
       "    </tr>\n",
       "    <tr>\n",
       "      <th>2</th>\n",
       "      <td>AdaBoostClassifier</td>\n",
       "      <td>0.901767</td>\n",
       "      <td>0.974200</td>\n",
       "      <td>0.292500</td>\n",
       "      <td>0.920523</td>\n",
       "      <td>0.946601</td>\n",
       "      <td>0.633350</td>\n",
       "    </tr>\n",
       "    <tr>\n",
       "      <th>4</th>\n",
       "      <td>BalancedBaggingClassifier</td>\n",
       "      <td>0.811744</td>\n",
       "      <td>0.807562</td>\n",
       "      <td>0.846917</td>\n",
       "      <td>0.977960</td>\n",
       "      <td>0.884630</td>\n",
       "      <td>0.827240</td>\n",
       "    </tr>\n",
       "    <tr>\n",
       "      <th>0</th>\n",
       "      <td>LogisticRegression_optim</td>\n",
       "      <td>0.902804</td>\n",
       "      <td>0.980756</td>\n",
       "      <td>0.247112</td>\n",
       "      <td>0.916368</td>\n",
       "      <td>0.947470</td>\n",
       "      <td>0.613934</td>\n",
       "    </tr>\n",
       "    <tr>\n",
       "      <th>1</th>\n",
       "      <td>AdaBoostClassifier_optim</td>\n",
       "      <td>0.902873</td>\n",
       "      <td>0.974741</td>\n",
       "      <td>0.298357</td>\n",
       "      <td>0.921169</td>\n",
       "      <td>0.947198</td>\n",
       "      <td>0.636549</td>\n",
       "    </tr>\n",
       "    <tr>\n",
       "      <th>2</th>\n",
       "      <td>BalancedBaggingClassifier_optim</td>\n",
       "      <td>0.825175</td>\n",
       "      <td>0.822648</td>\n",
       "      <td>0.846429</td>\n",
       "      <td>0.978288</td>\n",
       "      <td>0.893743</td>\n",
       "      <td>0.834538</td>\n",
       "    </tr>\n",
       "  </tbody>\n",
       "</table>\n",
       "</div>"
      ],
      "text/plain": [
       "                            Modelo  Accuracy  Sensitivity  Specificity  \\\n",
       "0               LogisticRegression  0.902631     0.980834     0.244835   \n",
       "2               AdaBoostClassifier  0.901767     0.974200     0.292500   \n",
       "4        BalancedBaggingClassifier  0.811744     0.807562     0.846917   \n",
       "0         LogisticRegression_optim  0.902804     0.980756     0.247112   \n",
       "1         AdaBoostClassifier_optim  0.902873     0.974741     0.298357   \n",
       "2  BalancedBaggingClassifier_optim  0.825175     0.822648     0.846429   \n",
       "\n",
       "   Precision   F1Score  ROC AUC Score  \n",
       "0   0.916143  0.947385       0.612834  \n",
       "2   0.920523  0.946601       0.633350  \n",
       "4   0.977960  0.884630       0.827240  \n",
       "0   0.916368  0.947470       0.613934  \n",
       "1   0.921169  0.947198       0.636549  \n",
       "2   0.978288  0.893743       0.834538  "
      ]
     },
     "execution_count": 81,
     "metadata": {},
     "output_type": "execute_result"
    }
   ],
   "source": [
    "pd.concat([metricas1.loc[[0,2,4]],metricas2 ], axis=0)"
   ]
  },
  {
   "cell_type": "markdown",
   "id": "81e9620a",
   "metadata": {},
   "source": [
    "Al comparar las métricas de los modelos iniciales con las de los modelos con parámetros optimizados observamos que se produce una **mejora muy poco significativa** en todas las métricas, en el mejor de los casos del 1,4%."
   ]
  },
  {
   "cell_type": "markdown",
   "id": "16bf845d",
   "metadata": {},
   "source": [
    "### - Exercici 4\n",
    "\n",
    "Compara el seu rendiment utilitzant l’aproximació traint/test o cross-validation."
   ]
  },
  {
   "cell_type": "markdown",
   "id": "ef0cbe35",
   "metadata": {},
   "source": [
    "Vamos a realizar un **Cross Validation Score** de los modelos optimizados para la métrica **F1**. Compararemos los resultados con los de Train/Test para esos mismos modelos"
   ]
  },
  {
   "cell_type": "code",
   "execution_count": 66,
   "id": "62ceec3d",
   "metadata": {
    "scrolled": true
   },
   "outputs": [
    {
     "name": "stderr",
     "output_type": "stream",
     "text": [
      "C:\\ProgramData\\Anaconda3\\lib\\site-packages\\scipy\\optimize\\linesearch.py:478: LineSearchWarning: The line search algorithm did not converge\n",
      "  warn('The line search algorithm did not converge', LineSearchWarning)\n",
      "C:\\ProgramData\\Anaconda3\\lib\\site-packages\\scipy\\optimize\\linesearch.py:327: LineSearchWarning: The line search algorithm did not converge\n",
      "  warn('The line search algorithm did not converge', LineSearchWarning)\n"
     ]
    }
   ],
   "source": [
    "#Cross Validation Score para Logistic Regression\n",
    "lr_cv = LogisticRegression(class_weight= 'Balanced', max_iter= 1000, solver= 'newton-cg', random_state=0)\n",
    "f1 = cross_val_score(lr_cv, x, y, cv = 10, scoring = 'f1')"
   ]
  },
  {
   "cell_type": "code",
   "execution_count": 70,
   "id": "9ac2d7ee",
   "metadata": {},
   "outputs": [
    {
     "name": "stdout",
     "output_type": "stream",
     "text": [
      "f1 Score: 0.9475     std_F1 Score: 0.0005\n"
     ]
    }
   ],
   "source": [
    "print('f1 Score: {0}     std_F1 Score: {1}'.format(np.mean(f1).round(4), np.std(f1).round(4)))"
   ]
  },
  {
   "cell_type": "code",
   "execution_count": 71,
   "id": "19aa290e",
   "metadata": {},
   "outputs": [],
   "source": [
    "#Cross Validation Score para Ada Boost Classifier\n",
    "adab_cv = AdaBoostClassifier(n_estimators= 90, random_state=0)\n",
    "f1 = cross_val_score(adab_cv, x, y, cv = 10, scoring = 'f1')"
   ]
  },
  {
   "cell_type": "code",
   "execution_count": 72,
   "id": "98606d4c",
   "metadata": {},
   "outputs": [
    {
     "name": "stdout",
     "output_type": "stream",
     "text": [
      "f1 Score: 0.9474     std_F1 Score: 0.0004\n"
     ]
    }
   ],
   "source": [
    "print('f1 Score: {0}     std_F1 Score: {1}'.format(np.mean(f1).round(4), np.std(f1).round(4)))"
   ]
  },
  {
   "cell_type": "code",
   "execution_count": 73,
   "id": "cd78ef26",
   "metadata": {},
   "outputs": [],
   "source": [
    "#Cross Validation Score para BalancedBaggingClassifier\n",
    "bbc_cv = BalancedBaggingClassifier(n_estimators= 30, random_state=0)\n",
    "f1 = cross_val_score(bbc_cv, x, y, cv = 10, scoring = 'f1')"
   ]
  },
  {
   "cell_type": "code",
   "execution_count": 74,
   "id": "57c19a89",
   "metadata": {},
   "outputs": [
    {
     "name": "stdout",
     "output_type": "stream",
     "text": [
      "f1 Score: 0.8953     std_F1 Score: 0.0014\n"
     ]
    }
   ],
   "source": [
    "print('f1 Score: {0}     std_F1 Score: {1}'.format(np.mean(f1).round(4), np.std(f1).round(4)))"
   ]
  },
  {
   "cell_type": "markdown",
   "id": "1c9be0c2",
   "metadata": {},
   "source": [
    "Observamos que la **desviación stándard** de f1 en todos los modelos cuando aplicamos el Cross Validation **es muy baja**. Damos por buenos los valores de f1. "
   ]
  },
  {
   "cell_type": "markdown",
   "id": "3c63a5b0",
   "metadata": {},
   "source": [
    "Comparamos los resultados del Train/Test y del Cross Validation para los modelos optimizados"
   ]
  },
  {
   "cell_type": "code",
   "execution_count": 83,
   "id": "f15fef13",
   "metadata": {},
   "outputs": [],
   "source": [
    "metricas2['F1Score_CV'] = [0.9475, 0.9474, 0.8953]"
   ]
  },
  {
   "cell_type": "code",
   "execution_count": 84,
   "id": "3b55c984",
   "metadata": {},
   "outputs": [
    {
     "data": {
      "text/html": [
       "<div>\n",
       "<style scoped>\n",
       "    .dataframe tbody tr th:only-of-type {\n",
       "        vertical-align: middle;\n",
       "    }\n",
       "\n",
       "    .dataframe tbody tr th {\n",
       "        vertical-align: top;\n",
       "    }\n",
       "\n",
       "    .dataframe thead th {\n",
       "        text-align: right;\n",
       "    }\n",
       "</style>\n",
       "<table border=\"1\" class=\"dataframe\">\n",
       "  <thead>\n",
       "    <tr style=\"text-align: right;\">\n",
       "      <th></th>\n",
       "      <th>Modelo</th>\n",
       "      <th>F1Score</th>\n",
       "      <th>F1Score_CV</th>\n",
       "    </tr>\n",
       "  </thead>\n",
       "  <tbody>\n",
       "    <tr>\n",
       "      <th>0</th>\n",
       "      <td>LogisticRegression_optim</td>\n",
       "      <td>0.947470</td>\n",
       "      <td>0.9475</td>\n",
       "    </tr>\n",
       "    <tr>\n",
       "      <th>1</th>\n",
       "      <td>AdaBoostClassifier_optim</td>\n",
       "      <td>0.947198</td>\n",
       "      <td>0.9474</td>\n",
       "    </tr>\n",
       "    <tr>\n",
       "      <th>2</th>\n",
       "      <td>BalancedBaggingClassifier_optim</td>\n",
       "      <td>0.893743</td>\n",
       "      <td>0.8953</td>\n",
       "    </tr>\n",
       "  </tbody>\n",
       "</table>\n",
       "</div>"
      ],
      "text/plain": [
       "                            Modelo   F1Score  F1Score_CV\n",
       "0         LogisticRegression_optim  0.947470      0.9475\n",
       "1         AdaBoostClassifier_optim  0.947198      0.9474\n",
       "2  BalancedBaggingClassifier_optim  0.893743      0.8953"
      ]
     },
     "execution_count": 84,
     "metadata": {},
     "output_type": "execute_result"
    }
   ],
   "source": [
    "metricas2[['Modelo', 'F1Score', 'F1Score_CV']]  #Modelos optimizados y entrenados con Train/Test"
   ]
  },
  {
   "cell_type": "markdown",
   "id": "b10c1e43",
   "metadata": {},
   "source": [
    "Hemos entrenado los modelos optimizados con el set Train/Test i con Cross Validation i **no observamos diferencias sensibles** en cuanto a la métrica **F1 Score**. La muestra de Train/Test es suficientemente amplia para entrenar adecuadamente los modelos"
   ]
  },
  {
   "cell_type": "markdown",
   "id": "4c38be27",
   "metadata": {},
   "source": [
    "### - Exercici 5\n",
    "\n",
    "Realitza algun procés d’enginyeria de variables per millorar-ne la predicció"
   ]
  },
  {
   "cell_type": "markdown",
   "id": "03a80629",
   "metadata": {},
   "source": [
    "Realizamos las siguiente ingeniería de variables:\n",
    "- RobustScaler a las variables **DepDelay, Distance, TaxiIn, TaxiOut** debido a que presentan un gran número de outliers\n",
    "- Normalizamos **Month, DayofMonth, DayOfWeek, CRSDepTime**\n",
    "- La variable **UniqueCarrier** ya la hemos dummificado anteriormente."
   ]
  },
  {
   "cell_type": "code",
   "execution_count": 101,
   "id": "b01e241d",
   "metadata": {},
   "outputs": [],
   "source": [
    "#Apliquem RobustScaler y MinMaxScaler\n",
    "airlines2 = airlines1.copy()\n",
    "columns_robust= ['DepDelay', 'Distance', 'TaxiIn', 'TaxiOut']\n",
    "columns_norm= ['Month', 'DayofMonth', 'DayOfWeek', 'CRSDepTime']\n",
    "\n",
    "airlines2[columns_robust] = RobustScaler().fit_transform(airlines2[columns_robust])\n",
    "airlines2[columns_norm] = MinMaxScaler().fit_transform(airlines2[columns_norm])"
   ]
  },
  {
   "cell_type": "code",
   "execution_count": 102,
   "id": "a4a473ed",
   "metadata": {},
   "outputs": [
    {
     "data": {
      "text/html": [
       "<div>\n",
       "<style scoped>\n",
       "    .dataframe tbody tr th:only-of-type {\n",
       "        vertical-align: middle;\n",
       "    }\n",
       "\n",
       "    .dataframe tbody tr th {\n",
       "        vertical-align: top;\n",
       "    }\n",
       "\n",
       "    .dataframe thead th {\n",
       "        text-align: right;\n",
       "    }\n",
       "</style>\n",
       "<table border=\"1\" class=\"dataframe\">\n",
       "  <thead>\n",
       "    <tr style=\"text-align: right;\">\n",
       "      <th></th>\n",
       "      <th>Month</th>\n",
       "      <th>DayofMonth</th>\n",
       "      <th>DayOfWeek</th>\n",
       "      <th>CRSDepTime</th>\n",
       "      <th>ArrDelay</th>\n",
       "      <th>DepDelay</th>\n",
       "      <th>Origin</th>\n",
       "      <th>Dest</th>\n",
       "      <th>Distance</th>\n",
       "      <th>TaxiIn</th>\n",
       "      <th>TaxiOut</th>\n",
       "      <th>Target</th>\n",
       "      <th>UniqueCarrier_9E</th>\n",
       "      <th>UniqueCarrier_AA</th>\n",
       "      <th>UniqueCarrier_AQ</th>\n",
       "      <th>UniqueCarrier_AS</th>\n",
       "      <th>UniqueCarrier_B6</th>\n",
       "      <th>UniqueCarrier_CO</th>\n",
       "      <th>UniqueCarrier_DL</th>\n",
       "      <th>UniqueCarrier_EV</th>\n",
       "      <th>UniqueCarrier_F9</th>\n",
       "      <th>UniqueCarrier_FL</th>\n",
       "      <th>UniqueCarrier_HA</th>\n",
       "      <th>UniqueCarrier_MQ</th>\n",
       "      <th>UniqueCarrier_NW</th>\n",
       "      <th>UniqueCarrier_OH</th>\n",
       "      <th>UniqueCarrier_OO</th>\n",
       "      <th>UniqueCarrier_UA</th>\n",
       "      <th>UniqueCarrier_US</th>\n",
       "      <th>UniqueCarrier_WN</th>\n",
       "      <th>UniqueCarrier_XE</th>\n",
       "      <th>UniqueCarrier_YV</th>\n",
       "    </tr>\n",
       "  </thead>\n",
       "  <tbody>\n",
       "    <tr>\n",
       "      <th>6731208</th>\n",
       "      <td>1.000000</td>\n",
       "      <td>0.000000</td>\n",
       "      <td>0.000000</td>\n",
       "      <td>0.652174</td>\n",
       "      <td>84.0</td>\n",
       "      <td>1.666667</td>\n",
       "      <td>HOU</td>\n",
       "      <td>HRL</td>\n",
       "      <td>-0.501515</td>\n",
       "      <td>-1.00</td>\n",
       "      <td>-0.545455</td>\n",
       "      <td>True</td>\n",
       "      <td>0</td>\n",
       "      <td>0</td>\n",
       "      <td>0</td>\n",
       "      <td>0</td>\n",
       "      <td>0</td>\n",
       "      <td>0</td>\n",
       "      <td>0</td>\n",
       "      <td>0</td>\n",
       "      <td>0</td>\n",
       "      <td>0</td>\n",
       "      <td>0</td>\n",
       "      <td>0</td>\n",
       "      <td>0</td>\n",
       "      <td>0</td>\n",
       "      <td>0</td>\n",
       "      <td>0</td>\n",
       "      <td>0</td>\n",
       "      <td>1</td>\n",
       "      <td>0</td>\n",
       "      <td>0</td>\n",
       "    </tr>\n",
       "    <tr>\n",
       "      <th>609057</th>\n",
       "      <td>0.090909</td>\n",
       "      <td>0.066667</td>\n",
       "      <td>1.000000</td>\n",
       "      <td>0.434783</td>\n",
       "      <td>7.0</td>\n",
       "      <td>-0.142857</td>\n",
       "      <td>SJC</td>\n",
       "      <td>SEA</td>\n",
       "      <td>0.136364</td>\n",
       "      <td>-0.25</td>\n",
       "      <td>-0.636364</td>\n",
       "      <td>True</td>\n",
       "      <td>0</td>\n",
       "      <td>0</td>\n",
       "      <td>0</td>\n",
       "      <td>0</td>\n",
       "      <td>0</td>\n",
       "      <td>0</td>\n",
       "      <td>0</td>\n",
       "      <td>0</td>\n",
       "      <td>0</td>\n",
       "      <td>0</td>\n",
       "      <td>0</td>\n",
       "      <td>0</td>\n",
       "      <td>0</td>\n",
       "      <td>0</td>\n",
       "      <td>0</td>\n",
       "      <td>0</td>\n",
       "      <td>0</td>\n",
       "      <td>1</td>\n",
       "      <td>0</td>\n",
       "      <td>0</td>\n",
       "    </tr>\n",
       "    <tr>\n",
       "      <th>889032</th>\n",
       "      <td>0.090909</td>\n",
       "      <td>0.033333</td>\n",
       "      <td>0.833333</td>\n",
       "      <td>0.826087</td>\n",
       "      <td>1.0</td>\n",
       "      <td>-0.380952</td>\n",
       "      <td>LAS</td>\n",
       "      <td>ONT</td>\n",
       "      <td>-0.621212</td>\n",
       "      <td>-0.50</td>\n",
       "      <td>-0.363636</td>\n",
       "      <td>True</td>\n",
       "      <td>0</td>\n",
       "      <td>0</td>\n",
       "      <td>0</td>\n",
       "      <td>0</td>\n",
       "      <td>0</td>\n",
       "      <td>0</td>\n",
       "      <td>0</td>\n",
       "      <td>0</td>\n",
       "      <td>0</td>\n",
       "      <td>0</td>\n",
       "      <td>0</td>\n",
       "      <td>0</td>\n",
       "      <td>0</td>\n",
       "      <td>0</td>\n",
       "      <td>0</td>\n",
       "      <td>0</td>\n",
       "      <td>0</td>\n",
       "      <td>1</td>\n",
       "      <td>0</td>\n",
       "      <td>0</td>\n",
       "    </tr>\n",
       "    <tr>\n",
       "      <th>5502092</th>\n",
       "      <td>0.818182</td>\n",
       "      <td>0.033333</td>\n",
       "      <td>0.500000</td>\n",
       "      <td>0.782609</td>\n",
       "      <td>31.0</td>\n",
       "      <td>0.261905</td>\n",
       "      <td>IAH</td>\n",
       "      <td>JAX</td>\n",
       "      <td>0.318182</td>\n",
       "      <td>-0.25</td>\n",
       "      <td>0.363636</td>\n",
       "      <td>True</td>\n",
       "      <td>0</td>\n",
       "      <td>0</td>\n",
       "      <td>0</td>\n",
       "      <td>0</td>\n",
       "      <td>0</td>\n",
       "      <td>0</td>\n",
       "      <td>0</td>\n",
       "      <td>0</td>\n",
       "      <td>0</td>\n",
       "      <td>0</td>\n",
       "      <td>0</td>\n",
       "      <td>0</td>\n",
       "      <td>0</td>\n",
       "      <td>0</td>\n",
       "      <td>0</td>\n",
       "      <td>0</td>\n",
       "      <td>0</td>\n",
       "      <td>0</td>\n",
       "      <td>1</td>\n",
       "      <td>0</td>\n",
       "    </tr>\n",
       "    <tr>\n",
       "      <th>1699584</th>\n",
       "      <td>0.181818</td>\n",
       "      <td>0.800000</td>\n",
       "      <td>0.166667</td>\n",
       "      <td>0.782609</td>\n",
       "      <td>62.0</td>\n",
       "      <td>1.000000</td>\n",
       "      <td>DFW</td>\n",
       "      <td>PBI</td>\n",
       "      <td>0.751515</td>\n",
       "      <td>-0.25</td>\n",
       "      <td>-0.181818</td>\n",
       "      <td>True</td>\n",
       "      <td>0</td>\n",
       "      <td>1</td>\n",
       "      <td>0</td>\n",
       "      <td>0</td>\n",
       "      <td>0</td>\n",
       "      <td>0</td>\n",
       "      <td>0</td>\n",
       "      <td>0</td>\n",
       "      <td>0</td>\n",
       "      <td>0</td>\n",
       "      <td>0</td>\n",
       "      <td>0</td>\n",
       "      <td>0</td>\n",
       "      <td>0</td>\n",
       "      <td>0</td>\n",
       "      <td>0</td>\n",
       "      <td>0</td>\n",
       "      <td>0</td>\n",
       "      <td>0</td>\n",
       "      <td>0</td>\n",
       "    </tr>\n",
       "    <tr>\n",
       "      <th>...</th>\n",
       "      <td>...</td>\n",
       "      <td>...</td>\n",
       "      <td>...</td>\n",
       "      <td>...</td>\n",
       "      <td>...</td>\n",
       "      <td>...</td>\n",
       "      <td>...</td>\n",
       "      <td>...</td>\n",
       "      <td>...</td>\n",
       "      <td>...</td>\n",
       "      <td>...</td>\n",
       "      <td>...</td>\n",
       "      <td>...</td>\n",
       "      <td>...</td>\n",
       "      <td>...</td>\n",
       "      <td>...</td>\n",
       "      <td>...</td>\n",
       "      <td>...</td>\n",
       "      <td>...</td>\n",
       "      <td>...</td>\n",
       "      <td>...</td>\n",
       "      <td>...</td>\n",
       "      <td>...</td>\n",
       "      <td>...</td>\n",
       "      <td>...</td>\n",
       "      <td>...</td>\n",
       "      <td>...</td>\n",
       "      <td>...</td>\n",
       "      <td>...</td>\n",
       "      <td>...</td>\n",
       "      <td>...</td>\n",
       "      <td>...</td>\n",
       "    </tr>\n",
       "    <tr>\n",
       "      <th>511846</th>\n",
       "      <td>0.000000</td>\n",
       "      <td>0.400000</td>\n",
       "      <td>1.000000</td>\n",
       "      <td>0.826087</td>\n",
       "      <td>46.0</td>\n",
       "      <td>0.261905</td>\n",
       "      <td>AUS</td>\n",
       "      <td>DFW</td>\n",
       "      <td>-0.631818</td>\n",
       "      <td>2.25</td>\n",
       "      <td>0.272727</td>\n",
       "      <td>True</td>\n",
       "      <td>0</td>\n",
       "      <td>1</td>\n",
       "      <td>0</td>\n",
       "      <td>0</td>\n",
       "      <td>0</td>\n",
       "      <td>0</td>\n",
       "      <td>0</td>\n",
       "      <td>0</td>\n",
       "      <td>0</td>\n",
       "      <td>0</td>\n",
       "      <td>0</td>\n",
       "      <td>0</td>\n",
       "      <td>0</td>\n",
       "      <td>0</td>\n",
       "      <td>0</td>\n",
       "      <td>0</td>\n",
       "      <td>0</td>\n",
       "      <td>0</td>\n",
       "      <td>0</td>\n",
       "      <td>0</td>\n",
       "    </tr>\n",
       "    <tr>\n",
       "      <th>636696</th>\n",
       "      <td>0.090909</td>\n",
       "      <td>0.366667</td>\n",
       "      <td>0.166667</td>\n",
       "      <td>0.913043</td>\n",
       "      <td>81.0</td>\n",
       "      <td>0.761905</td>\n",
       "      <td>ISP</td>\n",
       "      <td>MCO</td>\n",
       "      <td>0.553030</td>\n",
       "      <td>-0.25</td>\n",
       "      <td>0.909091</td>\n",
       "      <td>True</td>\n",
       "      <td>0</td>\n",
       "      <td>0</td>\n",
       "      <td>0</td>\n",
       "      <td>0</td>\n",
       "      <td>0</td>\n",
       "      <td>0</td>\n",
       "      <td>0</td>\n",
       "      <td>0</td>\n",
       "      <td>0</td>\n",
       "      <td>0</td>\n",
       "      <td>0</td>\n",
       "      <td>0</td>\n",
       "      <td>0</td>\n",
       "      <td>0</td>\n",
       "      <td>0</td>\n",
       "      <td>0</td>\n",
       "      <td>0</td>\n",
       "      <td>1</td>\n",
       "      <td>0</td>\n",
       "      <td>0</td>\n",
       "    </tr>\n",
       "    <tr>\n",
       "      <th>5079318</th>\n",
       "      <td>0.727273</td>\n",
       "      <td>0.166667</td>\n",
       "      <td>0.833333</td>\n",
       "      <td>0.782609</td>\n",
       "      <td>254.0</td>\n",
       "      <td>5.809524</td>\n",
       "      <td>PHL</td>\n",
       "      <td>PHX</td>\n",
       "      <td>2.224242</td>\n",
       "      <td>0.00</td>\n",
       "      <td>0.090909</td>\n",
       "      <td>True</td>\n",
       "      <td>0</td>\n",
       "      <td>0</td>\n",
       "      <td>0</td>\n",
       "      <td>0</td>\n",
       "      <td>0</td>\n",
       "      <td>0</td>\n",
       "      <td>0</td>\n",
       "      <td>0</td>\n",
       "      <td>0</td>\n",
       "      <td>0</td>\n",
       "      <td>0</td>\n",
       "      <td>0</td>\n",
       "      <td>0</td>\n",
       "      <td>0</td>\n",
       "      <td>0</td>\n",
       "      <td>0</td>\n",
       "      <td>1</td>\n",
       "      <td>0</td>\n",
       "      <td>0</td>\n",
       "      <td>0</td>\n",
       "    </tr>\n",
       "    <tr>\n",
       "      <th>51952</th>\n",
       "      <td>0.000000</td>\n",
       "      <td>0.566667</td>\n",
       "      <td>0.666667</td>\n",
       "      <td>0.565217</td>\n",
       "      <td>92.0</td>\n",
       "      <td>1.952381</td>\n",
       "      <td>TPA</td>\n",
       "      <td>MDW</td>\n",
       "      <td>0.590909</td>\n",
       "      <td>0.00</td>\n",
       "      <td>-0.545455</td>\n",
       "      <td>True</td>\n",
       "      <td>0</td>\n",
       "      <td>0</td>\n",
       "      <td>0</td>\n",
       "      <td>0</td>\n",
       "      <td>0</td>\n",
       "      <td>0</td>\n",
       "      <td>0</td>\n",
       "      <td>0</td>\n",
       "      <td>0</td>\n",
       "      <td>0</td>\n",
       "      <td>0</td>\n",
       "      <td>0</td>\n",
       "      <td>0</td>\n",
       "      <td>0</td>\n",
       "      <td>0</td>\n",
       "      <td>0</td>\n",
       "      <td>0</td>\n",
       "      <td>1</td>\n",
       "      <td>0</td>\n",
       "      <td>0</td>\n",
       "    </tr>\n",
       "    <tr>\n",
       "      <th>6423315</th>\n",
       "      <td>0.909091</td>\n",
       "      <td>0.766667</td>\n",
       "      <td>0.000000</td>\n",
       "      <td>0.565217</td>\n",
       "      <td>23.0</td>\n",
       "      <td>0.142857</td>\n",
       "      <td>PBI</td>\n",
       "      <td>BOS</td>\n",
       "      <td>0.893939</td>\n",
       "      <td>-0.50</td>\n",
       "      <td>-0.454545</td>\n",
       "      <td>True</td>\n",
       "      <td>0</td>\n",
       "      <td>0</td>\n",
       "      <td>0</td>\n",
       "      <td>0</td>\n",
       "      <td>1</td>\n",
       "      <td>0</td>\n",
       "      <td>0</td>\n",
       "      <td>0</td>\n",
       "      <td>0</td>\n",
       "      <td>0</td>\n",
       "      <td>0</td>\n",
       "      <td>0</td>\n",
       "      <td>0</td>\n",
       "      <td>0</td>\n",
       "      <td>0</td>\n",
       "      <td>0</td>\n",
       "      <td>0</td>\n",
       "      <td>0</td>\n",
       "      <td>0</td>\n",
       "      <td>0</td>\n",
       "    </tr>\n",
       "  </tbody>\n",
       "</table>\n",
       "<p>192837 rows × 32 columns</p>\n",
       "</div>"
      ],
      "text/plain": [
       "            Month  DayofMonth  DayOfWeek  CRSDepTime  ArrDelay  DepDelay  \\\n",
       "6731208  1.000000    0.000000   0.000000    0.652174      84.0  1.666667   \n",
       "609057   0.090909    0.066667   1.000000    0.434783       7.0 -0.142857   \n",
       "889032   0.090909    0.033333   0.833333    0.826087       1.0 -0.380952   \n",
       "5502092  0.818182    0.033333   0.500000    0.782609      31.0  0.261905   \n",
       "1699584  0.181818    0.800000   0.166667    0.782609      62.0  1.000000   \n",
       "...           ...         ...        ...         ...       ...       ...   \n",
       "511846   0.000000    0.400000   1.000000    0.826087      46.0  0.261905   \n",
       "636696   0.090909    0.366667   0.166667    0.913043      81.0  0.761905   \n",
       "5079318  0.727273    0.166667   0.833333    0.782609     254.0  5.809524   \n",
       "51952    0.000000    0.566667   0.666667    0.565217      92.0  1.952381   \n",
       "6423315  0.909091    0.766667   0.000000    0.565217      23.0  0.142857   \n",
       "\n",
       "        Origin Dest  Distance  TaxiIn   TaxiOut  Target  UniqueCarrier_9E  \\\n",
       "6731208    HOU  HRL -0.501515   -1.00 -0.545455    True                 0   \n",
       "609057     SJC  SEA  0.136364   -0.25 -0.636364    True                 0   \n",
       "889032     LAS  ONT -0.621212   -0.50 -0.363636    True                 0   \n",
       "5502092    IAH  JAX  0.318182   -0.25  0.363636    True                 0   \n",
       "1699584    DFW  PBI  0.751515   -0.25 -0.181818    True                 0   \n",
       "...        ...  ...       ...     ...       ...     ...               ...   \n",
       "511846     AUS  DFW -0.631818    2.25  0.272727    True                 0   \n",
       "636696     ISP  MCO  0.553030   -0.25  0.909091    True                 0   \n",
       "5079318    PHL  PHX  2.224242    0.00  0.090909    True                 0   \n",
       "51952      TPA  MDW  0.590909    0.00 -0.545455    True                 0   \n",
       "6423315    PBI  BOS  0.893939   -0.50 -0.454545    True                 0   \n",
       "\n",
       "         UniqueCarrier_AA  UniqueCarrier_AQ  UniqueCarrier_AS  \\\n",
       "6731208                 0                 0                 0   \n",
       "609057                  0                 0                 0   \n",
       "889032                  0                 0                 0   \n",
       "5502092                 0                 0                 0   \n",
       "1699584                 1                 0                 0   \n",
       "...                   ...               ...               ...   \n",
       "511846                  1                 0                 0   \n",
       "636696                  0                 0                 0   \n",
       "5079318                 0                 0                 0   \n",
       "51952                   0                 0                 0   \n",
       "6423315                 0                 0                 0   \n",
       "\n",
       "         UniqueCarrier_B6  UniqueCarrier_CO  UniqueCarrier_DL  \\\n",
       "6731208                 0                 0                 0   \n",
       "609057                  0                 0                 0   \n",
       "889032                  0                 0                 0   \n",
       "5502092                 0                 0                 0   \n",
       "1699584                 0                 0                 0   \n",
       "...                   ...               ...               ...   \n",
       "511846                  0                 0                 0   \n",
       "636696                  0                 0                 0   \n",
       "5079318                 0                 0                 0   \n",
       "51952                   0                 0                 0   \n",
       "6423315                 1                 0                 0   \n",
       "\n",
       "         UniqueCarrier_EV  UniqueCarrier_F9  UniqueCarrier_FL  \\\n",
       "6731208                 0                 0                 0   \n",
       "609057                  0                 0                 0   \n",
       "889032                  0                 0                 0   \n",
       "5502092                 0                 0                 0   \n",
       "1699584                 0                 0                 0   \n",
       "...                   ...               ...               ...   \n",
       "511846                  0                 0                 0   \n",
       "636696                  0                 0                 0   \n",
       "5079318                 0                 0                 0   \n",
       "51952                   0                 0                 0   \n",
       "6423315                 0                 0                 0   \n",
       "\n",
       "         UniqueCarrier_HA  UniqueCarrier_MQ  UniqueCarrier_NW  \\\n",
       "6731208                 0                 0                 0   \n",
       "609057                  0                 0                 0   \n",
       "889032                  0                 0                 0   \n",
       "5502092                 0                 0                 0   \n",
       "1699584                 0                 0                 0   \n",
       "...                   ...               ...               ...   \n",
       "511846                  0                 0                 0   \n",
       "636696                  0                 0                 0   \n",
       "5079318                 0                 0                 0   \n",
       "51952                   0                 0                 0   \n",
       "6423315                 0                 0                 0   \n",
       "\n",
       "         UniqueCarrier_OH  UniqueCarrier_OO  UniqueCarrier_UA  \\\n",
       "6731208                 0                 0                 0   \n",
       "609057                  0                 0                 0   \n",
       "889032                  0                 0                 0   \n",
       "5502092                 0                 0                 0   \n",
       "1699584                 0                 0                 0   \n",
       "...                   ...               ...               ...   \n",
       "511846                  0                 0                 0   \n",
       "636696                  0                 0                 0   \n",
       "5079318                 0                 0                 0   \n",
       "51952                   0                 0                 0   \n",
       "6423315                 0                 0                 0   \n",
       "\n",
       "         UniqueCarrier_US  UniqueCarrier_WN  UniqueCarrier_XE  \\\n",
       "6731208                 0                 1                 0   \n",
       "609057                  0                 1                 0   \n",
       "889032                  0                 1                 0   \n",
       "5502092                 0                 0                 1   \n",
       "1699584                 0                 0                 0   \n",
       "...                   ...               ...               ...   \n",
       "511846                  0                 0                 0   \n",
       "636696                  0                 1                 0   \n",
       "5079318                 1                 0                 0   \n",
       "51952                   0                 1                 0   \n",
       "6423315                 0                 0                 0   \n",
       "\n",
       "         UniqueCarrier_YV  \n",
       "6731208                 0  \n",
       "609057                  0  \n",
       "889032                  0  \n",
       "5502092                 0  \n",
       "1699584                 0  \n",
       "...                   ...  \n",
       "511846                  0  \n",
       "636696                  0  \n",
       "5079318                 0  \n",
       "51952                   0  \n",
       "6423315                 0  \n",
       "\n",
       "[192837 rows x 32 columns]"
      ]
     },
     "execution_count": 102,
     "metadata": {},
     "output_type": "execute_result"
    }
   ],
   "source": [
    "airlines2"
   ]
  },
  {
   "cell_type": "markdown",
   "id": "40bbc93c",
   "metadata": {},
   "source": [
    "Entrenaremos los 3 modelos con los parámetros optimizados y con los datos ya escalados. Haremos un Train/Test al 30%"
   ]
  },
  {
   "cell_type": "code",
   "execution_count": 103,
   "id": "2919e12b",
   "metadata": {},
   "outputs": [],
   "source": [
    "#Train/test con datos escalados y no balanceados\n",
    "y= airlines2['Target'].to_numpy()\n",
    "x= airlines2.drop(['ArrDelay', 'Target', 'Origin', 'Dest'], axis=1).to_numpy()\n",
    "X_train, X_test, y_train, y_test = train_test_split(x, y, test_size=0.30, random_state=0)"
   ]
  },
  {
   "cell_type": "markdown",
   "id": "fcd38dcd",
   "metadata": {},
   "source": [
    "### Model 1: Logistic Regression"
   ]
  },
  {
   "cell_type": "code",
   "execution_count": 104,
   "id": "a0bb6f3a",
   "metadata": {},
   "outputs": [
    {
     "data": {
      "text/plain": [
       "LogisticRegression(class_weight='Balanced', max_iter=1000, random_state=0,\n",
       "                   solver='newton-cg')"
      ]
     },
     "execution_count": 104,
     "metadata": {},
     "output_type": "execute_result"
    }
   ],
   "source": [
    "#Logistic Regression con datos escalados y no balancedados\n",
    "lr_esc = LogisticRegression(class_weight= 'Balanced', max_iter= 1000, solver= 'newton-cg', random_state=0)\n",
    "lr_esc.fit(X_train, y_train)"
   ]
  },
  {
   "cell_type": "code",
   "execution_count": 105,
   "id": "71ea93ab",
   "metadata": {},
   "outputs": [
    {
     "data": {
      "text/plain": [
       "{'Modelo': 'LogisticRegression_esc',\n",
       " 'Accuracy': 0.9026999930858052,\n",
       " 'Sensitivity': 0.9809109370467073,\n",
       " 'Specificity': 0.24483487880266797,\n",
       " 'Precision': 0.9161488439306359,\n",
       " 'F1Score': 0.947424461775557,\n",
       " 'ROC AUC Score': 0.6128729079246876}"
      ]
     },
     "execution_count": 105,
     "metadata": {},
     "output_type": "execute_result"
    }
   ],
   "source": [
    "metricas= obtener_metricas('LogisticRegression_esc', y_test, lr_esc.predict(X_test))\n",
    "metricas"
   ]
  },
  {
   "cell_type": "code",
   "execution_count": 106,
   "id": "048cf905",
   "metadata": {},
   "outputs": [
    {
     "data": {
      "text/html": [
       "<div>\n",
       "<style scoped>\n",
       "    .dataframe tbody tr th:only-of-type {\n",
       "        vertical-align: middle;\n",
       "    }\n",
       "\n",
       "    .dataframe tbody tr th {\n",
       "        vertical-align: top;\n",
       "    }\n",
       "\n",
       "    .dataframe thead th {\n",
       "        text-align: right;\n",
       "    }\n",
       "</style>\n",
       "<table border=\"1\" class=\"dataframe\">\n",
       "  <thead>\n",
       "    <tr style=\"text-align: right;\">\n",
       "      <th></th>\n",
       "      <th>Modelo</th>\n",
       "      <th>Accuracy</th>\n",
       "      <th>Sensitivity</th>\n",
       "      <th>Specificity</th>\n",
       "      <th>Precision</th>\n",
       "      <th>F1Score</th>\n",
       "      <th>ROC AUC Score</th>\n",
       "    </tr>\n",
       "  </thead>\n",
       "  <tbody>\n",
       "    <tr>\n",
       "      <th>0</th>\n",
       "      <td>LogisticRegression_esc</td>\n",
       "      <td>0.9027</td>\n",
       "      <td>0.980911</td>\n",
       "      <td>0.244835</td>\n",
       "      <td>0.916149</td>\n",
       "      <td>0.947424</td>\n",
       "      <td>0.612873</td>\n",
       "    </tr>\n",
       "  </tbody>\n",
       "</table>\n",
       "</div>"
      ],
      "text/plain": [
       "                   Modelo  Accuracy  Sensitivity  Specificity  Precision  \\\n",
       "0  LogisticRegression_esc    0.9027     0.980911     0.244835   0.916149   \n",
       "\n",
       "    F1Score  ROC AUC Score  \n",
       "0  0.947424       0.612873  "
      ]
     },
     "execution_count": 106,
     "metadata": {},
     "output_type": "execute_result"
    }
   ],
   "source": [
    "#Generamos un DF con las métricas para poder hacer una comparativa\n",
    "metricas2_sc = pd.DataFrame(metricas, index=[0])\n",
    "metricas2_sc"
   ]
  },
  {
   "cell_type": "markdown",
   "id": "01c43bec",
   "metadata": {},
   "source": [
    "### Model 2: Ada Boost Classifier"
   ]
  },
  {
   "cell_type": "code",
   "execution_count": 107,
   "id": "600956a9",
   "metadata": {},
   "outputs": [
    {
     "data": {
      "text/plain": [
       "AdaBoostClassifier(n_estimators=90, random_state=0)"
      ]
     },
     "execution_count": 107,
     "metadata": {},
     "output_type": "execute_result"
    }
   ],
   "source": [
    "#Ada Bost Classifier con datos escalados y no balancedados\n",
    "adab_sc = AdaBoostClassifier(n_estimators= 90, random_state=0)\n",
    "adab_sc.fit(X_train, y_train)"
   ]
  },
  {
   "cell_type": "code",
   "execution_count": 108,
   "id": "1fe9ec9d",
   "metadata": {},
   "outputs": [
    {
     "data": {
      "text/plain": [
       "{'Modelo': 'AdaBostClassifier_esc',\n",
       " 'Accuracy': 0.9028728479568554,\n",
       " 'Sensitivity': 0.9747413209554202,\n",
       " 'Specificity': 0.2983569220758093,\n",
       " 'Precision': 0.9211690305600234,\n",
       " 'F1Score': 0.947198285988141,\n",
       " 'ROC AUC Score': 0.6365491215156148}"
      ]
     },
     "execution_count": 108,
     "metadata": {},
     "output_type": "execute_result"
    }
   ],
   "source": [
    "metricas= obtener_metricas('AdaBostClassifier_esc', y_test, adab_sc.predict(X_test))\n",
    "metricas"
   ]
  },
  {
   "cell_type": "code",
   "execution_count": 109,
   "id": "175e5d87",
   "metadata": {},
   "outputs": [],
   "source": [
    "#Añadimos las métricas al DF metricas2_sc para la comparativa posterior\n",
    "metricas2_sc = metricas2_sc.append(metricas, ignore_index=True)"
   ]
  },
  {
   "cell_type": "markdown",
   "id": "51633f63",
   "metadata": {},
   "source": [
    "### Model 3: BalancedBaggingClassifier"
   ]
  },
  {
   "cell_type": "code",
   "execution_count": 110,
   "id": "ae13dcc6",
   "metadata": {},
   "outputs": [
    {
     "data": {
      "text/plain": [
       "BalancedBaggingClassifier(n_estimators=30, random_state=0)"
      ]
     },
     "execution_count": 110,
     "metadata": {},
     "output_type": "execute_result"
    }
   ],
   "source": [
    "#BalancedBaggingClassifier con datos escalados y no balancedados\n",
    "bbc_sc = BalancedBaggingClassifier(n_estimators= 30, random_state=0)\n",
    "bbc_sc.fit(X_train, y_train)"
   ]
  },
  {
   "cell_type": "code",
   "execution_count": 111,
   "id": "6d0253f7",
   "metadata": {},
   "outputs": [
    {
     "data": {
      "text/plain": [
       "{'Modelo': 'BalancedBaggingClassifier_sc',\n",
       " 'Accuracy': 0.8251572979326558,\n",
       " 'Sensitivity': 0.8227830964123393,\n",
       " 'Specificity': 0.8451277045713356,\n",
       " 'Precision': 0.9781119234836989,\n",
       " 'F1Score': 0.8937488839168478,\n",
       " 'ROC AUC Score': 0.8339554004918374}"
      ]
     },
     "execution_count": 111,
     "metadata": {},
     "output_type": "execute_result"
    }
   ],
   "source": [
    "metricas= obtener_metricas('BalancedBaggingClassifier_sc', y_test, bbc_sc.predict(X_test))\n",
    "metricas"
   ]
  },
  {
   "cell_type": "code",
   "execution_count": 112,
   "id": "ddce5109",
   "metadata": {},
   "outputs": [],
   "source": [
    "#Añadimos las métricas al DF metricas2_sc para la comparativa posterior\n",
    "metricas2_sc = metricas2_sc.append(metricas, ignore_index=True)"
   ]
  },
  {
   "cell_type": "markdown",
   "id": "2df0231e",
   "metadata": {},
   "source": [
    "Comparamos las métricas de los modelos optimizados con las métricas de los modelos optimizados y datos escalados "
   ]
  },
  {
   "cell_type": "code",
   "execution_count": 119,
   "id": "2ea45b1a",
   "metadata": {},
   "outputs": [
    {
     "data": {
      "text/html": [
       "<div>\n",
       "<style scoped>\n",
       "    .dataframe tbody tr th:only-of-type {\n",
       "        vertical-align: middle;\n",
       "    }\n",
       "\n",
       "    .dataframe tbody tr th {\n",
       "        vertical-align: top;\n",
       "    }\n",
       "\n",
       "    .dataframe thead th {\n",
       "        text-align: right;\n",
       "    }\n",
       "</style>\n",
       "<table border=\"1\" class=\"dataframe\">\n",
       "  <thead>\n",
       "    <tr style=\"text-align: right;\">\n",
       "      <th></th>\n",
       "      <th>Modelo</th>\n",
       "      <th>Accuracy</th>\n",
       "      <th>Sensitivity</th>\n",
       "      <th>Specificity</th>\n",
       "      <th>Precision</th>\n",
       "      <th>F1Score</th>\n",
       "      <th>ROC AUC Score</th>\n",
       "    </tr>\n",
       "  </thead>\n",
       "  <tbody>\n",
       "    <tr>\n",
       "      <th>0</th>\n",
       "      <td>LogisticRegression_optim</td>\n",
       "      <td>0.902804</td>\n",
       "      <td>0.980756</td>\n",
       "      <td>0.247112</td>\n",
       "      <td>0.916368</td>\n",
       "      <td>0.947470</td>\n",
       "      <td>0.613934</td>\n",
       "    </tr>\n",
       "    <tr>\n",
       "      <th>1</th>\n",
       "      <td>AdaBoostClassifier_optim</td>\n",
       "      <td>0.902873</td>\n",
       "      <td>0.974741</td>\n",
       "      <td>0.298357</td>\n",
       "      <td>0.921169</td>\n",
       "      <td>0.947198</td>\n",
       "      <td>0.636549</td>\n",
       "    </tr>\n",
       "    <tr>\n",
       "      <th>2</th>\n",
       "      <td>BalancedBaggingClassifier_optim</td>\n",
       "      <td>0.825175</td>\n",
       "      <td>0.822648</td>\n",
       "      <td>0.846429</td>\n",
       "      <td>0.978288</td>\n",
       "      <td>0.893743</td>\n",
       "      <td>0.834538</td>\n",
       "    </tr>\n",
       "    <tr>\n",
       "      <th>0</th>\n",
       "      <td>LogisticRegression_esc</td>\n",
       "      <td>0.902700</td>\n",
       "      <td>0.980911</td>\n",
       "      <td>0.244835</td>\n",
       "      <td>0.916149</td>\n",
       "      <td>0.947424</td>\n",
       "      <td>0.612873</td>\n",
       "    </tr>\n",
       "    <tr>\n",
       "      <th>1</th>\n",
       "      <td>AdaBostClassifier_esc</td>\n",
       "      <td>0.902873</td>\n",
       "      <td>0.974741</td>\n",
       "      <td>0.298357</td>\n",
       "      <td>0.921169</td>\n",
       "      <td>0.947198</td>\n",
       "      <td>0.636549</td>\n",
       "    </tr>\n",
       "    <tr>\n",
       "      <th>2</th>\n",
       "      <td>BalancedBaggingClassifier_sc</td>\n",
       "      <td>0.825157</td>\n",
       "      <td>0.822783</td>\n",
       "      <td>0.845128</td>\n",
       "      <td>0.978112</td>\n",
       "      <td>0.893749</td>\n",
       "      <td>0.833955</td>\n",
       "    </tr>\n",
       "  </tbody>\n",
       "</table>\n",
       "</div>"
      ],
      "text/plain": [
       "                            Modelo  Accuracy  Sensitivity  Specificity  \\\n",
       "0         LogisticRegression_optim  0.902804     0.980756     0.247112   \n",
       "1         AdaBoostClassifier_optim  0.902873     0.974741     0.298357   \n",
       "2  BalancedBaggingClassifier_optim  0.825175     0.822648     0.846429   \n",
       "0           LogisticRegression_esc  0.902700     0.980911     0.244835   \n",
       "1            AdaBostClassifier_esc  0.902873     0.974741     0.298357   \n",
       "2     BalancedBaggingClassifier_sc  0.825157     0.822783     0.845128   \n",
       "\n",
       "   Precision   F1Score  ROC AUC Score  \n",
       "0   0.916368  0.947470       0.613934  \n",
       "1   0.921169  0.947198       0.636549  \n",
       "2   0.978288  0.893743       0.834538  \n",
       "0   0.916149  0.947424       0.612873  \n",
       "1   0.921169  0.947198       0.636549  \n",
       "2   0.978112  0.893749       0.833955  "
      ]
     },
     "execution_count": 119,
     "metadata": {},
     "output_type": "execute_result"
    }
   ],
   "source": [
    "pd.concat([metricas2, metricas2_sc], axis=0).drop('F1Score_CV', axis=1)"
   ]
  },
  {
   "cell_type": "markdown",
   "id": "d919d8d9",
   "metadata": {},
   "source": [
    "Al comparar las métricas de los modelos optimizados con datos no escalados y con datos escalados observamos que no muestran diferencias sensibles en las métricas, es decir, que en estos modelos **el escalado no afecta al resultado**"
   ]
  },
  {
   "cell_type": "markdown",
   "id": "16d80d07",
   "metadata": {},
   "source": [
    "### - Exercici 6\n",
    "\n",
    "No utilitzis la variable DepDelay a l’hora de fer prediccions"
   ]
  },
  {
   "cell_type": "markdown",
   "id": "94bc5d2b",
   "metadata": {},
   "source": [
    "A partir de los datos ya escalados del ejercicio anterior, eliminamos **DepDelay**.    \n",
    "\n",
    "No utilizo **CarrierDelay, WeatherDelay, NASDelay, SecurityDelay, SecurityDelay, LateAircraftDelay** ya que para los vuelos con un retraso >15', su suma es exactamente DepDelay. Si elimino DepDelay en el momento de hacer predicciones y utilizo unas variables que equivalen a su suma, poco cambiará la predicción."
   ]
  },
  {
   "cell_type": "code",
   "execution_count": 120,
   "id": "aac890c8",
   "metadata": {},
   "outputs": [],
   "source": [
    "#Train/test con datos escalados y sin la variable DepDelay\n",
    "y= airlines2['Target'].to_numpy()\n",
    "x= airlines2.drop(['ArrDelay', 'Target', 'Origin', 'Dest', 'DepDelay'], axis=1).to_numpy()\n",
    "X_train, X_test, y_train, y_test = train_test_split(x, y, test_size=0.30, random_state=0)"
   ]
  },
  {
   "cell_type": "markdown",
   "id": "51dff8c1",
   "metadata": {},
   "source": [
    "### Model 1: Logistic Regression"
   ]
  },
  {
   "cell_type": "code",
   "execution_count": 121,
   "id": "e9a2623e",
   "metadata": {},
   "outputs": [
    {
     "data": {
      "text/plain": [
       "LogisticRegression(class_weight='Balanced', max_iter=1000, random_state=0,\n",
       "                   solver='newton-cg')"
      ]
     },
     "execution_count": 121,
     "metadata": {},
     "output_type": "execute_result"
    }
   ],
   "source": [
    "#Logistic Regression con datos escalados y sin la variable DepDelay\n",
    "lr_3 = LogisticRegression(class_weight= 'Balanced', max_iter= 1000, solver= 'newton-cg',random_state=0)\n",
    "lr_3.fit(X_train, y_train)"
   ]
  },
  {
   "cell_type": "code",
   "execution_count": 122,
   "id": "78062912",
   "metadata": {},
   "outputs": [
    {
     "data": {
      "text/plain": [
       "{'Modelo': 'LogisticRegression_3',\n",
       " 'Accuracy': 0.8930546912812003,\n",
       " 'Sensitivity': 0.998317377429649,\n",
       " 'Specificity': 0.007646006181877338,\n",
       " 'Precision': 0.8943137322845559,\n",
       " 'F1Score': 0.9434579567367006,\n",
       " 'ROC AUC Score': 0.5029816918057632}"
      ]
     },
     "execution_count": 122,
     "metadata": {},
     "output_type": "execute_result"
    }
   ],
   "source": [
    "metricas= obtener_metricas('LogisticRegression_3', y_test, lr_3.predict(X_test))\n",
    "metricas"
   ]
  },
  {
   "cell_type": "code",
   "execution_count": 123,
   "id": "9c1b9db6",
   "metadata": {},
   "outputs": [
    {
     "data": {
      "text/html": [
       "<div>\n",
       "<style scoped>\n",
       "    .dataframe tbody tr th:only-of-type {\n",
       "        vertical-align: middle;\n",
       "    }\n",
       "\n",
       "    .dataframe tbody tr th {\n",
       "        vertical-align: top;\n",
       "    }\n",
       "\n",
       "    .dataframe thead th {\n",
       "        text-align: right;\n",
       "    }\n",
       "</style>\n",
       "<table border=\"1\" class=\"dataframe\">\n",
       "  <thead>\n",
       "    <tr style=\"text-align: right;\">\n",
       "      <th></th>\n",
       "      <th>Modelo</th>\n",
       "      <th>Accuracy</th>\n",
       "      <th>Sensitivity</th>\n",
       "      <th>Specificity</th>\n",
       "      <th>Precision</th>\n",
       "      <th>F1Score</th>\n",
       "      <th>ROC AUC Score</th>\n",
       "    </tr>\n",
       "  </thead>\n",
       "  <tbody>\n",
       "    <tr>\n",
       "      <th>0</th>\n",
       "      <td>LogisticRegression_3</td>\n",
       "      <td>0.893055</td>\n",
       "      <td>0.998317</td>\n",
       "      <td>0.007646</td>\n",
       "      <td>0.894314</td>\n",
       "      <td>0.943458</td>\n",
       "      <td>0.502982</td>\n",
       "    </tr>\n",
       "  </tbody>\n",
       "</table>\n",
       "</div>"
      ],
      "text/plain": [
       "                 Modelo  Accuracy  Sensitivity  Specificity  Precision  \\\n",
       "0  LogisticRegression_3  0.893055     0.998317     0.007646   0.894314   \n",
       "\n",
       "    F1Score  ROC AUC Score  \n",
       "0  0.943458       0.502982  "
      ]
     },
     "execution_count": 123,
     "metadata": {},
     "output_type": "execute_result"
    }
   ],
   "source": [
    "#Generamos un DF con las métricas para poder hacer una comparativa\n",
    "metricas3 = pd.DataFrame(metricas, index=[0])\n",
    "metricas3"
   ]
  },
  {
   "cell_type": "markdown",
   "id": "95e06164",
   "metadata": {},
   "source": [
    "### Model 2: Ada Boost Classifier"
   ]
  },
  {
   "cell_type": "code",
   "execution_count": 124,
   "id": "f3319005",
   "metadata": {},
   "outputs": [
    {
     "data": {
      "text/plain": [
       "AdaBoostClassifier(n_estimators=90, random_state=0)"
      ]
     },
     "execution_count": 124,
     "metadata": {},
     "output_type": "execute_result"
    }
   ],
   "source": [
    "#Ada Bost Classifier con datos escalados y sin la variable DepDelay\n",
    "adab_3 = AdaBoostClassifier(n_estimators= 90, random_state=0)\n",
    "adab_3.fit(X_train, y_train)"
   ]
  },
  {
   "cell_type": "code",
   "execution_count": 125,
   "id": "82aa995b",
   "metadata": {},
   "outputs": [
    {
     "data": {
      "text/plain": [
       "{'Modelo': 'AdaBoostClassifier_3',\n",
       " 'Accuracy': 0.8933312590748808,\n",
       " 'Sensitivity': 0.9983947393869065,\n",
       " 'Specificity': 0.009598177972994957,\n",
       " 'Precision': 0.89450701784786,\n",
       " 'F1Score': 0.9436000548370881,\n",
       " 'ROC AUC Score': 0.5039964586799508}"
      ]
     },
     "execution_count": 125,
     "metadata": {},
     "output_type": "execute_result"
    }
   ],
   "source": [
    "metricas= obtener_metricas('AdaBoostClassifier_3', y_test, adab_3.predict(X_test))\n",
    "metricas"
   ]
  },
  {
   "cell_type": "code",
   "execution_count": 126,
   "id": "8c600d46",
   "metadata": {},
   "outputs": [],
   "source": [
    "#Añadimos las métricas al DF metricas2_sc para la comparativa posterior\n",
    "metricas3 = metricas3.append(metricas, ignore_index=True)"
   ]
  },
  {
   "cell_type": "markdown",
   "id": "ed1ee12f",
   "metadata": {},
   "source": [
    "### Model 3: BalancedBaggingClassifier"
   ]
  },
  {
   "cell_type": "code",
   "execution_count": 127,
   "id": "9032b42f",
   "metadata": {},
   "outputs": [
    {
     "data": {
      "text/plain": [
       "BalancedBaggingClassifier(n_estimators=30, random_state=0)"
      ]
     },
     "execution_count": 127,
     "metadata": {},
     "output_type": "execute_result"
    }
   ],
   "source": [
    "#BalancedBaggingClassifier con datos escalados y sin la variable DepDelay\n",
    "bbc_3 = BalancedBaggingClassifier(n_estimators= 30, random_state=0)\n",
    "bbc_3.fit(X_train, y_train)"
   ]
  },
  {
   "cell_type": "code",
   "execution_count": 128,
   "id": "43e5fc05",
   "metadata": {},
   "outputs": [
    {
     "data": {
      "text/plain": [
       "{'Modelo': 'BalancedBaggingClassifier_3',\n",
       " 'Accuracy': 0.7112632233976354,\n",
       " 'Sensitivity': 0.728633594429939,\n",
       " 'Specificity': 0.5651537335285505,\n",
       " 'Precision': 0.9337497211688601,\n",
       " 'F1Score': 0.8185373484552209,\n",
       " 'ROC AUC Score': 0.6468936639792447}"
      ]
     },
     "execution_count": 128,
     "metadata": {},
     "output_type": "execute_result"
    }
   ],
   "source": [
    "metricas= obtener_metricas('BalancedBaggingClassifier_3', y_test, bbc_3.predict(X_test))\n",
    "metricas"
   ]
  },
  {
   "cell_type": "code",
   "execution_count": 129,
   "id": "e9971982",
   "metadata": {},
   "outputs": [],
   "source": [
    "#Añadimos las métricas al DF metricas2_sc para la comparativa posterior\n",
    "metricas3 = metricas3.append(metricas, ignore_index=True)"
   ]
  },
  {
   "cell_type": "markdown",
   "id": "9f539220",
   "metadata": {},
   "source": [
    "Comparamos las métricas de los modelos en los que no hemos utilizado la variable DepDelay con los modelos que si la utilizaron"
   ]
  },
  {
   "cell_type": "code",
   "execution_count": 132,
   "id": "c01a9511",
   "metadata": {},
   "outputs": [
    {
     "data": {
      "text/html": [
       "<div>\n",
       "<style scoped>\n",
       "    .dataframe tbody tr th:only-of-type {\n",
       "        vertical-align: middle;\n",
       "    }\n",
       "\n",
       "    .dataframe tbody tr th {\n",
       "        vertical-align: top;\n",
       "    }\n",
       "\n",
       "    .dataframe thead th {\n",
       "        text-align: right;\n",
       "    }\n",
       "</style>\n",
       "<table border=\"1\" class=\"dataframe\">\n",
       "  <thead>\n",
       "    <tr style=\"text-align: right;\">\n",
       "      <th></th>\n",
       "      <th>Modelo</th>\n",
       "      <th>Accuracy</th>\n",
       "      <th>Sensitivity</th>\n",
       "      <th>Specificity</th>\n",
       "      <th>Precision</th>\n",
       "      <th>F1Score</th>\n",
       "      <th>ROC AUC Score</th>\n",
       "    </tr>\n",
       "  </thead>\n",
       "  <tbody>\n",
       "    <tr>\n",
       "      <th>0</th>\n",
       "      <td>LogisticRegression_optim</td>\n",
       "      <td>0.902804</td>\n",
       "      <td>0.980756</td>\n",
       "      <td>0.247112</td>\n",
       "      <td>0.916368</td>\n",
       "      <td>0.947470</td>\n",
       "      <td>0.613934</td>\n",
       "    </tr>\n",
       "    <tr>\n",
       "      <th>1</th>\n",
       "      <td>AdaBoostClassifier_optim</td>\n",
       "      <td>0.902873</td>\n",
       "      <td>0.974741</td>\n",
       "      <td>0.298357</td>\n",
       "      <td>0.921169</td>\n",
       "      <td>0.947198</td>\n",
       "      <td>0.636549</td>\n",
       "    </tr>\n",
       "    <tr>\n",
       "      <th>2</th>\n",
       "      <td>BalancedBaggingClassifier_optim</td>\n",
       "      <td>0.825175</td>\n",
       "      <td>0.822648</td>\n",
       "      <td>0.846429</td>\n",
       "      <td>0.978288</td>\n",
       "      <td>0.893743</td>\n",
       "      <td>0.834538</td>\n",
       "    </tr>\n",
       "    <tr>\n",
       "      <th>0</th>\n",
       "      <td>LogisticRegression_3</td>\n",
       "      <td>0.893055</td>\n",
       "      <td>0.998317</td>\n",
       "      <td>0.007646</td>\n",
       "      <td>0.894314</td>\n",
       "      <td>0.943458</td>\n",
       "      <td>0.502982</td>\n",
       "    </tr>\n",
       "    <tr>\n",
       "      <th>1</th>\n",
       "      <td>AdaBoostClassifier_3</td>\n",
       "      <td>0.893331</td>\n",
       "      <td>0.998395</td>\n",
       "      <td>0.009598</td>\n",
       "      <td>0.894507</td>\n",
       "      <td>0.943600</td>\n",
       "      <td>0.503996</td>\n",
       "    </tr>\n",
       "    <tr>\n",
       "      <th>2</th>\n",
       "      <td>BalancedBaggingClassifier_3</td>\n",
       "      <td>0.711263</td>\n",
       "      <td>0.728634</td>\n",
       "      <td>0.565154</td>\n",
       "      <td>0.933750</td>\n",
       "      <td>0.818537</td>\n",
       "      <td>0.646894</td>\n",
       "    </tr>\n",
       "  </tbody>\n",
       "</table>\n",
       "</div>"
      ],
      "text/plain": [
       "                            Modelo  Accuracy  Sensitivity  Specificity  \\\n",
       "0         LogisticRegression_optim  0.902804     0.980756     0.247112   \n",
       "1         AdaBoostClassifier_optim  0.902873     0.974741     0.298357   \n",
       "2  BalancedBaggingClassifier_optim  0.825175     0.822648     0.846429   \n",
       "0             LogisticRegression_3  0.893055     0.998317     0.007646   \n",
       "1             AdaBoostClassifier_3  0.893331     0.998395     0.009598   \n",
       "2      BalancedBaggingClassifier_3  0.711263     0.728634     0.565154   \n",
       "\n",
       "   Precision   F1Score  ROC AUC Score  \n",
       "0   0.916368  0.947470       0.613934  \n",
       "1   0.921169  0.947198       0.636549  \n",
       "2   0.978288  0.893743       0.834538  \n",
       "0   0.894314  0.943458       0.502982  \n",
       "1   0.894507  0.943600       0.503996  \n",
       "2   0.933750  0.818537       0.646894  "
      ]
     },
     "execution_count": 132,
     "metadata": {},
     "output_type": "execute_result"
    }
   ],
   "source": [
    "pd.concat([metricas2, metricas3], axis=0).drop('F1Score_CV', axis=1)"
   ]
  },
  {
   "cell_type": "markdown",
   "id": "dde00e63",
   "metadata": {},
   "source": [
    "De los modelos que no utilizan la variable **DepDelay** observamos:\n",
    "- Las métricas **Accuracy, Sensitivity y Precision** tienen unos valores similares a los modelos que utilizan DepDelay\n",
    "- **ROC AUC Score** tambien presenta un valor más bajo, entre un 16% y un 22%\n",
    "- La métrica más afectada es la **Specificity**. En el caso de LogisticRegression y AdaBoostClassifier pasa a ser 0 (practicamente no detecta los negativos). En el caso de BalancedBaggingClassifier la Specificity es de 0.56, un 33% menor"
   ]
  },
  {
   "cell_type": "markdown",
   "id": "f96d67c0",
   "metadata": {},
   "source": [
    "## Conclusiones finales\n",
    "\n",
    "Trabajamos un data set con los vuelos en USA del 2008. El objetivo en encontrar un modelo que determine si el vuelo llegará retrasado o no. Características del dataset:\n",
    "- Es un dataset **desbalanceado** (90% vuelos retrasados, 10% vuelos no retrasados)\n",
    "- La variable **DepDelay** consigue una **accuracy y precision de 0.89** por ella sola, sin crear ningún modelo\n",
    "- 5 variables (CarrierDelay, WeatherDelay, NASDelay, SecurityDelay,LateAircraftDelay suman el valor del target para vuelos que ArrDelay>15'\n",
    "- El resto de variables presentan correlaciones muy bajas con el target\n",
    " \n",
    "Planteamos 3 modelos de clasificación utilizando 9 variables, una de ellas dummificada. Uno de los modelos balancea los datos previamente y los otros 2 modelos los entrenamos con datos no balanceados y con datos balanceados. Concluímos:\n",
    "- Los modelos no balanceados, aunque presentan una accuracy, sensitivity y precision altas, tienen en realidad un pobre desempeño ya que la specificity es muy baja (menor de 0.3)\n",
    "- Al utilizar datos o modelos balanceados obtenemos una mejora sustancial en **specificity (más del doble)** y una ligera mejora en precisión. Por contra los modelos **bajan ligeramente en accuracy y moderardamente en sensitivity.**\n",
    "- Los modelos con datos balanceados presentan una métricas parecidas, dependiendo de la metrica que deseemos optimizar eligiríamos modelo. \n",
    "- Ajustamos los parámetros de los modelos con GridSearch y conseguimos una **ligera mejora de todas las métricas (1,4%)**\n",
    "- Entrenamos los modelos con Train/Test y con Cross Validation y **no observamos diferencias.** \n",
    "\n",
    "Planteamos los 3 modelos tras realizar una ingeniería de variables (algunas normalizamos y otras RobustScaler). No apreciamos diferencias significativas por lo que concluímos que **el escalado de variables no afecta** a los modelos estudiados\n",
    "\n",
    "Finalmente creamos 3 modelos sin utilizar la variable DepDelay. Obtenemos:\n",
    "- La **specificity** empeora significativamente (en el caso de los modelos que no utilizan datos balanceados llega a ser de 0)\n",
    "- **ROC AUC Score** presenta un valor más bajo, entre un 16% y un 22%\n",
    "- **Accuracy, Sensitivity y Precision** tienen unos valores similares a los modelos que utilizan DepDelay"
   ]
  },
  {
   "cell_type": "code",
   "execution_count": null,
   "id": "60dbb5af",
   "metadata": {},
   "outputs": [],
   "source": []
  },
  {
   "cell_type": "code",
   "execution_count": null,
   "id": "1d44bf24",
   "metadata": {},
   "outputs": [],
   "source": []
  }
 ],
 "metadata": {
  "kernelspec": {
   "display_name": "Python 3 (ipykernel)",
   "language": "python",
   "name": "python3"
  },
  "language_info": {
   "codemirror_mode": {
    "name": "ipython",
    "version": 3
   },
   "file_extension": ".py",
   "mimetype": "text/x-python",
   "name": "python",
   "nbconvert_exporter": "python",
   "pygments_lexer": "ipython3",
   "version": "3.9.7"
  }
 },
 "nbformat": 4,
 "nbformat_minor": 5
}
